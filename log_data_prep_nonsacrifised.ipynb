{
 "cells": [
  {
   "cell_type": "markdown",
   "metadata": {},
   "source": [
    "## Prepare the dataset in csv formate without sacrificing data"
   ]
  },
  {
   "cell_type": "code",
   "execution_count": 1,
   "metadata": {},
   "outputs": [],
   "source": [
    "import numpy as np\n",
    "import pandas as pd\n",
    "import lasio\n",
    "import os\n",
    "import shutil"
   ]
  },
  {
   "cell_type": "code",
   "execution_count": 2,
   "metadata": {},
   "outputs": [],
   "source": [
    "data_dir = \"./2017_kansas_log_data\"\n",
    "f_names = os.listdir(data_dir)\n",
    "df_list = []"
   ]
  },
  {
   "cell_type": "code",
   "execution_count": 3,
   "metadata": {},
   "outputs": [
    {
     "name": "stdout",
     "output_type": "stream",
     "text": [
      "Scanning file ./2017_kansas_log_data\\1046139243.las\n",
      "Scanning file ./2017_kansas_log_data\\1046139249.las\n",
      "Scanning file ./2017_kansas_log_data\\1046139256.las\n",
      "Scanning file ./2017_kansas_log_data\\1046139308.las\n",
      "Scanning file ./2017_kansas_log_data\\1046139314.las\n",
      "Scanning file ./2017_kansas_log_data\\1046139325.las\n",
      "Scanning file ./2017_kansas_log_data\\1046139326.las\n",
      "Scanning file ./2017_kansas_log_data\\1046139330.las\n",
      "Scanning file ./2017_kansas_log_data\\1046139339.las\n",
      "Scanning file ./2017_kansas_log_data\\1046139348.las\n",
      "Scanning file ./2017_kansas_log_data\\1046139370.las\n",
      "Scanning file ./2017_kansas_log_data\\1046139374.las\n",
      "Scanning file ./2017_kansas_log_data\\1046139418.las\n",
      "Scanning file ./2017_kansas_log_data\\1046139427.las\n",
      "Scanning file ./2017_kansas_log_data\\1046139439.las\n",
      "Scanning file ./2017_kansas_log_data\\1046139479.las\n",
      "Scanning file ./2017_kansas_log_data\\1046139510.las\n",
      "Scanning file ./2017_kansas_log_data\\1046139511.las\n",
      "Scanning file ./2017_kansas_log_data\\1046139542.las\n",
      "Scanning file ./2017_kansas_log_data\\1046139555.las\n",
      "Scanning file ./2017_kansas_log_data\\1046139556.las\n",
      "Scanning file ./2017_kansas_log_data\\1046139566.las\n",
      "Scanning file ./2017_kansas_log_data\\1046139574.las\n",
      "Scanning file ./2017_kansas_log_data\\1046139578.las\n",
      "Scanning file ./2017_kansas_log_data\\1046139599.las\n",
      "Scanning file ./2017_kansas_log_data\\1046139604.las\n",
      "Scanning file ./2017_kansas_log_data\\1046139607.las\n",
      "Scanning file ./2017_kansas_log_data\\1046139610.las\n",
      "Scanning file ./2017_kansas_log_data\\1046139620.las\n",
      "Scanning file ./2017_kansas_log_data\\1046139624.las\n",
      "Scanning file ./2017_kansas_log_data\\1046139629.las\n",
      "Scanning file ./2017_kansas_log_data\\1046139630.las\n",
      "Scanning file ./2017_kansas_log_data\\1046139637.las\n"
     ]
    },
    {
     "name": "stderr",
     "output_type": "stream",
     "text": [
      "Header section Parameter regexp=~P was not found.\n"
     ]
    },
    {
     "name": "stdout",
     "output_type": "stream",
     "text": [
      "Scanning file ./2017_kansas_log_data\\1046139647.las\n"
     ]
    },
    {
     "name": "stderr",
     "output_type": "stream",
     "text": [
      "Header section Parameter regexp=~P was not found.\n"
     ]
    },
    {
     "name": "stdout",
     "output_type": "stream",
     "text": [
      "Scanning file ./2017_kansas_log_data\\1046139649.las\n",
      "Scanning file ./2017_kansas_log_data\\1046139669.las\n",
      "Scanning file ./2017_kansas_log_data\\1046139682.las\n",
      "Scanning file ./2017_kansas_log_data\\1046139683.las\n",
      "Scanning file ./2017_kansas_log_data\\1046139686.las\n",
      "Scanning file ./2017_kansas_log_data\\1046139702.las\n",
      "Scanning file ./2017_kansas_log_data\\1046139729.las\n",
      "Scanning file ./2017_kansas_log_data\\1046139749.las\n",
      "Scanning file ./2017_kansas_log_data\\1046139759.las\n",
      "Scanning file ./2017_kansas_log_data\\1046139773.las\n",
      "Scanning file ./2017_kansas_log_data\\1046139781.las\n",
      "Scanning file ./2017_kansas_log_data\\1046139791.las\n",
      "Scanning file ./2017_kansas_log_data\\1046139795.las\n",
      "Scanning file ./2017_kansas_log_data\\1046139799.las\n",
      "Scanning file ./2017_kansas_log_data\\1046139801.las\n",
      "Scanning file ./2017_kansas_log_data\\1046139812.las\n",
      "Scanning file ./2017_kansas_log_data\\1046139815.las\n",
      "Scanning file ./2017_kansas_log_data\\1046139829.las\n"
     ]
    },
    {
     "name": "stderr",
     "output_type": "stream",
     "text": [
      "Header section Parameter regexp=~P was not found.\n"
     ]
    },
    {
     "name": "stdout",
     "output_type": "stream",
     "text": [
      "Scanning file ./2017_kansas_log_data\\1046139839.las\n",
      "Scanning file ./2017_kansas_log_data\\1046139843.las\n",
      "Scanning file ./2017_kansas_log_data\\1046139850.las\n"
     ]
    },
    {
     "name": "stderr",
     "output_type": "stream",
     "text": [
      "Header section Parameter regexp=~P was not found.\n"
     ]
    },
    {
     "name": "stdout",
     "output_type": "stream",
     "text": [
      "Scanning file ./2017_kansas_log_data\\1046139852.las\n",
      "Scanning file ./2017_kansas_log_data\\1046139860.las\n",
      "Scanning file ./2017_kansas_log_data\\1046139866.las\n",
      "Scanning file ./2017_kansas_log_data\\1046139873.las\n"
     ]
    },
    {
     "name": "stderr",
     "output_type": "stream",
     "text": [
      "Header section Parameter regexp=~P was not found.\n"
     ]
    },
    {
     "name": "stdout",
     "output_type": "stream",
     "text": [
      "Scanning file ./2017_kansas_log_data\\1046139881.las\n",
      "Scanning file ./2017_kansas_log_data\\1046139884.las\n",
      "Scanning file ./2017_kansas_log_data\\1046139900.las\n",
      "Scanning file ./2017_kansas_log_data\\1046139904.las\n",
      "Scanning file ./2017_kansas_log_data\\1046139914.las\n",
      "Scanning file ./2017_kansas_log_data\\1046139918.las\n",
      "Scanning file ./2017_kansas_log_data\\1046139920.las\n",
      "Scanning file ./2017_kansas_log_data\\1046139922.las\n",
      "Scanning file ./2017_kansas_log_data\\1046139930.las\n",
      "Scanning file ./2017_kansas_log_data\\1046139934.las\n"
     ]
    },
    {
     "name": "stderr",
     "output_type": "stream",
     "text": [
      "Unable to parse line as LAS header: TCS .                   15 11:  Time Ciculation Ended\n",
      "line 82 (section ~Parameter Information Block): \"TCS .                   15 11:  Time Ciculation Ended\"\n",
      "Unable to parse line as LAS header: TLAB.                   15 11:  LogStartTimeT\n",
      "line 84 (section ~Parameter Information Block): \"TLAB.                   15 11:  LogStartTimeT\"\n"
     ]
    },
    {
     "name": "stdout",
     "output_type": "stream",
     "text": [
      "Scanning file ./2017_kansas_log_data\\1046139944.las\n",
      "Scanning file ./2017_kansas_log_data\\1046139954.las\n",
      "Scanning file ./2017_kansas_log_data\\1046139956.las\n",
      "Scanning file ./2017_kansas_log_data\\1046139965.las\n",
      "Scanning file ./2017_kansas_log_data\\1046139967.las\n",
      "Scanning file ./2017_kansas_log_data\\1046139972.las\n",
      "Scanning file ./2017_kansas_log_data\\1046139977.las\n",
      "Scanning file ./2017_kansas_log_data\\1046139979.las\n"
     ]
    },
    {
     "name": "stderr",
     "output_type": "stream",
     "text": [
      "Header section Parameter regexp=~P was not found.\n"
     ]
    },
    {
     "name": "stdout",
     "output_type": "stream",
     "text": [
      "Scanning file ./2017_kansas_log_data\\1046139988.las\n",
      "Scanning file ./2017_kansas_log_data\\1046139992.las\n",
      "Scanning file ./2017_kansas_log_data\\1046139995.las\n",
      "Scanning file ./2017_kansas_log_data\\1046140000.las\n",
      "Scanning file ./2017_kansas_log_data\\1046140002.las\n",
      "Scanning file ./2017_kansas_log_data\\1046140015.las\n"
     ]
    },
    {
     "name": "stderr",
     "output_type": "stream",
     "text": [
      "Unable to parse line as LAS header: TCS .                   23 00:  Time Ciculation Ended\n",
      "line 81 (section ~Parameter Information Block): \"TCS .                   23 00:  Time Ciculation Ended\"\n"
     ]
    },
    {
     "name": "stdout",
     "output_type": "stream",
     "text": [
      "Scanning file ./2017_kansas_log_data\\1046140020.las\n"
     ]
    },
    {
     "name": "stderr",
     "output_type": "stream",
     "text": [
      "Unable to parse line as LAS header: TCS .                   23 00:  Time Ciculation Ended\n",
      "line 81 (section ~Parameter Information Block): \"TCS .                   23 00:  Time Ciculation Ended\"\n"
     ]
    },
    {
     "name": "stdout",
     "output_type": "stream",
     "text": [
      "Scanning file ./2017_kansas_log_data\\1046140021.las\n"
     ]
    },
    {
     "name": "stderr",
     "output_type": "stream",
     "text": [
      "Unable to parse line as LAS header: TCS .                   23 00:  Time Ciculation Ended\n",
      "line 81 (section ~Parameter Information Block): \"TCS .                   23 00:  Time Ciculation Ended\"\n"
     ]
    },
    {
     "name": "stdout",
     "output_type": "stream",
     "text": [
      "Scanning file ./2017_kansas_log_data\\1046140038.las\n",
      "Scanning file ./2017_kansas_log_data\\1046140039.las\n",
      "Scanning file ./2017_kansas_log_data\\1046140050.las\n"
     ]
    },
    {
     "name": "stderr",
     "output_type": "stream",
     "text": [
      "Header section Parameter regexp=~P was not found.\n"
     ]
    },
    {
     "name": "stdout",
     "output_type": "stream",
     "text": [
      "Scanning file ./2017_kansas_log_data\\1046140061.las\n"
     ]
    },
    {
     "name": "stderr",
     "output_type": "stream",
     "text": [
      "Header section Parameter regexp=~P was not found.\n"
     ]
    },
    {
     "name": "stdout",
     "output_type": "stream",
     "text": [
      "Scanning file ./2017_kansas_log_data\\1046140066.las\n",
      "Scanning file ./2017_kansas_log_data\\1046140067.las\n",
      "Scanning file ./2017_kansas_log_data\\1046140075.las\n",
      "Scanning file ./2017_kansas_log_data\\1046140077.las\n",
      "Scanning file ./2017_kansas_log_data\\1046140078.las\n",
      "Scanning file ./2017_kansas_log_data\\1046140084.las\n",
      "Scanning file ./2017_kansas_log_data\\1046140086.las\n",
      "Scanning file ./2017_kansas_log_data\\1046140089.las\n",
      "Scanning file ./2017_kansas_log_data\\1046140092.las\n",
      "Scanning file ./2017_kansas_log_data\\1046140094.las\n",
      "Scanning file ./2017_kansas_log_data\\1046140100.las\n",
      "Scanning file ./2017_kansas_log_data\\1046140110.las\n",
      "Scanning file ./2017_kansas_log_data\\1046140116.las\n",
      "Scanning file ./2017_kansas_log_data\\1046140117.las\n",
      "Scanning file ./2017_kansas_log_data\\1046409932.las\n",
      "Scanning file ./2017_kansas_log_data\\1046409948.las\n",
      "Scanning file ./2017_kansas_log_data\\1046409956.las\n",
      "Scanning file ./2017_kansas_log_data\\1046409964.las\n",
      "Scanning file ./2017_kansas_log_data\\1046409971.las\n",
      "Scanning file ./2017_kansas_log_data\\1046409973.las\n",
      "Scanning file ./2017_kansas_log_data\\1046409977.las\n",
      "Scanning file ./2017_kansas_log_data\\1046409983.las\n",
      "Scanning file ./2017_kansas_log_data\\1046409990.las\n"
     ]
    },
    {
     "name": "stderr",
     "output_type": "stream",
     "text": [
      "Header section Parameter regexp=~P was not found.\n"
     ]
    },
    {
     "name": "stdout",
     "output_type": "stream",
     "text": [
      "Scanning file ./2017_kansas_log_data\\1046409997.las\n",
      "Scanning file ./2017_kansas_log_data\\1046410000.las\n",
      "Scanning file ./2017_kansas_log_data\\1046410013.las\n",
      "Scanning file ./2017_kansas_log_data\\1046410014.las\n",
      "Scanning file ./2017_kansas_log_data\\1046410036.las\n",
      "Scanning file ./2017_kansas_log_data\\1046410037.las\n",
      "Scanning file ./2017_kansas_log_data\\1046410050.las\n",
      "Scanning file ./2017_kansas_log_data\\1046410051.las\n",
      "Scanning file ./2017_kansas_log_data\\1046410056.las\n",
      "Scanning file ./2017_kansas_log_data\\1046410057.las\n",
      "Scanning file ./2017_kansas_log_data\\1046410070.las\n",
      "Scanning file ./2017_kansas_log_data\\1046410076.las\n",
      "Scanning file ./2017_kansas_log_data\\1046410094.las\n",
      "Scanning file ./2017_kansas_log_data\\1046410104.las\n",
      "Scanning file ./2017_kansas_log_data\\1046410105.las\n",
      "Scanning file ./2017_kansas_log_data\\1046410111.las\n",
      "Scanning file ./2017_kansas_log_data\\1046410117.las\n",
      "Scanning file ./2017_kansas_log_data\\1046410150.las\n",
      "Scanning file ./2017_kansas_log_data\\1046410172.las\n",
      "Scanning file ./2017_kansas_log_data\\1046410182.las\n",
      "Scanning file ./2017_kansas_log_data\\1046410190.las\n",
      "Scanning file ./2017_kansas_log_data\\1046410195.las\n",
      "Scanning file ./2017_kansas_log_data\\1046410199.las\n",
      "Scanning file ./2017_kansas_log_data\\1046410201.las\n",
      "Scanning file ./2017_kansas_log_data\\1046410206.las\n",
      "Scanning file ./2017_kansas_log_data\\1046410219.las\n",
      "Scanning file ./2017_kansas_log_data\\1046410220.las\n",
      "Scanning file ./2017_kansas_log_data\\1046410232.las\n",
      "Scanning file ./2017_kansas_log_data\\1046410242.las\n",
      "Scanning file ./2017_kansas_log_data\\1046410251.las\n",
      "Scanning file ./2017_kansas_log_data\\1046410254.las\n",
      "Scanning file ./2017_kansas_log_data\\1046410268.las\n",
      "Scanning file ./2017_kansas_log_data\\1046410289.las\n",
      "Scanning file ./2017_kansas_log_data\\1046410293.las\n",
      "Scanning file ./2017_kansas_log_data\\1046410294.las\n",
      "Scanning file ./2017_kansas_log_data\\1046410299.las\n",
      "Scanning file ./2017_kansas_log_data\\1046410309.las\n",
      "Scanning file ./2017_kansas_log_data\\1046410312.las\n",
      "Scanning file ./2017_kansas_log_data\\1046410315.las\n",
      "Scanning file ./2017_kansas_log_data\\1046410322.las\n",
      "Scanning file ./2017_kansas_log_data\\1046410328.las\n",
      "Scanning file ./2017_kansas_log_data\\1046410332.las\n",
      "Scanning file ./2017_kansas_log_data\\1046410347.las\n",
      "Scanning file ./2017_kansas_log_data\\1046410357.las\n"
     ]
    },
    {
     "name": "stderr",
     "output_type": "stream",
     "text": [
      "Unable to parse line as LAS header: TCS .                   22 00:  Time Ciculation Ended\n",
      "line 90 (section ~Parameter Information Block): \"TCS .                   22 00:  Time Ciculation Ended\"\n",
      "Unable to parse line as LAS header: TLAB.                   20 00:  LogStartTimeT\n",
      "line 94 (section ~Parameter Information Block): \"TLAB.                   20 00:  LogStartTimeT\"\n",
      "Unable to parse line as LAS header: TSC .                   22 00:  Time Sin Circ\n",
      "line 96 (section ~Parameter Information Block): \"TSC .                   22 00:  Time Sin Circ\"\n"
     ]
    },
    {
     "name": "stdout",
     "output_type": "stream",
     "text": [
      "Scanning file ./2017_kansas_log_data\\1046410361.las\n",
      "Scanning file ./2017_kansas_log_data\\1046410366.las\n",
      "Scanning file ./2017_kansas_log_data\\1046410375.las\n",
      "Scanning file ./2017_kansas_log_data\\1046410387.las\n",
      "Scanning file ./2017_kansas_log_data\\1046410389.las\n",
      "Scanning file ./2017_kansas_log_data\\1046410391.las\n",
      "Scanning file ./2017_kansas_log_data\\1046410409.las\n",
      "Scanning file ./2017_kansas_log_data\\1046410411.las\n",
      "Scanning file ./2017_kansas_log_data\\1046410414.las\n",
      "Scanning file ./2017_kansas_log_data\\1046410415.las\n",
      "Scanning file ./2017_kansas_log_data\\1046410424.las\n",
      "Scanning file ./2017_kansas_log_data\\1046410426.las\n",
      "Scanning file ./2017_kansas_log_data\\1046410439.las\n",
      "Scanning file ./2017_kansas_log_data\\1046410447.las\n",
      "Scanning file ./2017_kansas_log_data\\1046410453.las\n",
      "Scanning file ./2017_kansas_log_data\\1046410454.las\n"
     ]
    },
    {
     "name": "stderr",
     "output_type": "stream",
     "text": [
      "Header section Parameter regexp=~P was not found.\n"
     ]
    },
    {
     "name": "stdout",
     "output_type": "stream",
     "text": [
      "Scanning file ./2017_kansas_log_data\\1046410455.las\n",
      "Scanning file ./2017_kansas_log_data\\1046410478.las\n",
      "Scanning file ./2017_kansas_log_data\\1046410480.las\n",
      "Scanning file ./2017_kansas_log_data\\1046410514.las\n"
     ]
    },
    {
     "name": "stderr",
     "output_type": "stream",
     "text": [
      "Unable to parse line as LAS header: TCS .                   15 00:  Time Ciculation Ended\n",
      "line 99 (section ~Parameter Information Block): \"TCS .                   15 00:  Time Ciculation Ended\"\n"
     ]
    },
    {
     "name": "stdout",
     "output_type": "stream",
     "text": [
      "Scanning file ./2017_kansas_log_data\\1046410521.las\n",
      "Scanning file ./2017_kansas_log_data\\1046410531.las\n",
      "Scanning file ./2017_kansas_log_data\\1046410538.las\n",
      "Scanning file ./2017_kansas_log_data\\1046410549.las\n",
      "Scanning file ./2017_kansas_log_data\\1046410553.las\n"
     ]
    },
    {
     "name": "stderr",
     "output_type": "stream",
     "text": [
      "Header section Parameter regexp=~P was not found.\n"
     ]
    },
    {
     "name": "stdout",
     "output_type": "stream",
     "text": [
      "Scanning file ./2017_kansas_log_data\\1046410557.las\n",
      "Scanning file ./2017_kansas_log_data\\1046410562.las\n"
     ]
    },
    {
     "name": "stderr",
     "output_type": "stream",
     "text": [
      "Header section Parameter regexp=~P was not found.\n"
     ]
    },
    {
     "name": "stdout",
     "output_type": "stream",
     "text": [
      "Scanning file ./2017_kansas_log_data\\1046410567.las\n",
      "Scanning file ./2017_kansas_log_data\\1046410569.las\n",
      "Scanning file ./2017_kansas_log_data\\1046410578.las\n",
      "Scanning file ./2017_kansas_log_data\\1046410580.las\n",
      "Scanning file ./2017_kansas_log_data\\1046410595.las\n",
      "Scanning file ./2017_kansas_log_data\\1046410605.las\n",
      "Scanning file ./2017_kansas_log_data\\1046410615.las\n",
      "Scanning file ./2017_kansas_log_data\\1046410620.las\n",
      "Scanning file ./2017_kansas_log_data\\1046410621.las\n",
      "Scanning file ./2017_kansas_log_data\\1046410630.las\n",
      "Scanning file ./2017_kansas_log_data\\1046410632.las\n",
      "Scanning file ./2017_kansas_log_data\\1046410638.las\n",
      "Scanning file ./2017_kansas_log_data\\1046410657.las\n",
      "Scanning file ./2017_kansas_log_data\\1046410668.las\n"
     ]
    },
    {
     "name": "stderr",
     "output_type": "stream",
     "text": [
      "Unable to parse line as LAS header: SCHLUMBERGER OF ELK CITY  OK! 580-\n",
      "line 105 (section ~PARAMETER INFORMATION): \"SCHLUMBERGER OF ELK CITY  OK! 580-\"\n",
      "Unable to parse line as LAS header: 225-4300 :Remarks Line 8\n",
      "line 107 (section ~PARAMETER INFORMATION): \"225-4300 :Remarks Line 8\"\n"
     ]
    },
    {
     "name": "stdout",
     "output_type": "stream",
     "text": [
      "Scanning file ./2017_kansas_log_data\\1046410674.las\n"
     ]
    },
    {
     "name": "stderr",
     "output_type": "stream",
     "text": [
      "Unable to parse line as LAS header: SCHLUMBERGER OF ELK CITY  OK! 580-\n",
      "line 105 (section ~PARAMETER INFORMATION): \"SCHLUMBERGER OF ELK CITY  OK! 580-\"\n",
      "Unable to parse line as LAS header: 225-4300 :Remarks Line 8\n",
      "line 107 (section ~PARAMETER INFORMATION): \"225-4300 :Remarks Line 8\"\n"
     ]
    },
    {
     "name": "stdout",
     "output_type": "stream",
     "text": [
      "Scanning file ./2017_kansas_log_data\\1046410675.las\n",
      "Scanning file ./2017_kansas_log_data\\1046410679.las\n",
      "Scanning file ./2017_kansas_log_data\\1046410680.las\n",
      "Scanning file ./2017_kansas_log_data\\1046410682.las\n",
      "Scanning file ./2017_kansas_log_data\\1046410688.las\n",
      "Scanning file ./2017_kansas_log_data\\1046410702.las\n",
      "Scanning file ./2017_kansas_log_data\\1046410706.las\n",
      "Scanning file ./2017_kansas_log_data\\1046410707.las\n",
      "Scanning file ./2017_kansas_log_data\\1046410708.las\n",
      "Scanning file ./2017_kansas_log_data\\1046410709.las\n",
      "Scanning file ./2017_kansas_log_data\\1046410710.las\n",
      "Scanning file ./2017_kansas_log_data\\1046410711.las\n",
      "Scanning file ./2017_kansas_log_data\\1046410744.las\n",
      "Scanning file ./2017_kansas_log_data\\1046410746.las\n",
      "Scanning file ./2017_kansas_log_data\\1046410750.las\n",
      "Scanning file ./2017_kansas_log_data\\1046410755.las\n",
      "Scanning file ./2017_kansas_log_data\\1046410758.las\n",
      "Scanning file ./2017_kansas_log_data\\1046410763.las\n",
      "Scanning file ./2017_kansas_log_data\\1046410769.las\n",
      "Scanning file ./2017_kansas_log_data\\1046410773.las\n",
      "Scanning file ./2017_kansas_log_data\\1046410777.las\n",
      "Scanning file ./2017_kansas_log_data\\1046410790.las\n",
      "Scanning file ./2017_kansas_log_data\\1046410795.las\n",
      "Scanning file ./2017_kansas_log_data\\1046410800.las\n",
      "Scanning file ./2017_kansas_log_data\\1046410823.las\n"
     ]
    },
    {
     "name": "stderr",
     "output_type": "stream",
     "text": [
      "Header section Parameter regexp=~P was not found.\n"
     ]
    },
    {
     "name": "stdout",
     "output_type": "stream",
     "text": [
      "Scanning file ./2017_kansas_log_data\\1046410828.las\n",
      "Scanning file ./2017_kansas_log_data\\1046410834.las\n",
      "Scanning file ./2017_kansas_log_data\\1046410836.las\n",
      "Scanning file ./2017_kansas_log_data\\1046410843.las\n",
      "Scanning file ./2017_kansas_log_data\\1046410847.las\n",
      "Scanning file ./2017_kansas_log_data\\1046410848.las\n",
      "Scanning file ./2017_kansas_log_data\\1046410851.las\n",
      "Scanning file ./2017_kansas_log_data\\1046410865.las\n",
      "Scanning file ./2017_kansas_log_data\\1046410883.las\n",
      "Scanning file ./2017_kansas_log_data\\1046410908.las\n",
      "Scanning file ./2017_kansas_log_data\\1046410911.las\n",
      "Scanning file ./2017_kansas_log_data\\1046410914.las\n",
      "Scanning file ./2017_kansas_log_data\\1046410917.las\n",
      "Scanning file ./2017_kansas_log_data\\1046410920.las\n",
      "Scanning file ./2017_kansas_log_data\\1046410923.las\n",
      "Scanning file ./2017_kansas_log_data\\1046410926.las\n",
      "Scanning file ./2017_kansas_log_data\\1046410931.las\n",
      "Scanning file ./2017_kansas_log_data\\1046410934.las\n",
      "Scanning file ./2017_kansas_log_data\\1046410935.las\n",
      "Scanning file ./2017_kansas_log_data\\1046410944.las\n",
      "Scanning file ./2017_kansas_log_data\\1046410961.las\n",
      "Scanning file ./2017_kansas_log_data\\1046410995.las\n",
      "Scanning file ./2017_kansas_log_data\\1046411001.las\n",
      "Scanning file ./2017_kansas_log_data\\1046411006.las\n",
      "Scanning file ./2017_kansas_log_data\\1046411015.las\n",
      "Scanning file ./2017_kansas_log_data\\1046411018.las\n",
      "Scanning file ./2017_kansas_log_data\\1046411038.las\n",
      "Scanning file ./2017_kansas_log_data\\1046411046.las\n",
      "Scanning file ./2017_kansas_log_data\\1046411048.las\n",
      "Scanning file ./2017_kansas_log_data\\1046411067.las\n",
      "Scanning file ./2017_kansas_log_data\\1046411072.las\n",
      "Scanning file ./2017_kansas_log_data\\1046411073.las\n",
      "Scanning file ./2017_kansas_log_data\\1046411086.las\n",
      "Scanning file ./2017_kansas_log_data\\1046411110.las\n",
      "Scanning file ./2017_kansas_log_data\\1046411118.las\n",
      "Scanning file ./2017_kansas_log_data\\1046411121.las\n",
      "Scanning file ./2017_kansas_log_data\\1046411127.las\n",
      "Scanning file ./2017_kansas_log_data\\1046411145.las\n",
      "Scanning file ./2017_kansas_log_data\\1046411148.las\n",
      "Scanning file ./2017_kansas_log_data\\1046411161.las\n",
      "Scanning file ./2017_kansas_log_data\\1046411189.las\n",
      "Scanning file ./2017_kansas_log_data\\1046411216.las\n",
      "Scanning file ./2017_kansas_log_data\\1046411226.las\n",
      "Scanning file ./2017_kansas_log_data\\1046411234.las\n",
      "Scanning file ./2017_kansas_log_data\\1046411242.las\n",
      "Scanning file ./2017_kansas_log_data\\1046411252.las\n",
      "Scanning file ./2017_kansas_log_data\\1046411270.las\n",
      "Scanning file ./2017_kansas_log_data\\1046411271.las\n",
      "Scanning file ./2017_kansas_log_data\\1046411277.las\n",
      "Scanning file ./2017_kansas_log_data\\1046411278.las\n",
      "Scanning file ./2017_kansas_log_data\\1046411286.las\n",
      "Scanning file ./2017_kansas_log_data\\1046411299.las\n",
      "Scanning file ./2017_kansas_log_data\\1046411302.las\n",
      "Scanning file ./2017_kansas_log_data\\1046411318.las\n"
     ]
    },
    {
     "name": "stderr",
     "output_type": "stream",
     "text": [
      "Header section Parameter regexp=~P was not found.\n"
     ]
    },
    {
     "name": "stdout",
     "output_type": "stream",
     "text": [
      "Scanning file ./2017_kansas_log_data\\1046411334.las\n"
     ]
    },
    {
     "name": "stderr",
     "output_type": "stream",
     "text": [
      "Header section Parameter regexp=~P was not found.\n"
     ]
    },
    {
     "name": "stdout",
     "output_type": "stream",
     "text": [
      "Scanning file ./2017_kansas_log_data\\1046411335.las\n",
      "Scanning file ./2017_kansas_log_data\\1046411339.las\n",
      "Scanning file ./2017_kansas_log_data\\1046411353.las\n",
      "Scanning file ./2017_kansas_log_data\\1046411360.las\n",
      "Scanning file ./2017_kansas_log_data\\1046411365.las\n",
      "Scanning file ./2017_kansas_log_data\\1046411367.las\n",
      "Scanning file ./2017_kansas_log_data\\1046411373.las\n",
      "Scanning file ./2017_kansas_log_data\\1046411378.las\n",
      "Scanning file ./2017_kansas_log_data\\1046411382.las\n",
      "Scanning file ./2017_kansas_log_data\\1046411392.las\n"
     ]
    },
    {
     "name": "stderr",
     "output_type": "stream",
     "text": [
      "Header section Parameter regexp=~P was not found.\n"
     ]
    },
    {
     "name": "stdout",
     "output_type": "stream",
     "text": [
      "Scanning file ./2017_kansas_log_data\\1046411397.las\n",
      "Scanning file ./2017_kansas_log_data\\1046411398.las\n"
     ]
    },
    {
     "name": "stderr",
     "output_type": "stream",
     "text": [
      "Header section Parameter regexp=~P was not found.\n"
     ]
    },
    {
     "name": "stdout",
     "output_type": "stream",
     "text": [
      "Scanning file ./2017_kansas_log_data\\1046411405.las\n"
     ]
    },
    {
     "name": "stderr",
     "output_type": "stream",
     "text": [
      "Header section Parameter regexp=~P was not found.\n"
     ]
    },
    {
     "name": "stdout",
     "output_type": "stream",
     "text": [
      "Scanning file ./2017_kansas_log_data\\1046411411.las\n",
      "Scanning file ./2017_kansas_log_data\\1046411419.las\n",
      "Scanning file ./2017_kansas_log_data\\1046411423.las\n",
      "Scanning file ./2017_kansas_log_data\\1046411434.las\n",
      "Scanning file ./2017_kansas_log_data\\1046411439.las\n"
     ]
    },
    {
     "name": "stderr",
     "output_type": "stream",
     "text": [
      "Header section Parameter regexp=~P was not found.\n"
     ]
    },
    {
     "name": "stdout",
     "output_type": "stream",
     "text": [
      "Scanning file ./2017_kansas_log_data\\1046411445.las\n",
      "Scanning file ./2017_kansas_log_data\\1046411448.las\n",
      "Scanning file ./2017_kansas_log_data\\1046411461.las\n",
      "Scanning file ./2017_kansas_log_data\\1046411469.las\n",
      "Scanning file ./2017_kansas_log_data\\1046411470.las\n",
      "Scanning file ./2017_kansas_log_data\\1046411481.las\n",
      "Scanning file ./2017_kansas_log_data\\1046411486.las\n",
      "Scanning file ./2017_kansas_log_data\\1046411497.las\n",
      "Scanning file ./2017_kansas_log_data\\1046411509.las\n",
      "Scanning file ./2017_kansas_log_data\\1046411512.las\n",
      "Scanning file ./2017_kansas_log_data\\1046411514.las\n",
      "Scanning file ./2017_kansas_log_data\\1046411522.las\n",
      "Scanning file ./2017_kansas_log_data\\1046411525.las\n",
      "Scanning file ./2017_kansas_log_data\\1046411542.las\n",
      "Scanning file ./2017_kansas_log_data\\1046411543.las\n",
      "Scanning file ./2017_kansas_log_data\\1046411551.las\n",
      "Scanning file ./2017_kansas_log_data\\1046411555.las\n",
      "Scanning file ./2017_kansas_log_data\\1046411559.las\n",
      "Scanning file ./2017_kansas_log_data\\1046411565.las\n",
      "Scanning file ./2017_kansas_log_data\\1046411568.las\n",
      "Scanning file ./2017_kansas_log_data\\1046411574.las\n",
      "Scanning file ./2017_kansas_log_data\\1046411586.las\n",
      "Scanning file ./2017_kansas_log_data\\1046411600.las\n",
      "Scanning file ./2017_kansas_log_data\\1046411628.las\n"
     ]
    },
    {
     "name": "stderr",
     "output_type": "stream",
     "text": [
      "Header section Parameter regexp=~P was not found.\n"
     ]
    },
    {
     "name": "stdout",
     "output_type": "stream",
     "text": [
      "Scanning file ./2017_kansas_log_data\\1046411635.las\n",
      "Scanning file ./2017_kansas_log_data\\1046411636.las\n"
     ]
    },
    {
     "name": "stderr",
     "output_type": "stream",
     "text": [
      "Header section Parameter regexp=~P was not found.\n"
     ]
    },
    {
     "name": "stdout",
     "output_type": "stream",
     "text": [
      "Scanning file ./2017_kansas_log_data\\1046411641.las\n",
      "Scanning file ./2017_kansas_log_data\\1046411645.las\n",
      "Scanning file ./2017_kansas_log_data\\1046411652.las\n",
      "Scanning file ./2017_kansas_log_data\\1046411653.las\n",
      "Scanning file ./2017_kansas_log_data\\1046411656.las\n",
      "Scanning file ./2017_kansas_log_data\\1046411663.las\n",
      "Scanning file ./2017_kansas_log_data\\1046411672.las\n",
      "Scanning file ./2017_kansas_log_data\\1046411676.las\n",
      "Scanning file ./2017_kansas_log_data\\1046411682.las\n",
      "Scanning file ./2017_kansas_log_data\\1046411684.las\n",
      "Scanning file ./2017_kansas_log_data\\1046411691.las\n",
      "Scanning file ./2017_kansas_log_data\\1046411695.las\n",
      "Scanning file ./2017_kansas_log_data\\1046411699.las\n",
      "Scanning file ./2017_kansas_log_data\\1046411709.las\n",
      "Scanning file ./2017_kansas_log_data\\1046411712.las\n",
      "Scanning file ./2017_kansas_log_data\\1046411718.las\n",
      "Scanning file ./2017_kansas_log_data\\1046411729.las\n"
     ]
    },
    {
     "name": "stderr",
     "output_type": "stream",
     "text": [
      "Header section Parameter regexp=~P was not found.\n"
     ]
    },
    {
     "name": "stdout",
     "output_type": "stream",
     "text": [
      "Scanning file ./2017_kansas_log_data\\1046411734.las\n"
     ]
    },
    {
     "name": "stderr",
     "output_type": "stream",
     "text": [
      "Header section Parameter regexp=~P was not found.\n"
     ]
    },
    {
     "name": "stdout",
     "output_type": "stream",
     "text": [
      "Scanning file ./2017_kansas_log_data\\1046411739.las\n",
      "Scanning file ./2017_kansas_log_data\\1046411742.las\n",
      "Scanning file ./2017_kansas_log_data\\1046411747.las\n",
      "Scanning file ./2017_kansas_log_data\\1046411768.las\n",
      "Scanning file ./2017_kansas_log_data\\1046411770.las\n",
      "Scanning file ./2017_kansas_log_data\\1046411778.las\n",
      "Scanning file ./2017_kansas_log_data\\1046411785.las\n",
      "Scanning file ./2017_kansas_log_data\\1046411812.las\n",
      "Scanning file ./2017_kansas_log_data\\1046411820.las\n",
      "Scanning file ./2017_kansas_log_data\\1046411833.las\n"
     ]
    },
    {
     "name": "stderr",
     "output_type": "stream",
     "text": [
      "Header section Parameter regexp=~P was not found.\n"
     ]
    },
    {
     "name": "stdout",
     "output_type": "stream",
     "text": [
      "Scanning file ./2017_kansas_log_data\\1046411835.las\n"
     ]
    },
    {
     "name": "stderr",
     "output_type": "stream",
     "text": [
      "Header section Parameter regexp=~P was not found.\n"
     ]
    },
    {
     "name": "stdout",
     "output_type": "stream",
     "text": [
      "Scanning file ./2017_kansas_log_data\\1046411846.las\n",
      "Scanning file ./2017_kansas_log_data\\1046411847.las\n",
      "Scanning file ./2017_kansas_log_data\\1046411858.las\n",
      "Scanning file ./2017_kansas_log_data\\1046411868.las\n",
      "Scanning file ./2017_kansas_log_data\\1046411873.las\n",
      "Scanning file ./2017_kansas_log_data\\1046411883.las\n"
     ]
    },
    {
     "name": "stderr",
     "output_type": "stream",
     "text": [
      "Header section Parameter regexp=~P was not found.\n"
     ]
    },
    {
     "name": "stdout",
     "output_type": "stream",
     "text": [
      "Scanning file ./2017_kansas_log_data\\1046411888.las\n",
      "Scanning file ./2017_kansas_log_data\\1046411896.las\n",
      "Scanning file ./2017_kansas_log_data\\1046411909.las\n",
      "Scanning file ./2017_kansas_log_data\\1046411914.las\n",
      "Scanning file ./2017_kansas_log_data\\1046411915.las\n",
      "Scanning file ./2017_kansas_log_data\\1046411916.las\n",
      "Scanning file ./2017_kansas_log_data\\1046411920.las\n",
      "Scanning file ./2017_kansas_log_data\\1046411925.las\n",
      "Scanning file ./2017_kansas_log_data\\1046417638.las\n",
      "Scanning file ./2017_kansas_log_data\\1046417639.las\n",
      "Scanning file ./2017_kansas_log_data\\1046417640.las\n",
      "Scanning file ./2017_kansas_log_data\\1046417641.las\n",
      "Scanning file ./2017_kansas_log_data\\1046417652.las\n",
      "Scanning file ./2017_kansas_log_data\\1046417659.las\n"
     ]
    },
    {
     "name": "stderr",
     "output_type": "stream",
     "text": [
      "Unable to parse line as LAS header: TCS .                   07 00:  Time Ciculation Ended\n",
      "line 94 (section ~Parameter Information Block): \"TCS .                   07 00:  Time Ciculation Ended\"\n"
     ]
    },
    {
     "name": "stdout",
     "output_type": "stream",
     "text": [
      "Scanning file ./2017_kansas_log_data\\1046417669.las\n",
      "Scanning file ./2017_kansas_log_data\\1046417682.las\n",
      "Scanning file ./2017_kansas_log_data\\1046417686.las\n",
      "Scanning file ./2017_kansas_log_data\\1046417687.las\n",
      "Scanning file ./2017_kansas_log_data\\1046417703.las\n",
      "Scanning file ./2017_kansas_log_data\\1046417709.las\n",
      "Scanning file ./2017_kansas_log_data\\1046417716.las\n",
      "Scanning file ./2017_kansas_log_data\\1046417718.las\n",
      "Scanning file ./2017_kansas_log_data\\1046417723.las\n",
      "Scanning file ./2017_kansas_log_data\\1046417728.las\n",
      "Scanning file ./2017_kansas_log_data\\1046417736.las\n",
      "Scanning file ./2017_kansas_log_data\\1046417739.las\n",
      "Scanning file ./2017_kansas_log_data\\1046417746.las\n"
     ]
    },
    {
     "name": "stderr",
     "output_type": "stream",
     "text": [
      "Header section Parameter regexp=~P was not found.\n"
     ]
    },
    {
     "name": "stdout",
     "output_type": "stream",
     "text": [
      "Scanning file ./2017_kansas_log_data\\1046417755.las\n",
      "Scanning file ./2017_kansas_log_data\\1046417759.las\n",
      "Scanning file ./2017_kansas_log_data\\1046417767.las\n",
      "Scanning file ./2017_kansas_log_data\\1046417770.las\n",
      "Scanning file ./2017_kansas_log_data\\1046417780.las\n",
      "Scanning file ./2017_kansas_log_data\\1046417788.las\n",
      "Scanning file ./2017_kansas_log_data\\1046417790.las\n"
     ]
    },
    {
     "name": "stderr",
     "output_type": "stream",
     "text": [
      "Header section Parameter regexp=~P was not found.\n"
     ]
    },
    {
     "name": "stdout",
     "output_type": "stream",
     "text": [
      "Scanning file ./2017_kansas_log_data\\1046417795.las\n",
      "Scanning file ./2017_kansas_log_data\\1046417805.las\n",
      "Scanning file ./2017_kansas_log_data\\1046417808.las\n"
     ]
    },
    {
     "name": "stderr",
     "output_type": "stream",
     "text": [
      "Header section Parameter regexp=~P was not found.\n"
     ]
    },
    {
     "name": "stdout",
     "output_type": "stream",
     "text": [
      "Scanning file ./2017_kansas_log_data\\1046417821.las\n"
     ]
    },
    {
     "name": "stderr",
     "output_type": "stream",
     "text": [
      "Header section Parameter regexp=~P was not found.\n"
     ]
    },
    {
     "name": "stdout",
     "output_type": "stream",
     "text": [
      "Scanning file ./2017_kansas_log_data\\1046417824.las\n",
      "Scanning file ./2017_kansas_log_data\\1046417829.las\n",
      "Scanning file ./2017_kansas_log_data\\1046417836.las\n",
      "Scanning file ./2017_kansas_log_data\\1046422493.las\n",
      "Scanning file ./2017_kansas_log_data\\1046422506.las\n",
      "Scanning file ./2017_kansas_log_data\\1046422509.las\n",
      "Scanning file ./2017_kansas_log_data\\1046422512.las\n",
      "Scanning file ./2017_kansas_log_data\\1046422524.las\n",
      "Scanning file ./2017_kansas_log_data\\1046422529.las\n",
      "Scanning file ./2017_kansas_log_data\\1046427078.las\n",
      "Scanning file ./2017_kansas_log_data\\1046427082.las\n",
      "Scanning file ./2017_kansas_log_data\\1046427101.las\n",
      "Scanning file ./2017_kansas_log_data\\1046427102.las\n",
      "Scanning file ./2017_kansas_log_data\\1046427108.las\n",
      "Scanning file ./2017_kansas_log_data\\1046428749.las\n",
      "Scanning file ./2017_kansas_log_data\\1046428755.las\n",
      "Scanning file ./2017_kansas_log_data\\1046428758.las\n",
      "Scanning file ./2017_kansas_log_data\\1046437657.las\n",
      "Scanning file ./2017_kansas_log_data\\1046437669.las\n",
      "Scanning file ./2017_kansas_log_data\\1046437673.las\n",
      "Scanning file ./2017_kansas_log_data\\1046437674.las\n",
      "Scanning file ./2017_kansas_log_data\\1046437675.las\n",
      "Scanning file ./2017_kansas_log_data\\1046437682.las\n",
      "Scanning file ./2017_kansas_log_data\\1046437687.las\n",
      "Scanning file ./2017_kansas_log_data\\1046437697.las\n",
      "Scanning file ./2017_kansas_log_data\\1046437709.las\n",
      "Scanning file ./2017_kansas_log_data\\1046437714.las\n",
      "Scanning file ./2017_kansas_log_data\\1046437717.las\n",
      "Scanning file ./2017_kansas_log_data\\1046437725.las\n",
      "Scanning file ./2017_kansas_log_data\\1046437729.las\n"
     ]
    },
    {
     "name": "stderr",
     "output_type": "stream",
     "text": [
      "Header section Parameter regexp=~P was not found.\n"
     ]
    },
    {
     "name": "stdout",
     "output_type": "stream",
     "text": [
      "Scanning file ./2017_kansas_log_data\\1046437733.las\n",
      "Scanning file ./2017_kansas_log_data\\1046437735.las\n"
     ]
    },
    {
     "name": "stderr",
     "output_type": "stream",
     "text": [
      "Header section Parameter regexp=~P was not found.\n"
     ]
    },
    {
     "name": "stdout",
     "output_type": "stream",
     "text": [
      "Scanning file ./2017_kansas_log_data\\1046437739.las\n",
      "Scanning file ./2017_kansas_log_data\\1046437740.las\n",
      "Scanning file ./2017_kansas_log_data\\1046437747.las\n",
      "Scanning file ./2017_kansas_log_data\\1046437750.las\n",
      "Scanning file ./2017_kansas_log_data\\1046437752.las\n",
      "Scanning file ./2017_kansas_log_data\\1046437758.las\n",
      "Scanning file ./2017_kansas_log_data\\1046437763.las\n"
     ]
    },
    {
     "name": "stderr",
     "output_type": "stream",
     "text": [
      "Header section Parameter regexp=~P was not found.\n"
     ]
    },
    {
     "name": "stdout",
     "output_type": "stream",
     "text": [
      "Scanning file ./2017_kansas_log_data\\1046437770.las\n"
     ]
    },
    {
     "name": "stderr",
     "output_type": "stream",
     "text": [
      "Header section Parameter regexp=~P was not found.\n"
     ]
    },
    {
     "name": "stdout",
     "output_type": "stream",
     "text": [
      "Scanning file ./2017_kansas_log_data\\1046437772.las\n"
     ]
    },
    {
     "name": "stderr",
     "output_type": "stream",
     "text": [
      "Header section Parameter regexp=~P was not found.\n"
     ]
    },
    {
     "name": "stdout",
     "output_type": "stream",
     "text": [
      "Scanning file ./2017_kansas_log_data\\1046437775.las\n"
     ]
    },
    {
     "name": "stderr",
     "output_type": "stream",
     "text": [
      "Header section Parameter regexp=~P was not found.\n"
     ]
    },
    {
     "name": "stdout",
     "output_type": "stream",
     "text": [
      "Scanning file ./2017_kansas_log_data\\1046437780.las\n"
     ]
    },
    {
     "name": "stderr",
     "output_type": "stream",
     "text": [
      "Header section Parameter regexp=~P was not found.\n"
     ]
    },
    {
     "name": "stdout",
     "output_type": "stream",
     "text": [
      "Scanning file ./2017_kansas_log_data\\1046437782.las\n",
      "Scanning file ./2017_kansas_log_data\\1046437788.las\n"
     ]
    },
    {
     "name": "stderr",
     "output_type": "stream",
     "text": [
      "Header section Parameter regexp=~P was not found.\n"
     ]
    },
    {
     "name": "stdout",
     "output_type": "stream",
     "text": [
      "Scanning file ./2017_kansas_log_data\\1046437792.las\n",
      "Scanning file ./2017_kansas_log_data\\1046437810.las\n",
      "Scanning file ./2017_kansas_log_data\\1046437815.las\n"
     ]
    },
    {
     "name": "stderr",
     "output_type": "stream",
     "text": [
      "Header section Parameter regexp=~P was not found.\n"
     ]
    },
    {
     "name": "stdout",
     "output_type": "stream",
     "text": [
      "Scanning file ./2017_kansas_log_data\\1046437820.las\n"
     ]
    },
    {
     "name": "stderr",
     "output_type": "stream",
     "text": [
      "Header section Parameter regexp=~P was not found.\n"
     ]
    },
    {
     "name": "stdout",
     "output_type": "stream",
     "text": [
      "Scanning file ./2017_kansas_log_data\\1046437825.las\n",
      "Scanning file ./2017_kansas_log_data\\1046437827.las\n",
      "Scanning file ./2017_kansas_log_data\\1046437832.las\n",
      "Scanning file ./2017_kansas_log_data\\1046437837.las\n",
      "Scanning file ./2017_kansas_log_data\\1046440071.las\n",
      "Scanning file ./2017_kansas_log_data\\1046440074.las\n",
      "Scanning file ./2017_kansas_log_data\\1046440075.las\n",
      "Scanning file ./2017_kansas_log_data\\1046440091.las\n",
      "Scanning file ./2017_kansas_log_data\\1046440093.las\n",
      "Scanning file ./2017_kansas_log_data\\1046440120.las\n",
      "Scanning file ./2017_kansas_log_data\\1046452081.las\n",
      "Scanning file ./2017_kansas_log_data\\1046452096.las\n",
      "Scanning file ./2017_kansas_log_data\\1046452100.las\n",
      "Scanning file ./2017_kansas_log_data\\1046452104.las\n",
      "Scanning file ./2017_kansas_log_data\\1046452111.las\n",
      "Scanning file ./2017_kansas_log_data\\1046452113.las\n",
      "Scanning file ./2017_kansas_log_data\\1046452118.las\n",
      "Scanning file ./2017_kansas_log_data\\1046452119.las\n",
      "Scanning file ./2017_kansas_log_data\\1046452120.las\n",
      "Scanning file ./2017_kansas_log_data\\1046452141.las\n",
      "Scanning file ./2017_kansas_log_data\\1046452156.las\n",
      "Scanning file ./2017_kansas_log_data\\1046452175.las\n",
      "Scanning file ./2017_kansas_log_data\\1046452176.las\n",
      "Scanning file ./2017_kansas_log_data\\1046452194.las\n",
      "Scanning file ./2017_kansas_log_data\\1046452213.las\n",
      "Scanning file ./2017_kansas_log_data\\1046452214.las\n",
      "Scanning file ./2017_kansas_log_data\\1046452215.las\n",
      "Scanning file ./2017_kansas_log_data\\1046452229.las\n",
      "Scanning file ./2017_kansas_log_data\\1046452233.las\n"
     ]
    },
    {
     "name": "stderr",
     "output_type": "stream",
     "text": [
      "Header section Parameter regexp=~P was not found.\n"
     ]
    },
    {
     "name": "stdout",
     "output_type": "stream",
     "text": [
      "Scanning file ./2017_kansas_log_data\\1046452234.las\n"
     ]
    },
    {
     "name": "stderr",
     "output_type": "stream",
     "text": [
      "Header section Parameter regexp=~P was not found.\n"
     ]
    },
    {
     "name": "stdout",
     "output_type": "stream",
     "text": [
      "Scanning file ./2017_kansas_log_data\\1046452240.las\n",
      "Scanning file ./2017_kansas_log_data\\1046452248.las\n",
      "Scanning file ./2017_kansas_log_data\\1046452252.las\n"
     ]
    },
    {
     "name": "stderr",
     "output_type": "stream",
     "text": [
      "Header section Parameter regexp=~P was not found.\n"
     ]
    },
    {
     "name": "stdout",
     "output_type": "stream",
     "text": [
      "Scanning file ./2017_kansas_log_data\\1046452257.las\n",
      "Scanning file ./2017_kansas_log_data\\1046452259.las\n",
      "Scanning file ./2017_kansas_log_data\\1046452268.las\n"
     ]
    },
    {
     "name": "stderr",
     "output_type": "stream",
     "text": [
      "Header section Parameter regexp=~P was not found.\n"
     ]
    },
    {
     "name": "stdout",
     "output_type": "stream",
     "text": [
      "Scanning file ./2017_kansas_log_data\\1046452270.las\n",
      "Scanning file ./2017_kansas_log_data\\1046452279.las\n",
      "Scanning file ./2017_kansas_log_data\\1046452285.las\n",
      "Scanning file ./2017_kansas_log_data\\1046452290.las\n",
      "Scanning file ./2017_kansas_log_data\\1046452292.las\n",
      "Scanning file ./2017_kansas_log_data\\1046452297.las\n",
      "Scanning file ./2017_kansas_log_data\\1046452299.las\n"
     ]
    },
    {
     "name": "stderr",
     "output_type": "stream",
     "text": [
      "Header section Parameter regexp=~P was not found.\n"
     ]
    },
    {
     "name": "stdout",
     "output_type": "stream",
     "text": [
      "Scanning file ./2017_kansas_log_data\\1046452301.las\n"
     ]
    },
    {
     "name": "stderr",
     "output_type": "stream",
     "text": [
      "Header section Parameter regexp=~P was not found.\n"
     ]
    },
    {
     "name": "stdout",
     "output_type": "stream",
     "text": [
      "Scanning file ./2017_kansas_log_data\\1046452310.las\n",
      "Scanning file ./2017_kansas_log_data\\1046452320.las\n",
      "Scanning file ./2017_kansas_log_data\\1046452322.las\n",
      "Scanning file ./2017_kansas_log_data\\1046452326.las\n",
      "Scanning file ./2017_kansas_log_data\\1046452330.las\n",
      "Scanning file ./2017_kansas_log_data\\1046452334.las\n",
      "Scanning file ./2017_kansas_log_data\\1046452343.las\n",
      "Scanning file ./2017_kansas_log_data\\1046452350.las\n",
      "Scanning file ./2017_kansas_log_data\\1046452359.las\n",
      "Scanning file ./2017_kansas_log_data\\1046452361.las\n",
      "Scanning file ./2017_kansas_log_data\\1046452370.las\n",
      "Scanning file ./2017_kansas_log_data\\1046461930.las\n",
      "Scanning file ./2017_kansas_log_data\\1046461946.las\n",
      "Scanning file ./2017_kansas_log_data\\1046461951.las\n",
      "Scanning file ./2017_kansas_log_data\\1046461963.las\n",
      "Scanning file ./2017_kansas_log_data\\1046461969.las\n",
      "Scanning file ./2017_kansas_log_data\\1046461974.las\n",
      "Scanning file ./2017_kansas_log_data\\1046461977.las\n",
      "Scanning file ./2017_kansas_log_data\\1046461981.las\n",
      "Scanning file ./2017_kansas_log_data\\1046461984.las\n",
      "Scanning file ./2017_kansas_log_data\\1046461988.las\n",
      "Scanning file ./2017_kansas_log_data\\1046461994.las\n",
      "Scanning file ./2017_kansas_log_data\\1046461998.las\n",
      "Scanning file ./2017_kansas_log_data\\1046462002.las\n",
      "Scanning file ./2017_kansas_log_data\\1046462010.las\n",
      "Scanning file ./2017_kansas_log_data\\1046462023.las\n",
      "Scanning file ./2017_kansas_log_data\\1046462031.las\n",
      "Scanning file ./2017_kansas_log_data\\1046462032.las\n",
      "Scanning file ./2017_kansas_log_data\\1046462034.las\n"
     ]
    },
    {
     "name": "stderr",
     "output_type": "stream",
     "text": [
      "Header section Parameter regexp=~P was not found.\n"
     ]
    },
    {
     "name": "stdout",
     "output_type": "stream",
     "text": [
      "Scanning file ./2017_kansas_log_data\\1046462045.las\n",
      "Scanning file ./2017_kansas_log_data\\1046462053.las\n",
      "Scanning file ./2017_kansas_log_data\\1046462066.las\n",
      "Scanning file ./2017_kansas_log_data\\1046462068.las\n",
      "Scanning file ./2017_kansas_log_data\\1046462072.las\n",
      "Scanning file ./2017_kansas_log_data\\1046462086.las\n",
      "Scanning file ./2017_kansas_log_data\\1046462100.las\n",
      "Scanning file ./2017_kansas_log_data\\1046462115.las\n",
      "Scanning file ./2017_kansas_log_data\\1046462130.las\n",
      "Scanning file ./2017_kansas_log_data\\1046462144.las\n",
      "Scanning file ./2017_kansas_log_data\\1046462145.las\n",
      "Scanning file ./2017_kansas_log_data\\1046462150.las\n",
      "Scanning file ./2017_kansas_log_data\\1046462198.las\n",
      "Scanning file ./2017_kansas_log_data\\1046462213.las\n",
      "Scanning file ./2017_kansas_log_data\\1046462235.las\n",
      "Scanning file ./2017_kansas_log_data\\1046462251.las\n"
     ]
    },
    {
     "name": "stderr",
     "output_type": "stream",
     "text": [
      "Header section Parameter regexp=~P was not found.\n"
     ]
    },
    {
     "name": "stdout",
     "output_type": "stream",
     "text": [
      "Scanning file ./2017_kansas_log_data\\1046462259.las\n",
      "Scanning file ./2017_kansas_log_data\\1046462267.las\n"
     ]
    },
    {
     "name": "stderr",
     "output_type": "stream",
     "text": [
      "Header section Parameter regexp=~P was not found.\n"
     ]
    },
    {
     "name": "stdout",
     "output_type": "stream",
     "text": [
      "Scanning file ./2017_kansas_log_data\\1046462275.las\n",
      "Scanning file ./2017_kansas_log_data\\1046462278.las\n",
      "Scanning file ./2017_kansas_log_data\\1046462282.las\n",
      "Scanning file ./2017_kansas_log_data\\1046462288.las\n",
      "Scanning file ./2017_kansas_log_data\\1046462289.las\n",
      "Scanning file ./2017_kansas_log_data\\1046462298.las\n",
      "Scanning file ./2017_kansas_log_data\\1046462302.las\n",
      "Scanning file ./2017_kansas_log_data\\1046462306.las\n",
      "Scanning file ./2017_kansas_log_data\\1046462316.las\n",
      "Scanning file ./2017_kansas_log_data\\1046462324.las\n"
     ]
    },
    {
     "name": "stderr",
     "output_type": "stream",
     "text": [
      "Header section Parameter regexp=~P was not found.\n"
     ]
    },
    {
     "name": "stdout",
     "output_type": "stream",
     "text": [
      "Scanning file ./2017_kansas_log_data\\1046462329.las\n",
      "Scanning file ./2017_kansas_log_data\\1046462333.las\n",
      "Scanning file ./2017_kansas_log_data\\1046462344.las\n",
      "Scanning file ./2017_kansas_log_data\\1046462350.las\n",
      "Scanning file ./2017_kansas_log_data\\1046462366.las\n",
      "Scanning file ./2017_kansas_log_data\\1046462375.las\n",
      "Scanning file ./2017_kansas_log_data\\1046462378.las\n",
      "Scanning file ./2017_kansas_log_data\\1046462383.las\n",
      "Scanning file ./2017_kansas_log_data\\1046462385.las\n",
      "Scanning file ./2017_kansas_log_data\\1046462391.las\n",
      "Scanning file ./2017_kansas_log_data\\1046462396.las\n",
      "Scanning file ./2017_kansas_log_data\\1046462403.las\n",
      "Scanning file ./2017_kansas_log_data\\1046462414.las\n",
      "Scanning file ./2017_kansas_log_data\\1046462417.las\n",
      "Scanning file ./2017_kansas_log_data\\1046462426.las\n",
      "Scanning file ./2017_kansas_log_data\\1046462433.las\n",
      "Scanning file ./2017_kansas_log_data\\1046462436.las\n",
      "Scanning file ./2017_kansas_log_data\\1046462445.las\n",
      "Scanning file ./2017_kansas_log_data\\1046462448.las\n",
      "Scanning file ./2017_kansas_log_data\\1046462461.las\n",
      "Scanning file ./2017_kansas_log_data\\1046462464.las\n",
      "Scanning file ./2017_kansas_log_data\\1046462469.las\n",
      "Scanning file ./2017_kansas_log_data\\1046462472.las\n",
      "Scanning file ./2017_kansas_log_data\\1046462479.las\n"
     ]
    },
    {
     "name": "stderr",
     "output_type": "stream",
     "text": [
      "Unable to parse line as LAS header: Las Header (Gas)\n",
      "line 30 (section ~Well Information): \"Las Header (Gas)\"\n",
      "Header section Parameter regexp=~P was not found.\n"
     ]
    },
    {
     "name": "stdout",
     "output_type": "stream",
     "text": [
      "Scanning file ./2017_kansas_log_data\\1046467288.las\n"
     ]
    },
    {
     "name": "stderr",
     "output_type": "stream",
     "text": [
      "Header section Parameter regexp=~P was not found.\n"
     ]
    },
    {
     "name": "stdout",
     "output_type": "stream",
     "text": [
      "Scanning file ./2017_kansas_log_data\\1046467293.las\n",
      "Scanning file ./2017_kansas_log_data\\1046467298.las\n",
      "Scanning file ./2017_kansas_log_data\\1046467306.las\n",
      "Scanning file ./2017_kansas_log_data\\1046467307.las\n",
      "Scanning file ./2017_kansas_log_data\\1046467315.las\n",
      "Scanning file ./2017_kansas_log_data\\1046467316.las\n"
     ]
    },
    {
     "name": "stderr",
     "output_type": "stream",
     "text": [
      "c:\\programdata\\anaconda3\\envs\\deeplearning\\lib\\site-packages\\lasio\\las.py:262: FutureWarning: elementwise comparison failed; returning scalar instead, but in the future will perform elementwise comparison\n",
      "  arr[arr == null] = np.nan\n"
     ]
    },
    {
     "ename": "ValueError",
     "evalue": "cannot reshape ~A array of size (179978,) into 21 columns",
     "output_type": "error",
     "traceback": [
      "\u001b[1;31m---------------------------------------------------------------------------\u001b[0m",
      "\u001b[1;31mValueError\u001b[0m                                Traceback (most recent call last)",
      "\u001b[1;32mc:\\programdata\\anaconda3\\envs\\deeplearning\\lib\\site-packages\\lasio\\las.py\u001b[0m in \u001b[0;36mread\u001b[1;34m(self, file_ref, ignore_data, read_policy, null_policy, ignore_header_errors, mnemonic_case, index_unit, **kwargs)\u001b[0m\n\u001b[0;32m    273\u001b[0m                 \u001b[1;32mtry\u001b[0m\u001b[1;33m:\u001b[0m\u001b[1;33m\u001b[0m\u001b[1;33m\u001b[0m\u001b[0m\n\u001b[1;32m--> 274\u001b[1;33m                     \u001b[0mdata\u001b[0m \u001b[1;33m=\u001b[0m \u001b[0mnp\u001b[0m\u001b[1;33m.\u001b[0m\u001b[0mreshape\u001b[0m\u001b[1;33m(\u001b[0m\u001b[0marr\u001b[0m\u001b[1;33m,\u001b[0m \u001b[1;33m(\u001b[0m\u001b[1;33m-\u001b[0m\u001b[1;36m1\u001b[0m\u001b[1;33m,\u001b[0m \u001b[0mn_arr_cols\u001b[0m\u001b[1;33m)\u001b[0m\u001b[1;33m)\u001b[0m\u001b[1;33m\u001b[0m\u001b[1;33m\u001b[0m\u001b[0m\n\u001b[0m\u001b[0;32m    275\u001b[0m                 \u001b[1;32mexcept\u001b[0m \u001b[0mValueError\u001b[0m \u001b[1;32mas\u001b[0m \u001b[0me\u001b[0m\u001b[1;33m:\u001b[0m\u001b[1;33m\u001b[0m\u001b[1;33m\u001b[0m\u001b[0m\n",
      "\u001b[1;32m<__array_function__ internals>\u001b[0m in \u001b[0;36mreshape\u001b[1;34m(*args, **kwargs)\u001b[0m\n",
      "\u001b[1;32mc:\\programdata\\anaconda3\\envs\\deeplearning\\lib\\site-packages\\numpy\\core\\fromnumeric.py\u001b[0m in \u001b[0;36mreshape\u001b[1;34m(a, newshape, order)\u001b[0m\n\u001b[0;32m    300\u001b[0m     \"\"\"\n\u001b[1;32m--> 301\u001b[1;33m     \u001b[1;32mreturn\u001b[0m \u001b[0m_wrapfunc\u001b[0m\u001b[1;33m(\u001b[0m\u001b[0ma\u001b[0m\u001b[1;33m,\u001b[0m \u001b[1;34m'reshape'\u001b[0m\u001b[1;33m,\u001b[0m \u001b[0mnewshape\u001b[0m\u001b[1;33m,\u001b[0m \u001b[0morder\u001b[0m\u001b[1;33m=\u001b[0m\u001b[0morder\u001b[0m\u001b[1;33m)\u001b[0m\u001b[1;33m\u001b[0m\u001b[1;33m\u001b[0m\u001b[0m\n\u001b[0m\u001b[0;32m    302\u001b[0m \u001b[1;33m\u001b[0m\u001b[0m\n",
      "\u001b[1;32mc:\\programdata\\anaconda3\\envs\\deeplearning\\lib\\site-packages\\numpy\\core\\fromnumeric.py\u001b[0m in \u001b[0;36m_wrapfunc\u001b[1;34m(obj, method, *args, **kwds)\u001b[0m\n\u001b[0;32m     60\u001b[0m     \u001b[1;32mtry\u001b[0m\u001b[1;33m:\u001b[0m\u001b[1;33m\u001b[0m\u001b[1;33m\u001b[0m\u001b[0m\n\u001b[1;32m---> 61\u001b[1;33m         \u001b[1;32mreturn\u001b[0m \u001b[0mbound\u001b[0m\u001b[1;33m(\u001b[0m\u001b[1;33m*\u001b[0m\u001b[0margs\u001b[0m\u001b[1;33m,\u001b[0m \u001b[1;33m**\u001b[0m\u001b[0mkwds\u001b[0m\u001b[1;33m)\u001b[0m\u001b[1;33m\u001b[0m\u001b[1;33m\u001b[0m\u001b[0m\n\u001b[0m\u001b[0;32m     62\u001b[0m     \u001b[1;32mexcept\u001b[0m \u001b[0mTypeError\u001b[0m\u001b[1;33m:\u001b[0m\u001b[1;33m\u001b[0m\u001b[1;33m\u001b[0m\u001b[0m\n",
      "\u001b[1;31mValueError\u001b[0m: cannot reshape array of size 179978 into shape (21)",
      "\nDuring handling of the above exception, another exception occurred:\n",
      "\u001b[1;31mValueError\u001b[0m                                Traceback (most recent call last)",
      "\u001b[1;32m<ipython-input-3-7ea6c5a54e90>\u001b[0m in \u001b[0;36m<module>\u001b[1;34m\u001b[0m\n\u001b[0;32m      1\u001b[0m \u001b[1;32mfor\u001b[0m \u001b[0mfname\u001b[0m \u001b[1;32min\u001b[0m \u001b[0mf_names\u001b[0m\u001b[1;33m:\u001b[0m\u001b[1;33m\u001b[0m\u001b[1;33m\u001b[0m\u001b[0m\n\u001b[0;32m      2\u001b[0m     \u001b[0mf_path\u001b[0m \u001b[1;33m=\u001b[0m \u001b[0mos\u001b[0m\u001b[1;33m.\u001b[0m\u001b[0mpath\u001b[0m\u001b[1;33m.\u001b[0m\u001b[0mjoin\u001b[0m\u001b[1;33m(\u001b[0m\u001b[0mdata_dir\u001b[0m\u001b[1;33m,\u001b[0m \u001b[0mfname\u001b[0m\u001b[1;33m)\u001b[0m\u001b[1;33m\u001b[0m\u001b[1;33m\u001b[0m\u001b[0m\n\u001b[1;32m----> 3\u001b[1;33m     \u001b[0mf\u001b[0m \u001b[1;33m=\u001b[0m \u001b[0mlasio\u001b[0m\u001b[1;33m.\u001b[0m\u001b[0mread\u001b[0m\u001b[1;33m(\u001b[0m\u001b[0mf_path\u001b[0m\u001b[1;33m,\u001b[0m\u001b[0mignore_header_errors\u001b[0m\u001b[1;33m=\u001b[0m\u001b[1;32mTrue\u001b[0m\u001b[1;33m)\u001b[0m\u001b[1;33m\u001b[0m\u001b[1;33m\u001b[0m\u001b[0m\n\u001b[0m\u001b[0;32m      4\u001b[0m     \u001b[0mprint\u001b[0m\u001b[1;33m(\u001b[0m\u001b[1;34mf\"Scanning file {f_path}\"\u001b[0m\u001b[1;33m)\u001b[0m\u001b[1;33m\u001b[0m\u001b[1;33m\u001b[0m\u001b[0m\n\u001b[0;32m      5\u001b[0m     \u001b[0mdf\u001b[0m \u001b[1;33m=\u001b[0m \u001b[0mf\u001b[0m\u001b[1;33m.\u001b[0m\u001b[0mdf\u001b[0m\u001b[1;33m(\u001b[0m\u001b[1;33m)\u001b[0m\u001b[1;33m\u001b[0m\u001b[1;33m\u001b[0m\u001b[0m\n",
      "\u001b[1;32mc:\\programdata\\anaconda3\\envs\\deeplearning\\lib\\site-packages\\lasio\\__init__.py\u001b[0m in \u001b[0;36mread\u001b[1;34m(file_ref, **kwargs)\u001b[0m\n\u001b[0;32m     47\u001b[0m \u001b[1;33m\u001b[0m\u001b[0m\n\u001b[0;32m     48\u001b[0m     '''\n\u001b[1;32m---> 49\u001b[1;33m     \u001b[1;32mreturn\u001b[0m \u001b[0mLASFile\u001b[0m\u001b[1;33m(\u001b[0m\u001b[0mfile_ref\u001b[0m\u001b[1;33m,\u001b[0m \u001b[1;33m**\u001b[0m\u001b[0mkwargs\u001b[0m\u001b[1;33m)\u001b[0m\u001b[1;33m\u001b[0m\u001b[1;33m\u001b[0m\u001b[0m\n\u001b[0m",
      "\u001b[1;32mc:\\programdata\\anaconda3\\envs\\deeplearning\\lib\\site-packages\\lasio\\las.py\u001b[0m in \u001b[0;36m__init__\u001b[1;34m(self, file_ref, **read_kwargs)\u001b[0m\n\u001b[0;32m     82\u001b[0m \u001b[1;33m\u001b[0m\u001b[0m\n\u001b[0;32m     83\u001b[0m         \u001b[1;32mif\u001b[0m \u001b[1;32mnot\u001b[0m \u001b[1;33m(\u001b[0m\u001b[0mfile_ref\u001b[0m \u001b[1;32mis\u001b[0m \u001b[1;32mNone\u001b[0m\u001b[1;33m)\u001b[0m\u001b[1;33m:\u001b[0m\u001b[1;33m\u001b[0m\u001b[1;33m\u001b[0m\u001b[0m\n\u001b[1;32m---> 84\u001b[1;33m             \u001b[0mself\u001b[0m\u001b[1;33m.\u001b[0m\u001b[0mread\u001b[0m\u001b[1;33m(\u001b[0m\u001b[0mfile_ref\u001b[0m\u001b[1;33m,\u001b[0m \u001b[1;33m**\u001b[0m\u001b[0mread_kwargs\u001b[0m\u001b[1;33m)\u001b[0m\u001b[1;33m\u001b[0m\u001b[1;33m\u001b[0m\u001b[0m\n\u001b[0m\u001b[0;32m     85\u001b[0m \u001b[1;33m\u001b[0m\u001b[0m\n\u001b[0;32m     86\u001b[0m     def read(\n",
      "\u001b[1;32mc:\\programdata\\anaconda3\\envs\\deeplearning\\lib\\site-packages\\lasio\\las.py\u001b[0m in \u001b[0;36mread\u001b[1;34m(self, file_ref, ignore_data, read_policy, null_policy, ignore_header_errors, mnemonic_case, index_unit, **kwargs)\u001b[0m\n\u001b[0;32m    285\u001b[0m                         \u001b[1;32mraise\u001b[0m \u001b[0me\u001b[0m\u001b[1;33m\u001b[0m\u001b[1;33m\u001b[0m\u001b[0m\n\u001b[0;32m    286\u001b[0m                     \u001b[1;32melse\u001b[0m\u001b[1;33m:\u001b[0m\u001b[1;33m\u001b[0m\u001b[1;33m\u001b[0m\u001b[0m\n\u001b[1;32m--> 287\u001b[1;33m                         \u001b[1;32mraise\u001b[0m \u001b[0mValueError\u001b[0m\u001b[1;33m(\u001b[0m\u001b[0merr_msg\u001b[0m\u001b[1;33m)\u001b[0m\u001b[1;33m.\u001b[0m\u001b[0mwith_traceback\u001b[0m\u001b[1;33m(\u001b[0m\u001b[0me\u001b[0m\u001b[1;33m.\u001b[0m\u001b[0m__traceback__\u001b[0m\u001b[1;33m)\u001b[0m\u001b[1;33m\u001b[0m\u001b[1;33m\u001b[0m\u001b[0m\n\u001b[0m\u001b[0;32m    288\u001b[0m                 \u001b[0mself\u001b[0m\u001b[1;33m.\u001b[0m\u001b[0mset_data\u001b[0m\u001b[1;33m(\u001b[0m\u001b[0mdata\u001b[0m\u001b[1;33m,\u001b[0m \u001b[0mtruncate\u001b[0m\u001b[1;33m=\u001b[0m\u001b[1;32mFalse\u001b[0m\u001b[1;33m)\u001b[0m\u001b[1;33m\u001b[0m\u001b[1;33m\u001b[0m\u001b[0m\n\u001b[0;32m    289\u001b[0m                 \u001b[0mdrop\u001b[0m\u001b[1;33m.\u001b[0m\u001b[0mappend\u001b[0m\u001b[1;33m(\u001b[0m\u001b[0ms\u001b[0m\u001b[1;33m[\u001b[0m\u001b[1;34m\"title\"\u001b[0m\u001b[1;33m]\u001b[0m\u001b[1;33m)\u001b[0m\u001b[1;33m\u001b[0m\u001b[1;33m\u001b[0m\u001b[0m\n",
      "\u001b[1;32mc:\\programdata\\anaconda3\\envs\\deeplearning\\lib\\site-packages\\lasio\\las.py\u001b[0m in \u001b[0;36mread\u001b[1;34m(self, file_ref, ignore_data, read_policy, null_policy, ignore_header_errors, mnemonic_case, index_unit, **kwargs)\u001b[0m\n\u001b[0;32m    272\u001b[0m                         \u001b[0mn_arr_cols\u001b[0m \u001b[1;33m=\u001b[0m \u001b[0ms\u001b[0m\u001b[1;33m[\u001b[0m\u001b[1;34m\"ncols\"\u001b[0m\u001b[1;33m]\u001b[0m\u001b[1;33m\u001b[0m\u001b[1;33m\u001b[0m\u001b[0m\n\u001b[0;32m    273\u001b[0m                 \u001b[1;32mtry\u001b[0m\u001b[1;33m:\u001b[0m\u001b[1;33m\u001b[0m\u001b[1;33m\u001b[0m\u001b[0m\n\u001b[1;32m--> 274\u001b[1;33m                     \u001b[0mdata\u001b[0m \u001b[1;33m=\u001b[0m \u001b[0mnp\u001b[0m\u001b[1;33m.\u001b[0m\u001b[0mreshape\u001b[0m\u001b[1;33m(\u001b[0m\u001b[0marr\u001b[0m\u001b[1;33m,\u001b[0m \u001b[1;33m(\u001b[0m\u001b[1;33m-\u001b[0m\u001b[1;36m1\u001b[0m\u001b[1;33m,\u001b[0m \u001b[0mn_arr_cols\u001b[0m\u001b[1;33m)\u001b[0m\u001b[1;33m)\u001b[0m\u001b[1;33m\u001b[0m\u001b[1;33m\u001b[0m\u001b[0m\n\u001b[0m\u001b[0;32m    275\u001b[0m                 \u001b[1;32mexcept\u001b[0m \u001b[0mValueError\u001b[0m \u001b[1;32mas\u001b[0m \u001b[0me\u001b[0m\u001b[1;33m:\u001b[0m\u001b[1;33m\u001b[0m\u001b[1;33m\u001b[0m\u001b[0m\n\u001b[0;32m    276\u001b[0m                     err_msg = (\n",
      "\u001b[1;32m<__array_function__ internals>\u001b[0m in \u001b[0;36mreshape\u001b[1;34m(*args, **kwargs)\u001b[0m\n",
      "\u001b[1;32mc:\\programdata\\anaconda3\\envs\\deeplearning\\lib\\site-packages\\numpy\\core\\fromnumeric.py\u001b[0m in \u001b[0;36mreshape\u001b[1;34m(a, newshape, order)\u001b[0m\n\u001b[0;32m    299\u001b[0m            [5, 6]])\n\u001b[0;32m    300\u001b[0m     \"\"\"\n\u001b[1;32m--> 301\u001b[1;33m     \u001b[1;32mreturn\u001b[0m \u001b[0m_wrapfunc\u001b[0m\u001b[1;33m(\u001b[0m\u001b[0ma\u001b[0m\u001b[1;33m,\u001b[0m \u001b[1;34m'reshape'\u001b[0m\u001b[1;33m,\u001b[0m \u001b[0mnewshape\u001b[0m\u001b[1;33m,\u001b[0m \u001b[0morder\u001b[0m\u001b[1;33m=\u001b[0m\u001b[0morder\u001b[0m\u001b[1;33m)\u001b[0m\u001b[1;33m\u001b[0m\u001b[1;33m\u001b[0m\u001b[0m\n\u001b[0m\u001b[0;32m    302\u001b[0m \u001b[1;33m\u001b[0m\u001b[0m\n\u001b[0;32m    303\u001b[0m \u001b[1;33m\u001b[0m\u001b[0m\n",
      "\u001b[1;32mc:\\programdata\\anaconda3\\envs\\deeplearning\\lib\\site-packages\\numpy\\core\\fromnumeric.py\u001b[0m in \u001b[0;36m_wrapfunc\u001b[1;34m(obj, method, *args, **kwds)\u001b[0m\n\u001b[0;32m     59\u001b[0m \u001b[1;33m\u001b[0m\u001b[0m\n\u001b[0;32m     60\u001b[0m     \u001b[1;32mtry\u001b[0m\u001b[1;33m:\u001b[0m\u001b[1;33m\u001b[0m\u001b[1;33m\u001b[0m\u001b[0m\n\u001b[1;32m---> 61\u001b[1;33m         \u001b[1;32mreturn\u001b[0m \u001b[0mbound\u001b[0m\u001b[1;33m(\u001b[0m\u001b[1;33m*\u001b[0m\u001b[0margs\u001b[0m\u001b[1;33m,\u001b[0m \u001b[1;33m**\u001b[0m\u001b[0mkwds\u001b[0m\u001b[1;33m)\u001b[0m\u001b[1;33m\u001b[0m\u001b[1;33m\u001b[0m\u001b[0m\n\u001b[0m\u001b[0;32m     62\u001b[0m     \u001b[1;32mexcept\u001b[0m \u001b[0mTypeError\u001b[0m\u001b[1;33m:\u001b[0m\u001b[1;33m\u001b[0m\u001b[1;33m\u001b[0m\u001b[0m\n\u001b[0;32m     63\u001b[0m         \u001b[1;31m# A TypeError occurs if the object does have such a method in its\u001b[0m\u001b[1;33m\u001b[0m\u001b[1;33m\u001b[0m\u001b[1;33m\u001b[0m\u001b[0m\n",
      "\u001b[1;31mValueError\u001b[0m: cannot reshape ~A array of size (179978,) into 21 columns"
     ]
    }
   ],
   "source": [
    "for fname in f_names:\n",
    "    f_path = os.path.join(data_dir, fname)\n",
    "    f = lasio.read(f_path,ignore_header_errors=True)\n",
    "    print(f\"Scanning file {f_path}\")\n",
    "    df = f.df()\n",
    "    df_list.append(df)\n",
    "print(f\"Number of files scanned = {len(df_list)}\")"
   ]
  },
  {
   "cell_type": "code",
   "execution_count": 4,
   "metadata": {},
   "outputs": [
    {
     "ename": "MemoryError",
     "evalue": "Unable to allocate 9.95 GiB for an array with shape (279, 4785429) and data type float64",
     "output_type": "error",
     "traceback": [
      "\u001b[1;31m---------------------------------------------------------------------------\u001b[0m",
      "\u001b[1;31mMemoryError\u001b[0m                               Traceback (most recent call last)",
      "\u001b[1;32m<ipython-input-4-94aefa176318>\u001b[0m in \u001b[0;36m<module>\u001b[1;34m\u001b[0m\n\u001b[0;32m      1\u001b[0m \u001b[0mdataframe\u001b[0m \u001b[1;33m=\u001b[0m \u001b[0mpd\u001b[0m\u001b[1;33m.\u001b[0m\u001b[0mconcat\u001b[0m\u001b[1;33m(\u001b[0m\u001b[0mdf_list\u001b[0m\u001b[1;33m,\u001b[0m\u001b[0maxis\u001b[0m\u001b[1;33m=\u001b[0m\u001b[1;36m0\u001b[0m\u001b[1;33m)\u001b[0m\u001b[1;33m\u001b[0m\u001b[1;33m\u001b[0m\u001b[0m\n\u001b[1;32m----> 2\u001b[1;33m \u001b[0mdataframe\u001b[0m\u001b[1;33m.\u001b[0m\u001b[0mreset_index\u001b[0m\u001b[1;33m(\u001b[0m\u001b[0minplace\u001b[0m\u001b[1;33m=\u001b[0m\u001b[1;32mTrue\u001b[0m\u001b[1;33m)\u001b[0m\u001b[1;33m\u001b[0m\u001b[1;33m\u001b[0m\u001b[0m\n\u001b[0m\u001b[0;32m      3\u001b[0m \u001b[0mprint\u001b[0m\u001b[1;33m(\u001b[0m\u001b[0mdataframe\u001b[0m\u001b[1;33m.\u001b[0m\u001b[0mhead\u001b[0m\u001b[1;33m(\u001b[0m\u001b[1;33m)\u001b[0m\u001b[1;33m)\u001b[0m\u001b[1;33m\u001b[0m\u001b[1;33m\u001b[0m\u001b[0m\n",
      "\u001b[1;32mc:\\programdata\\anaconda3\\envs\\deeplearning\\lib\\site-packages\\pandas\\core\\frame.py\u001b[0m in \u001b[0;36mreset_index\u001b[1;34m(self, level, drop, inplace, col_level, col_fill)\u001b[0m\n\u001b[0;32m   4847\u001b[0m                 \u001b[1;31m# to ndarray and maybe infer different dtype\u001b[0m\u001b[1;33m\u001b[0m\u001b[1;33m\u001b[0m\u001b[1;33m\u001b[0m\u001b[0m\n\u001b[0;32m   4848\u001b[0m                 \u001b[0mlevel_values\u001b[0m \u001b[1;33m=\u001b[0m \u001b[0m_maybe_casted_values\u001b[0m\u001b[1;33m(\u001b[0m\u001b[0mlev\u001b[0m\u001b[1;33m,\u001b[0m \u001b[0mlab\u001b[0m\u001b[1;33m)\u001b[0m\u001b[1;33m\u001b[0m\u001b[1;33m\u001b[0m\u001b[0m\n\u001b[1;32m-> 4849\u001b[1;33m                 \u001b[0mnew_obj\u001b[0m\u001b[1;33m.\u001b[0m\u001b[0minsert\u001b[0m\u001b[1;33m(\u001b[0m\u001b[1;36m0\u001b[0m\u001b[1;33m,\u001b[0m \u001b[0mname\u001b[0m\u001b[1;33m,\u001b[0m \u001b[0mlevel_values\u001b[0m\u001b[1;33m)\u001b[0m\u001b[1;33m\u001b[0m\u001b[1;33m\u001b[0m\u001b[0m\n\u001b[0m\u001b[0;32m   4850\u001b[0m \u001b[1;33m\u001b[0m\u001b[0m\n\u001b[0;32m   4851\u001b[0m         \u001b[0mnew_obj\u001b[0m\u001b[1;33m.\u001b[0m\u001b[0mindex\u001b[0m \u001b[1;33m=\u001b[0m \u001b[0mnew_index\u001b[0m\u001b[1;33m\u001b[0m\u001b[1;33m\u001b[0m\u001b[0m\n",
      "\u001b[1;32mc:\\programdata\\anaconda3\\envs\\deeplearning\\lib\\site-packages\\pandas\\core\\frame.py\u001b[0m in \u001b[0;36minsert\u001b[1;34m(self, loc, column, value, allow_duplicates)\u001b[0m\n\u001b[0;32m   3616\u001b[0m         \u001b[0mself\u001b[0m\u001b[1;33m.\u001b[0m\u001b[0m_ensure_valid_index\u001b[0m\u001b[1;33m(\u001b[0m\u001b[0mvalue\u001b[0m\u001b[1;33m)\u001b[0m\u001b[1;33m\u001b[0m\u001b[1;33m\u001b[0m\u001b[0m\n\u001b[0;32m   3617\u001b[0m         \u001b[0mvalue\u001b[0m \u001b[1;33m=\u001b[0m \u001b[0mself\u001b[0m\u001b[1;33m.\u001b[0m\u001b[0m_sanitize_column\u001b[0m\u001b[1;33m(\u001b[0m\u001b[0mcolumn\u001b[0m\u001b[1;33m,\u001b[0m \u001b[0mvalue\u001b[0m\u001b[1;33m,\u001b[0m \u001b[0mbroadcast\u001b[0m\u001b[1;33m=\u001b[0m\u001b[1;32mFalse\u001b[0m\u001b[1;33m)\u001b[0m\u001b[1;33m\u001b[0m\u001b[1;33m\u001b[0m\u001b[0m\n\u001b[1;32m-> 3618\u001b[1;33m         \u001b[0mself\u001b[0m\u001b[1;33m.\u001b[0m\u001b[0m_mgr\u001b[0m\u001b[1;33m.\u001b[0m\u001b[0minsert\u001b[0m\u001b[1;33m(\u001b[0m\u001b[0mloc\u001b[0m\u001b[1;33m,\u001b[0m \u001b[0mcolumn\u001b[0m\u001b[1;33m,\u001b[0m \u001b[0mvalue\u001b[0m\u001b[1;33m,\u001b[0m \u001b[0mallow_duplicates\u001b[0m\u001b[1;33m=\u001b[0m\u001b[0mallow_duplicates\u001b[0m\u001b[1;33m)\u001b[0m\u001b[1;33m\u001b[0m\u001b[1;33m\u001b[0m\u001b[0m\n\u001b[0m\u001b[0;32m   3619\u001b[0m \u001b[1;33m\u001b[0m\u001b[0m\n\u001b[0;32m   3620\u001b[0m     \u001b[1;32mdef\u001b[0m \u001b[0massign\u001b[0m\u001b[1;33m(\u001b[0m\u001b[0mself\u001b[0m\u001b[1;33m,\u001b[0m \u001b[1;33m**\u001b[0m\u001b[0mkwargs\u001b[0m\u001b[1;33m)\u001b[0m \u001b[1;33m->\u001b[0m \u001b[1;34m\"DataFrame\"\u001b[0m\u001b[1;33m:\u001b[0m\u001b[1;33m\u001b[0m\u001b[1;33m\u001b[0m\u001b[0m\n",
      "\u001b[1;32mc:\\programdata\\anaconda3\\envs\\deeplearning\\lib\\site-packages\\pandas\\core\\internals\\managers.py\u001b[0m in \u001b[0;36minsert\u001b[1;34m(self, loc, item, value, allow_duplicates)\u001b[0m\n\u001b[0;32m   1183\u001b[0m \u001b[1;33m\u001b[0m\u001b[0m\n\u001b[0;32m   1184\u001b[0m         \u001b[1;32mif\u001b[0m \u001b[0mlen\u001b[0m\u001b[1;33m(\u001b[0m\u001b[0mself\u001b[0m\u001b[1;33m.\u001b[0m\u001b[0mblocks\u001b[0m\u001b[1;33m)\u001b[0m \u001b[1;33m>\u001b[0m \u001b[1;36m100\u001b[0m\u001b[1;33m:\u001b[0m\u001b[1;33m\u001b[0m\u001b[1;33m\u001b[0m\u001b[0m\n\u001b[1;32m-> 1185\u001b[1;33m             \u001b[0mself\u001b[0m\u001b[1;33m.\u001b[0m\u001b[0m_consolidate_inplace\u001b[0m\u001b[1;33m(\u001b[0m\u001b[1;33m)\u001b[0m\u001b[1;33m\u001b[0m\u001b[1;33m\u001b[0m\u001b[0m\n\u001b[0m\u001b[0;32m   1186\u001b[0m \u001b[1;33m\u001b[0m\u001b[0m\n\u001b[0;32m   1187\u001b[0m     def reindex_axis(\n",
      "\u001b[1;32mc:\\programdata\\anaconda3\\envs\\deeplearning\\lib\\site-packages\\pandas\\core\\internals\\managers.py\u001b[0m in \u001b[0;36m_consolidate_inplace\u001b[1;34m(self)\u001b[0m\n\u001b[0;32m    948\u001b[0m     \u001b[1;32mdef\u001b[0m \u001b[0m_consolidate_inplace\u001b[0m\u001b[1;33m(\u001b[0m\u001b[0mself\u001b[0m\u001b[1;33m)\u001b[0m \u001b[1;33m->\u001b[0m \u001b[1;32mNone\u001b[0m\u001b[1;33m:\u001b[0m\u001b[1;33m\u001b[0m\u001b[1;33m\u001b[0m\u001b[0m\n\u001b[0;32m    949\u001b[0m         \u001b[1;32mif\u001b[0m \u001b[1;32mnot\u001b[0m \u001b[0mself\u001b[0m\u001b[1;33m.\u001b[0m\u001b[0mis_consolidated\u001b[0m\u001b[1;33m(\u001b[0m\u001b[1;33m)\u001b[0m\u001b[1;33m:\u001b[0m\u001b[1;33m\u001b[0m\u001b[1;33m\u001b[0m\u001b[0m\n\u001b[1;32m--> 950\u001b[1;33m             \u001b[0mself\u001b[0m\u001b[1;33m.\u001b[0m\u001b[0mblocks\u001b[0m \u001b[1;33m=\u001b[0m \u001b[0mtuple\u001b[0m\u001b[1;33m(\u001b[0m\u001b[0m_consolidate\u001b[0m\u001b[1;33m(\u001b[0m\u001b[0mself\u001b[0m\u001b[1;33m.\u001b[0m\u001b[0mblocks\u001b[0m\u001b[1;33m)\u001b[0m\u001b[1;33m)\u001b[0m\u001b[1;33m\u001b[0m\u001b[1;33m\u001b[0m\u001b[0m\n\u001b[0m\u001b[0;32m    951\u001b[0m             \u001b[0mself\u001b[0m\u001b[1;33m.\u001b[0m\u001b[0m_is_consolidated\u001b[0m \u001b[1;33m=\u001b[0m \u001b[1;32mTrue\u001b[0m\u001b[1;33m\u001b[0m\u001b[1;33m\u001b[0m\u001b[0m\n\u001b[0;32m    952\u001b[0m             \u001b[0mself\u001b[0m\u001b[1;33m.\u001b[0m\u001b[0m_known_consolidated\u001b[0m \u001b[1;33m=\u001b[0m \u001b[1;32mTrue\u001b[0m\u001b[1;33m\u001b[0m\u001b[1;33m\u001b[0m\u001b[0m\n",
      "\u001b[1;32mc:\\programdata\\anaconda3\\envs\\deeplearning\\lib\\site-packages\\pandas\\core\\internals\\managers.py\u001b[0m in \u001b[0;36m_consolidate\u001b[1;34m(blocks)\u001b[0m\n\u001b[0;32m   1865\u001b[0m     \u001b[1;32mfor\u001b[0m \u001b[1;33m(\u001b[0m\u001b[0m_can_consolidate\u001b[0m\u001b[1;33m,\u001b[0m \u001b[0mdtype\u001b[0m\u001b[1;33m)\u001b[0m\u001b[1;33m,\u001b[0m \u001b[0mgroup_blocks\u001b[0m \u001b[1;32min\u001b[0m \u001b[0mgrouper\u001b[0m\u001b[1;33m:\u001b[0m\u001b[1;33m\u001b[0m\u001b[1;33m\u001b[0m\u001b[0m\n\u001b[0;32m   1866\u001b[0m         merged_blocks = _merge_blocks(\n\u001b[1;32m-> 1867\u001b[1;33m             \u001b[0mlist\u001b[0m\u001b[1;33m(\u001b[0m\u001b[0mgroup_blocks\u001b[0m\u001b[1;33m)\u001b[0m\u001b[1;33m,\u001b[0m \u001b[0mdtype\u001b[0m\u001b[1;33m=\u001b[0m\u001b[0mdtype\u001b[0m\u001b[1;33m,\u001b[0m \u001b[0mcan_consolidate\u001b[0m\u001b[1;33m=\u001b[0m\u001b[0m_can_consolidate\u001b[0m\u001b[1;33m\u001b[0m\u001b[1;33m\u001b[0m\u001b[0m\n\u001b[0m\u001b[0;32m   1868\u001b[0m         )\n\u001b[0;32m   1869\u001b[0m         \u001b[0mnew_blocks\u001b[0m \u001b[1;33m=\u001b[0m \u001b[0m_extend_blocks\u001b[0m\u001b[1;33m(\u001b[0m\u001b[0mmerged_blocks\u001b[0m\u001b[1;33m,\u001b[0m \u001b[0mnew_blocks\u001b[0m\u001b[1;33m)\u001b[0m\u001b[1;33m\u001b[0m\u001b[1;33m\u001b[0m\u001b[0m\n",
      "\u001b[1;32mc:\\programdata\\anaconda3\\envs\\deeplearning\\lib\\site-packages\\pandas\\core\\internals\\managers.py\u001b[0m in \u001b[0;36m_merge_blocks\u001b[1;34m(blocks, dtype, can_consolidate)\u001b[0m\n\u001b[0;32m   1887\u001b[0m         \u001b[1;31m# combination of those slices is a slice, too.\u001b[0m\u001b[1;33m\u001b[0m\u001b[1;33m\u001b[0m\u001b[1;33m\u001b[0m\u001b[0m\n\u001b[0;32m   1888\u001b[0m         \u001b[0mnew_mgr_locs\u001b[0m \u001b[1;33m=\u001b[0m \u001b[0mnp\u001b[0m\u001b[1;33m.\u001b[0m\u001b[0mconcatenate\u001b[0m\u001b[1;33m(\u001b[0m\u001b[1;33m[\u001b[0m\u001b[0mb\u001b[0m\u001b[1;33m.\u001b[0m\u001b[0mmgr_locs\u001b[0m\u001b[1;33m.\u001b[0m\u001b[0mas_array\u001b[0m \u001b[1;32mfor\u001b[0m \u001b[0mb\u001b[0m \u001b[1;32min\u001b[0m \u001b[0mblocks\u001b[0m\u001b[1;33m]\u001b[0m\u001b[1;33m)\u001b[0m\u001b[1;33m\u001b[0m\u001b[1;33m\u001b[0m\u001b[0m\n\u001b[1;32m-> 1889\u001b[1;33m         \u001b[0mnew_values\u001b[0m \u001b[1;33m=\u001b[0m \u001b[0mnp\u001b[0m\u001b[1;33m.\u001b[0m\u001b[0mvstack\u001b[0m\u001b[1;33m(\u001b[0m\u001b[1;33m[\u001b[0m\u001b[0mb\u001b[0m\u001b[1;33m.\u001b[0m\u001b[0mvalues\u001b[0m \u001b[1;32mfor\u001b[0m \u001b[0mb\u001b[0m \u001b[1;32min\u001b[0m \u001b[0mblocks\u001b[0m\u001b[1;33m]\u001b[0m\u001b[1;33m)\u001b[0m\u001b[1;33m\u001b[0m\u001b[1;33m\u001b[0m\u001b[0m\n\u001b[0m\u001b[0;32m   1890\u001b[0m \u001b[1;33m\u001b[0m\u001b[0m\n\u001b[0;32m   1891\u001b[0m         \u001b[0margsort\u001b[0m \u001b[1;33m=\u001b[0m \u001b[0mnp\u001b[0m\u001b[1;33m.\u001b[0m\u001b[0margsort\u001b[0m\u001b[1;33m(\u001b[0m\u001b[0mnew_mgr_locs\u001b[0m\u001b[1;33m)\u001b[0m\u001b[1;33m\u001b[0m\u001b[1;33m\u001b[0m\u001b[0m\n",
      "\u001b[1;32m<__array_function__ internals>\u001b[0m in \u001b[0;36mvstack\u001b[1;34m(*args, **kwargs)\u001b[0m\n",
      "\u001b[1;32mc:\\programdata\\anaconda3\\envs\\deeplearning\\lib\\site-packages\\numpy\\core\\shape_base.py\u001b[0m in \u001b[0;36mvstack\u001b[1;34m(tup)\u001b[0m\n\u001b[0;32m    281\u001b[0m     \u001b[1;32mif\u001b[0m \u001b[1;32mnot\u001b[0m \u001b[0misinstance\u001b[0m\u001b[1;33m(\u001b[0m\u001b[0marrs\u001b[0m\u001b[1;33m,\u001b[0m \u001b[0mlist\u001b[0m\u001b[1;33m)\u001b[0m\u001b[1;33m:\u001b[0m\u001b[1;33m\u001b[0m\u001b[1;33m\u001b[0m\u001b[0m\n\u001b[0;32m    282\u001b[0m         \u001b[0marrs\u001b[0m \u001b[1;33m=\u001b[0m \u001b[1;33m[\u001b[0m\u001b[0marrs\u001b[0m\u001b[1;33m]\u001b[0m\u001b[1;33m\u001b[0m\u001b[1;33m\u001b[0m\u001b[0m\n\u001b[1;32m--> 283\u001b[1;33m     \u001b[1;32mreturn\u001b[0m \u001b[0m_nx\u001b[0m\u001b[1;33m.\u001b[0m\u001b[0mconcatenate\u001b[0m\u001b[1;33m(\u001b[0m\u001b[0marrs\u001b[0m\u001b[1;33m,\u001b[0m \u001b[1;36m0\u001b[0m\u001b[1;33m)\u001b[0m\u001b[1;33m\u001b[0m\u001b[1;33m\u001b[0m\u001b[0m\n\u001b[0m\u001b[0;32m    284\u001b[0m \u001b[1;33m\u001b[0m\u001b[0m\n\u001b[0;32m    285\u001b[0m \u001b[1;33m\u001b[0m\u001b[0m\n",
      "\u001b[1;32m<__array_function__ internals>\u001b[0m in \u001b[0;36mconcatenate\u001b[1;34m(*args, **kwargs)\u001b[0m\n",
      "\u001b[1;31mMemoryError\u001b[0m: Unable to allocate 9.95 GiB for an array with shape (279, 4785429) and data type float64"
     ]
    }
   ],
   "source": [
    "dataframe = pd.concat(df_list,axis=0)\n",
    "dataframe.reset_index(inplace=True)\n",
    "print(dataframe.head())"
   ]
  },
  {
   "cell_type": "code",
   "execution_count": 5,
   "metadata": {},
   "outputs": [
    {
     "name": "stdout",
     "output_type": "stream",
     "text": [
      "               index          ABHV         CNPOR          DCAL          DPOR  \\\n",
      "count  106981.000000  31647.000000  38712.000000  58842.000000  58884.000000   \n",
      "mean     2366.713173    468.455669     21.798227      4.346056     79.442334   \n",
      "std      1289.953232    368.306470     10.695797      5.907378   1756.164830   \n",
      "min        -4.000000      0.000000    -11.505800   -499.625000   -499.625000   \n",
      "25%      1360.500000    140.147050     14.046225     -0.846700      7.814750   \n",
      "50%      2415.100000    351.559300     21.679700      7.775700     16.537800   \n",
      "75%      3180.500000    831.480400     28.685225      8.047000     36.739475   \n",
      "max      5448.500000   1192.426000    100.000000     73.324100  58594.152300   \n",
      "\n",
      "                 GR          RHOB          RHOC           RILD           RILM  \\\n",
      "count  91820.000000  65964.000000  58873.000000   85399.000000   85427.000000   \n",
      "mean      63.142731      1.626975     -0.014286    2415.164663    6358.066892   \n",
      "std       36.160660     25.411611      2.916222   15300.280675   24371.421213   \n",
      "min        0.000000   -999.000000   -499.625000    -499.625000    -499.625000   \n",
      "25%       38.795700      2.127300     -0.085300       2.852950       2.362400   \n",
      "50%       59.192800      2.454800      0.025700       5.080600       4.223500   \n",
      "75%       82.248025      2.584200      0.095800      12.524000      11.356600   \n",
      "max     1186.923700      4.560700      0.702100  100000.000000  100000.000000   \n",
      "\n",
      "       ...         DPHI         DPHD         DLIM         CT90         CALI  \\\n",
      "count  ...  7091.000000  7091.000000  7091.000000  7156.000000  7093.000000   \n",
      "mean   ...     0.119025     0.194403     0.119025   239.405521     8.791892   \n",
      "std    ...     0.140160     0.128167     0.140160   279.031101     1.764016   \n",
      "min    ...    -0.169900    -0.069800    -0.169900     0.500000     4.500000   \n",
      "25%    ...     0.042700     0.124600     0.042700    63.055800     7.921600   \n",
      "50%    ...     0.089300     0.167200     0.089300   157.572650     8.340400   \n",
      "75%    ...     0.153400     0.225900     0.153400   307.091750     9.183500   \n",
      "max    ...     0.933000     0.938700     0.933000  2291.034200    20.910900   \n",
      "\n",
      "              MINV         MNOR       DELTAT           ITTT         SPHI  \n",
      "count  7089.000000  7089.000000  7074.000000    7125.000000  7074.000000  \n",
      "mean     16.018992    15.672824    69.594920  117093.573233     0.155551  \n",
      "std      18.594327    19.816015    15.029058   69883.261505     0.106288  \n",
      "min       0.090600     0.087600    40.963500       0.000000    -0.046900  \n",
      "25%       3.404800     2.888600    58.644025   57457.062500     0.078100  \n",
      "50%       6.445500     7.195200    66.193350  114759.398400     0.131500  \n",
      "75%      24.148500    19.161600    76.257750  176146.312500     0.202675  \n",
      "max      73.158300    96.622400   132.914300  247747.593800     0.603400  \n",
      "\n",
      "[8 rows x 82 columns]\n"
     ]
    }
   ],
   "source": [
    "stats = dataframe.describe()\n",
    "print(stats)"
   ]
  },
  {
   "cell_type": "code",
   "execution_count": 6,
   "metadata": {},
   "outputs": [
    {
     "name": "stdout",
     "output_type": "stream",
     "text": [
      "index         0\n",
      "ABHV      75334\n",
      "CNPOR     68269\n",
      "DCAL      48139\n",
      "DPOR      48097\n",
      "          ...  \n",
      "MINV      99892\n",
      "MNOR      99892\n",
      "DELTAT    99907\n",
      "ITTT      99856\n",
      "SPHI      99907\n",
      "Length: 82, dtype: int64\n"
     ]
    }
   ],
   "source": [
    "num_na = dataframe.isna().sum()\n",
    "print(num_na)"
   ]
  },
  {
   "cell_type": "code",
   "execution_count": 9,
   "metadata": {},
   "outputs": [
    {
     "data": {
      "text/html": [
       "<div>\n",
       "<style scoped>\n",
       "    .dataframe tbody tr th:only-of-type {\n",
       "        vertical-align: middle;\n",
       "    }\n",
       "\n",
       "    .dataframe tbody tr th {\n",
       "        vertical-align: top;\n",
       "    }\n",
       "\n",
       "    .dataframe thead th {\n",
       "        text-align: right;\n",
       "    }\n",
       "</style>\n",
       "<table border=\"1\" class=\"dataframe\">\n",
       "  <thead>\n",
       "    <tr style=\"text-align: right;\">\n",
       "      <th></th>\n",
       "      <th>index</th>\n",
       "      <th>ABHV</th>\n",
       "      <th>CNPOR</th>\n",
       "      <th>DCAL</th>\n",
       "      <th>DPOR</th>\n",
       "      <th>GR</th>\n",
       "      <th>RHOB</th>\n",
       "      <th>RHOC</th>\n",
       "      <th>RILD</th>\n",
       "      <th>RILM</th>\n",
       "      <th>...</th>\n",
       "      <th>DPHI</th>\n",
       "      <th>DPHD</th>\n",
       "      <th>DLIM</th>\n",
       "      <th>CT90</th>\n",
       "      <th>CALI</th>\n",
       "      <th>MINV</th>\n",
       "      <th>MNOR</th>\n",
       "      <th>DELTAT</th>\n",
       "      <th>ITTT</th>\n",
       "      <th>SPHI</th>\n",
       "    </tr>\n",
       "  </thead>\n",
       "  <tbody>\n",
       "    <tr>\n",
       "      <th>0</th>\n",
       "      <td>0.00</td>\n",
       "      <td>0.0</td>\n",
       "      <td>0.0</td>\n",
       "      <td>0.0</td>\n",
       "      <td>0.0</td>\n",
       "      <td>1186.9237</td>\n",
       "      <td>0.0</td>\n",
       "      <td>0.0</td>\n",
       "      <td>4.2898</td>\n",
       "      <td>0.0</td>\n",
       "      <td>...</td>\n",
       "      <td>0.0</td>\n",
       "      <td>0.0</td>\n",
       "      <td>0.0</td>\n",
       "      <td>0.0</td>\n",
       "      <td>0.0</td>\n",
       "      <td>0.0</td>\n",
       "      <td>0.0</td>\n",
       "      <td>0.0</td>\n",
       "      <td>0.0</td>\n",
       "      <td>0.0</td>\n",
       "    </tr>\n",
       "    <tr>\n",
       "      <th>1</th>\n",
       "      <td>0.25</td>\n",
       "      <td>0.0</td>\n",
       "      <td>0.0</td>\n",
       "      <td>0.0</td>\n",
       "      <td>0.0</td>\n",
       "      <td>850.4949</td>\n",
       "      <td>0.0</td>\n",
       "      <td>0.0</td>\n",
       "      <td>100000.0000</td>\n",
       "      <td>0.0</td>\n",
       "      <td>...</td>\n",
       "      <td>0.0</td>\n",
       "      <td>0.0</td>\n",
       "      <td>0.0</td>\n",
       "      <td>0.0</td>\n",
       "      <td>0.0</td>\n",
       "      <td>0.0</td>\n",
       "      <td>0.0</td>\n",
       "      <td>0.0</td>\n",
       "      <td>0.0</td>\n",
       "      <td>0.0</td>\n",
       "    </tr>\n",
       "    <tr>\n",
       "      <th>2</th>\n",
       "      <td>0.50</td>\n",
       "      <td>0.0</td>\n",
       "      <td>0.0</td>\n",
       "      <td>0.0</td>\n",
       "      <td>0.0</td>\n",
       "      <td>633.5333</td>\n",
       "      <td>0.0</td>\n",
       "      <td>0.0</td>\n",
       "      <td>100000.0000</td>\n",
       "      <td>0.0</td>\n",
       "      <td>...</td>\n",
       "      <td>0.0</td>\n",
       "      <td>0.0</td>\n",
       "      <td>0.0</td>\n",
       "      <td>0.0</td>\n",
       "      <td>0.0</td>\n",
       "      <td>0.0</td>\n",
       "      <td>0.0</td>\n",
       "      <td>0.0</td>\n",
       "      <td>0.0</td>\n",
       "      <td>0.0</td>\n",
       "    </tr>\n",
       "    <tr>\n",
       "      <th>3</th>\n",
       "      <td>0.75</td>\n",
       "      <td>0.0</td>\n",
       "      <td>0.0</td>\n",
       "      <td>0.0</td>\n",
       "      <td>0.0</td>\n",
       "      <td>448.8241</td>\n",
       "      <td>0.0</td>\n",
       "      <td>0.0</td>\n",
       "      <td>100000.0000</td>\n",
       "      <td>0.0</td>\n",
       "      <td>...</td>\n",
       "      <td>0.0</td>\n",
       "      <td>0.0</td>\n",
       "      <td>0.0</td>\n",
       "      <td>0.0</td>\n",
       "      <td>0.0</td>\n",
       "      <td>0.0</td>\n",
       "      <td>0.0</td>\n",
       "      <td>0.0</td>\n",
       "      <td>0.0</td>\n",
       "      <td>0.0</td>\n",
       "    </tr>\n",
       "    <tr>\n",
       "      <th>4</th>\n",
       "      <td>1.00</td>\n",
       "      <td>0.0</td>\n",
       "      <td>0.0</td>\n",
       "      <td>0.0</td>\n",
       "      <td>0.0</td>\n",
       "      <td>311.7280</td>\n",
       "      <td>0.0</td>\n",
       "      <td>0.0</td>\n",
       "      <td>100000.0000</td>\n",
       "      <td>100000.0</td>\n",
       "      <td>...</td>\n",
       "      <td>0.0</td>\n",
       "      <td>0.0</td>\n",
       "      <td>0.0</td>\n",
       "      <td>0.0</td>\n",
       "      <td>0.0</td>\n",
       "      <td>0.0</td>\n",
       "      <td>0.0</td>\n",
       "      <td>0.0</td>\n",
       "      <td>0.0</td>\n",
       "      <td>0.0</td>\n",
       "    </tr>\n",
       "    <tr>\n",
       "      <th>...</th>\n",
       "      <td>...</td>\n",
       "      <td>...</td>\n",
       "      <td>...</td>\n",
       "      <td>...</td>\n",
       "      <td>...</td>\n",
       "      <td>...</td>\n",
       "      <td>...</td>\n",
       "      <td>...</td>\n",
       "      <td>...</td>\n",
       "      <td>...</td>\n",
       "      <td>...</td>\n",
       "      <td>...</td>\n",
       "      <td>...</td>\n",
       "      <td>...</td>\n",
       "      <td>...</td>\n",
       "      <td>...</td>\n",
       "      <td>...</td>\n",
       "      <td>...</td>\n",
       "      <td>...</td>\n",
       "      <td>...</td>\n",
       "      <td>...</td>\n",
       "    </tr>\n",
       "    <tr>\n",
       "      <th>106976</th>\n",
       "      <td>5357.50</td>\n",
       "      <td>0.0</td>\n",
       "      <td>0.0</td>\n",
       "      <td>0.0</td>\n",
       "      <td>0.0</td>\n",
       "      <td>0.0000</td>\n",
       "      <td>0.0</td>\n",
       "      <td>0.0</td>\n",
       "      <td>0.0000</td>\n",
       "      <td>0.0</td>\n",
       "      <td>...</td>\n",
       "      <td>0.0</td>\n",
       "      <td>0.0</td>\n",
       "      <td>0.0</td>\n",
       "      <td>0.0</td>\n",
       "      <td>0.0</td>\n",
       "      <td>0.0</td>\n",
       "      <td>0.0</td>\n",
       "      <td>0.0</td>\n",
       "      <td>0.0</td>\n",
       "      <td>0.0</td>\n",
       "    </tr>\n",
       "    <tr>\n",
       "      <th>106977</th>\n",
       "      <td>5358.00</td>\n",
       "      <td>0.0</td>\n",
       "      <td>0.0</td>\n",
       "      <td>0.0</td>\n",
       "      <td>0.0</td>\n",
       "      <td>0.0000</td>\n",
       "      <td>0.0</td>\n",
       "      <td>0.0</td>\n",
       "      <td>0.0000</td>\n",
       "      <td>0.0</td>\n",
       "      <td>...</td>\n",
       "      <td>0.0</td>\n",
       "      <td>0.0</td>\n",
       "      <td>0.0</td>\n",
       "      <td>0.0</td>\n",
       "      <td>0.0</td>\n",
       "      <td>0.0</td>\n",
       "      <td>0.0</td>\n",
       "      <td>0.0</td>\n",
       "      <td>0.0</td>\n",
       "      <td>0.0</td>\n",
       "    </tr>\n",
       "    <tr>\n",
       "      <th>106978</th>\n",
       "      <td>5358.50</td>\n",
       "      <td>0.0</td>\n",
       "      <td>0.0</td>\n",
       "      <td>0.0</td>\n",
       "      <td>0.0</td>\n",
       "      <td>0.0000</td>\n",
       "      <td>0.0</td>\n",
       "      <td>0.0</td>\n",
       "      <td>0.0000</td>\n",
       "      <td>0.0</td>\n",
       "      <td>...</td>\n",
       "      <td>0.0</td>\n",
       "      <td>0.0</td>\n",
       "      <td>0.0</td>\n",
       "      <td>0.0</td>\n",
       "      <td>0.0</td>\n",
       "      <td>0.0</td>\n",
       "      <td>0.0</td>\n",
       "      <td>0.0</td>\n",
       "      <td>0.0</td>\n",
       "      <td>0.0</td>\n",
       "    </tr>\n",
       "    <tr>\n",
       "      <th>106979</th>\n",
       "      <td>5359.00</td>\n",
       "      <td>0.0</td>\n",
       "      <td>0.0</td>\n",
       "      <td>0.0</td>\n",
       "      <td>0.0</td>\n",
       "      <td>0.0000</td>\n",
       "      <td>0.0</td>\n",
       "      <td>0.0</td>\n",
       "      <td>0.0000</td>\n",
       "      <td>0.0</td>\n",
       "      <td>...</td>\n",
       "      <td>0.0</td>\n",
       "      <td>0.0</td>\n",
       "      <td>0.0</td>\n",
       "      <td>0.0</td>\n",
       "      <td>0.0</td>\n",
       "      <td>0.0</td>\n",
       "      <td>0.0</td>\n",
       "      <td>0.0</td>\n",
       "      <td>0.0</td>\n",
       "      <td>0.0</td>\n",
       "    </tr>\n",
       "    <tr>\n",
       "      <th>106980</th>\n",
       "      <td>5359.50</td>\n",
       "      <td>0.0</td>\n",
       "      <td>0.0</td>\n",
       "      <td>0.0</td>\n",
       "      <td>0.0</td>\n",
       "      <td>0.0000</td>\n",
       "      <td>0.0</td>\n",
       "      <td>0.0</td>\n",
       "      <td>0.0000</td>\n",
       "      <td>0.0</td>\n",
       "      <td>...</td>\n",
       "      <td>0.0</td>\n",
       "      <td>0.0</td>\n",
       "      <td>0.0</td>\n",
       "      <td>0.0</td>\n",
       "      <td>0.0</td>\n",
       "      <td>0.0</td>\n",
       "      <td>0.0</td>\n",
       "      <td>0.0</td>\n",
       "      <td>0.0</td>\n",
       "      <td>0.0</td>\n",
       "    </tr>\n",
       "  </tbody>\n",
       "</table>\n",
       "<p>106981 rows × 82 columns</p>\n",
       "</div>"
      ],
      "text/plain": [
       "          index  ABHV  CNPOR  DCAL  DPOR         GR  RHOB  RHOC         RILD  \\\n",
       "0          0.00   0.0    0.0   0.0   0.0  1186.9237   0.0   0.0       4.2898   \n",
       "1          0.25   0.0    0.0   0.0   0.0   850.4949   0.0   0.0  100000.0000   \n",
       "2          0.50   0.0    0.0   0.0   0.0   633.5333   0.0   0.0  100000.0000   \n",
       "3          0.75   0.0    0.0   0.0   0.0   448.8241   0.0   0.0  100000.0000   \n",
       "4          1.00   0.0    0.0   0.0   0.0   311.7280   0.0   0.0  100000.0000   \n",
       "...         ...   ...    ...   ...   ...        ...   ...   ...          ...   \n",
       "106976  5357.50   0.0    0.0   0.0   0.0     0.0000   0.0   0.0       0.0000   \n",
       "106977  5358.00   0.0    0.0   0.0   0.0     0.0000   0.0   0.0       0.0000   \n",
       "106978  5358.50   0.0    0.0   0.0   0.0     0.0000   0.0   0.0       0.0000   \n",
       "106979  5359.00   0.0    0.0   0.0   0.0     0.0000   0.0   0.0       0.0000   \n",
       "106980  5359.50   0.0    0.0   0.0   0.0     0.0000   0.0   0.0       0.0000   \n",
       "\n",
       "            RILM  ...  DPHI  DPHD  DLIM  CT90  CALI  MINV  MNOR  DELTAT  ITTT  \\\n",
       "0            0.0  ...   0.0   0.0   0.0   0.0   0.0   0.0   0.0     0.0   0.0   \n",
       "1            0.0  ...   0.0   0.0   0.0   0.0   0.0   0.0   0.0     0.0   0.0   \n",
       "2            0.0  ...   0.0   0.0   0.0   0.0   0.0   0.0   0.0     0.0   0.0   \n",
       "3            0.0  ...   0.0   0.0   0.0   0.0   0.0   0.0   0.0     0.0   0.0   \n",
       "4       100000.0  ...   0.0   0.0   0.0   0.0   0.0   0.0   0.0     0.0   0.0   \n",
       "...          ...  ...   ...   ...   ...   ...   ...   ...   ...     ...   ...   \n",
       "106976       0.0  ...   0.0   0.0   0.0   0.0   0.0   0.0   0.0     0.0   0.0   \n",
       "106977       0.0  ...   0.0   0.0   0.0   0.0   0.0   0.0   0.0     0.0   0.0   \n",
       "106978       0.0  ...   0.0   0.0   0.0   0.0   0.0   0.0   0.0     0.0   0.0   \n",
       "106979       0.0  ...   0.0   0.0   0.0   0.0   0.0   0.0   0.0     0.0   0.0   \n",
       "106980       0.0  ...   0.0   0.0   0.0   0.0   0.0   0.0   0.0     0.0   0.0   \n",
       "\n",
       "        SPHI  \n",
       "0        0.0  \n",
       "1        0.0  \n",
       "2        0.0  \n",
       "3        0.0  \n",
       "4        0.0  \n",
       "...      ...  \n",
       "106976   0.0  \n",
       "106977   0.0  \n",
       "106978   0.0  \n",
       "106979   0.0  \n",
       "106980   0.0  \n",
       "\n",
       "[106981 rows x 82 columns]"
      ]
     },
     "execution_count": 9,
     "metadata": {},
     "output_type": "execute_result"
    }
   ],
   "source": [
    "dataframe.fillna(0, inplace=True)\n",
    "dataframe"
   ]
  },
  {
   "cell_type": "code",
   "execution_count": 10,
   "metadata": {},
   "outputs": [],
   "source": [
    "dataframe.to_csv('well_log_data_unsacrifised.csv', index=False)"
   ]
  },
  {
   "cell_type": "code",
   "execution_count": null,
   "metadata": {},
   "outputs": [],
   "source": []
  }
 ],
 "metadata": {
  "kernelspec": {
   "display_name": "Python 3",
   "language": "python",
   "name": "python3"
  },
  "language_info": {
   "codemirror_mode": {
    "name": "ipython",
    "version": 3
   },
   "file_extension": ".py",
   "mimetype": "text/x-python",
   "name": "python",
   "nbconvert_exporter": "python",
   "pygments_lexer": "ipython3",
   "version": "3.6.10"
  }
 },
 "nbformat": 4,
 "nbformat_minor": 4
}
