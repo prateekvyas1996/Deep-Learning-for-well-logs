{
 "cells": [
  {
   "cell_type": "markdown",
   "metadata": {},
   "source": [
    "## Prepare the dataset for all las files in csv formate"
   ]
  },
  {
   "cell_type": "code",
   "execution_count": 1,
   "metadata": {},
   "outputs": [],
   "source": [
    "from geoai import deeplogs"
   ]
  },
  {
   "cell_type": "code",
   "execution_count": 2,
   "metadata": {},
   "outputs": [],
   "source": [
    "data_dir = \"./2017_kansas_log_data\""
   ]
  },
  {
   "cell_type": "code",
   "execution_count": 3,
   "metadata": {},
   "outputs": [
    {
     "name": "stdout",
     "output_type": "stream",
     "text": [
      "Files in the directory : ['1046139243.las', '1046139249.las', '1046139256.las', '1046139308.las', '1046139314.las', '1046139325.las', '1046139326.las', '1046139330.las', '1046139339.las', '1046139348.las', '1046139370.las', '1046139374.las', '1046139418.las', '1046139427.las', '1046139439.las', '1046139479.las', '1046139510.las', '1046139511.las', '1046139542.las', '1046139555.las', '1046139556.las', '1046139566.las', '1046139574.las', '1046139578.las', '1046139599.las', '1046139604.las', '1046139607.las', '1046139610.las', '1046139620.las', '1046139624.las', '1046139629.las', '1046139630.las', '1046139637.las', '1046139647.las', '1046139649.las', '1046139669.las', '1046139682.las', '1046139683.las', '1046139686.las', '1046139702.las', '1046139729.las', '1046139749.las', '1046139759.las', '1046139773.las', '1046139781.las', '1046139791.las', '1046139795.las', '1046139799.las', '1046139801.las', '1046139812.las', '1046139815.las', '1046139829.las', '1046139839.las', '1046139843.las', '1046139850.las', '1046139852.las', '1046139860.las', '1046139866.las', '1046139873.las', '1046139881.las', '1046139884.las', '1046139900.las', '1046139904.las', '1046139914.las', '1046139918.las', '1046139920.las', '1046139922.las', '1046139930.las', '1046139934.las', '1046139944.las', '1046139954.las', '1046139956.las', '1046139965.las', '1046139967.las', '1046139972.las', '1046139977.las', '1046139979.las', '1046139988.las', '1046139992.las', '1046139995.las', '1046140000.las', '1046140002.las', '1046140015.las', '1046140020.las', '1046140021.las', '1046140038.las', '1046140039.las', '1046140050.las', '1046140061.las', '1046140066.las', '1046140067.las', '1046140075.las', '1046140077.las', '1046140078.las', '1046140084.las', '1046140086.las', '1046140089.las', '1046140092.las', '1046140094.las', '1046140100.las'] ....\n"
     ]
    }
   ],
   "source": [
    "f_names = deeplogs.get_file_names(data_dir)"
   ]
  },
  {
   "cell_type": "code",
   "execution_count": 4,
   "metadata": {},
   "outputs": [
    {
     "name": "stdout",
     "output_type": "stream",
     "text": [
      "Scanning file ./2017_kansas_log_data\\1046139243.las\n",
      "Scanning file ./2017_kansas_log_data\\1046139249.las\n",
      "Scanning file ./2017_kansas_log_data\\1046139256.las\n",
      "Scanning file ./2017_kansas_log_data\\1046139308.las\n",
      "Scanning file ./2017_kansas_log_data\\1046139314.las\n",
      "Scanning file ./2017_kansas_log_data\\1046139325.las\n",
      "Scanning file ./2017_kansas_log_data\\1046139326.las\n",
      "Scanning file ./2017_kansas_log_data\\1046139330.las\n",
      "Scanning file ./2017_kansas_log_data\\1046139339.las\n",
      "Scanning file ./2017_kansas_log_data\\1046139348.las\n",
      "Scanning file ./2017_kansas_log_data\\1046139370.las\n",
      "Scanning file ./2017_kansas_log_data\\1046139374.las\n",
      "Scanning file ./2017_kansas_log_data\\1046139418.las\n",
      "Scanning file ./2017_kansas_log_data\\1046139427.las\n",
      "Scanning file ./2017_kansas_log_data\\1046139439.las\n",
      "Scanning file ./2017_kansas_log_data\\1046139479.las\n",
      "Scanning file ./2017_kansas_log_data\\1046139510.las\n",
      "Scanning file ./2017_kansas_log_data\\1046139511.las\n",
      "Scanning file ./2017_kansas_log_data\\1046139542.las\n",
      "Scanning file ./2017_kansas_log_data\\1046139555.las\n",
      "Scanning file ./2017_kansas_log_data\\1046139556.las\n",
      "Scanning file ./2017_kansas_log_data\\1046139566.las\n",
      "Scanning file ./2017_kansas_log_data\\1046139574.las\n",
      "Scanning file ./2017_kansas_log_data\\1046139578.las\n",
      "Scanning file ./2017_kansas_log_data\\1046139599.las\n",
      "Scanning file ./2017_kansas_log_data\\1046139604.las\n",
      "Scanning file ./2017_kansas_log_data\\1046139607.las\n",
      "Scanning file ./2017_kansas_log_data\\1046139610.las\n",
      "Scanning file ./2017_kansas_log_data\\1046139620.las\n",
      "Scanning file ./2017_kansas_log_data\\1046139624.las\n",
      "Scanning file ./2017_kansas_log_data\\1046139629.las\n",
      "Scanning file ./2017_kansas_log_data\\1046139630.las\n",
      "Scanning file ./2017_kansas_log_data\\1046139637.las\n"
     ]
    },
    {
     "name": "stderr",
     "output_type": "stream",
     "text": [
      "Header section Parameter regexp=~P was not found.\n"
     ]
    },
    {
     "name": "stdout",
     "output_type": "stream",
     "text": [
      "Scanning file ./2017_kansas_log_data\\1046139647.las\n"
     ]
    },
    {
     "name": "stderr",
     "output_type": "stream",
     "text": [
      "Header section Parameter regexp=~P was not found.\n"
     ]
    },
    {
     "name": "stdout",
     "output_type": "stream",
     "text": [
      "Scanning file ./2017_kansas_log_data\\1046139649.las\n",
      "Scanning file ./2017_kansas_log_data\\1046139669.las\n",
      "Scanning file ./2017_kansas_log_data\\1046139682.las\n",
      "Scanning file ./2017_kansas_log_data\\1046139683.las\n",
      "Scanning file ./2017_kansas_log_data\\1046139686.las\n",
      "Scanning file ./2017_kansas_log_data\\1046139702.las\n",
      "Scanning file ./2017_kansas_log_data\\1046139729.las\n",
      "Scanning file ./2017_kansas_log_data\\1046139749.las\n",
      "Scanning file ./2017_kansas_log_data\\1046139759.las\n",
      "Scanning file ./2017_kansas_log_data\\1046139773.las\n",
      "Scanning file ./2017_kansas_log_data\\1046139781.las\n",
      "Scanning file ./2017_kansas_log_data\\1046139791.las\n",
      "Scanning file ./2017_kansas_log_data\\1046139795.las\n",
      "Scanning file ./2017_kansas_log_data\\1046139799.las\n",
      "Scanning file ./2017_kansas_log_data\\1046139801.las\n",
      "Scanning file ./2017_kansas_log_data\\1046139812.las\n",
      "Scanning file ./2017_kansas_log_data\\1046139815.las\n",
      "Scanning file ./2017_kansas_log_data\\1046139829.las\n"
     ]
    },
    {
     "name": "stderr",
     "output_type": "stream",
     "text": [
      "Header section Parameter regexp=~P was not found.\n"
     ]
    },
    {
     "name": "stdout",
     "output_type": "stream",
     "text": [
      "Scanning file ./2017_kansas_log_data\\1046139839.las\n",
      "Scanning file ./2017_kansas_log_data\\1046139843.las\n",
      "Scanning file ./2017_kansas_log_data\\1046139850.las\n"
     ]
    },
    {
     "name": "stderr",
     "output_type": "stream",
     "text": [
      "Header section Parameter regexp=~P was not found.\n"
     ]
    },
    {
     "name": "stdout",
     "output_type": "stream",
     "text": [
      "Scanning file ./2017_kansas_log_data\\1046139852.las\n",
      "Scanning file ./2017_kansas_log_data\\1046139860.las\n",
      "Scanning file ./2017_kansas_log_data\\1046139866.las\n",
      "Scanning file ./2017_kansas_log_data\\1046139873.las\n"
     ]
    },
    {
     "name": "stderr",
     "output_type": "stream",
     "text": [
      "Header section Parameter regexp=~P was not found.\n"
     ]
    },
    {
     "name": "stdout",
     "output_type": "stream",
     "text": [
      "Scanning file ./2017_kansas_log_data\\1046139881.las\n",
      "Scanning file ./2017_kansas_log_data\\1046139884.las\n",
      "Scanning file ./2017_kansas_log_data\\1046139900.las\n",
      "Scanning file ./2017_kansas_log_data\\1046139904.las\n",
      "Scanning file ./2017_kansas_log_data\\1046139914.las\n",
      "Scanning file ./2017_kansas_log_data\\1046139918.las\n",
      "Scanning file ./2017_kansas_log_data\\1046139920.las\n",
      "Scanning file ./2017_kansas_log_data\\1046139922.las\n",
      "Scanning file ./2017_kansas_log_data\\1046139930.las\n",
      "Scanning file ./2017_kansas_log_data\\1046139934.las\n"
     ]
    },
    {
     "name": "stderr",
     "output_type": "stream",
     "text": [
      "Unable to parse line as LAS header: TCS .                   15 11:  Time Ciculation Ended\n",
      "line 82 (section ~Parameter Information Block): \"TCS .                   15 11:  Time Ciculation Ended\"\n",
      "Unable to parse line as LAS header: TLAB.                   15 11:  LogStartTimeT\n",
      "line 84 (section ~Parameter Information Block): \"TLAB.                   15 11:  LogStartTimeT\"\n"
     ]
    },
    {
     "name": "stdout",
     "output_type": "stream",
     "text": [
      "Scanning file ./2017_kansas_log_data\\1046139944.las\n",
      "Scanning file ./2017_kansas_log_data\\1046139954.las\n",
      "Scanning file ./2017_kansas_log_data\\1046139956.las\n",
      "Scanning file ./2017_kansas_log_data\\1046139965.las\n",
      "Scanning file ./2017_kansas_log_data\\1046139967.las\n",
      "Scanning file ./2017_kansas_log_data\\1046139972.las\n",
      "Scanning file ./2017_kansas_log_data\\1046139977.las\n",
      "Scanning file ./2017_kansas_log_data\\1046139979.las\n"
     ]
    },
    {
     "name": "stderr",
     "output_type": "stream",
     "text": [
      "Header section Parameter regexp=~P was not found.\n"
     ]
    },
    {
     "name": "stdout",
     "output_type": "stream",
     "text": [
      "Scanning file ./2017_kansas_log_data\\1046139988.las\n",
      "Scanning file ./2017_kansas_log_data\\1046139992.las\n",
      "Scanning file ./2017_kansas_log_data\\1046139995.las\n",
      "Scanning file ./2017_kansas_log_data\\1046140000.las\n",
      "Scanning file ./2017_kansas_log_data\\1046140002.las\n",
      "Scanning file ./2017_kansas_log_data\\1046140015.las\n"
     ]
    },
    {
     "name": "stderr",
     "output_type": "stream",
     "text": [
      "Unable to parse line as LAS header: TCS .                   23 00:  Time Ciculation Ended\n",
      "line 81 (section ~Parameter Information Block): \"TCS .                   23 00:  Time Ciculation Ended\"\n"
     ]
    },
    {
     "name": "stdout",
     "output_type": "stream",
     "text": [
      "Scanning file ./2017_kansas_log_data\\1046140020.las\n"
     ]
    },
    {
     "name": "stderr",
     "output_type": "stream",
     "text": [
      "Unable to parse line as LAS header: TCS .                   23 00:  Time Ciculation Ended\n",
      "line 81 (section ~Parameter Information Block): \"TCS .                   23 00:  Time Ciculation Ended\"\n"
     ]
    },
    {
     "name": "stdout",
     "output_type": "stream",
     "text": [
      "Scanning file ./2017_kansas_log_data\\1046140021.las\n"
     ]
    },
    {
     "name": "stderr",
     "output_type": "stream",
     "text": [
      "Unable to parse line as LAS header: TCS .                   23 00:  Time Ciculation Ended\n",
      "line 81 (section ~Parameter Information Block): \"TCS .                   23 00:  Time Ciculation Ended\"\n"
     ]
    },
    {
     "name": "stdout",
     "output_type": "stream",
     "text": [
      "Scanning file ./2017_kansas_log_data\\1046140038.las\n",
      "Scanning file ./2017_kansas_log_data\\1046140039.las\n",
      "Scanning file ./2017_kansas_log_data\\1046140050.las\n"
     ]
    },
    {
     "name": "stderr",
     "output_type": "stream",
     "text": [
      "Header section Parameter regexp=~P was not found.\n"
     ]
    },
    {
     "name": "stdout",
     "output_type": "stream",
     "text": [
      "Scanning file ./2017_kansas_log_data\\1046140061.las\n"
     ]
    },
    {
     "name": "stderr",
     "output_type": "stream",
     "text": [
      "Header section Parameter regexp=~P was not found.\n"
     ]
    },
    {
     "name": "stdout",
     "output_type": "stream",
     "text": [
      "Scanning file ./2017_kansas_log_data\\1046140066.las\n",
      "Scanning file ./2017_kansas_log_data\\1046140067.las\n",
      "Scanning file ./2017_kansas_log_data\\1046140075.las\n",
      "Scanning file ./2017_kansas_log_data\\1046140077.las\n",
      "Scanning file ./2017_kansas_log_data\\1046140078.las\n",
      "Scanning file ./2017_kansas_log_data\\1046140084.las\n",
      "Scanning file ./2017_kansas_log_data\\1046140086.las\n",
      "Scanning file ./2017_kansas_log_data\\1046140089.las\n",
      "Scanning file ./2017_kansas_log_data\\1046140092.las\n",
      "Scanning file ./2017_kansas_log_data\\1046140094.las\n",
      "Scanning file ./2017_kansas_log_data\\1046140100.las\n",
      "Scanning file ./2017_kansas_log_data\\1046140110.las\n",
      "Scanning file ./2017_kansas_log_data\\1046140116.las\n",
      "Scanning file ./2017_kansas_log_data\\1046140117.las\n",
      "Scanning file ./2017_kansas_log_data\\1046409932.las\n",
      "Scanning file ./2017_kansas_log_data\\1046409948.las\n",
      "Scanning file ./2017_kansas_log_data\\1046409956.las\n",
      "Scanning file ./2017_kansas_log_data\\1046409964.las\n",
      "Scanning file ./2017_kansas_log_data\\1046409971.las\n",
      "Scanning file ./2017_kansas_log_data\\1046409973.las\n",
      "Scanning file ./2017_kansas_log_data\\1046409977.las\n",
      "Scanning file ./2017_kansas_log_data\\1046409983.las\n",
      "Scanning file ./2017_kansas_log_data\\1046409990.las\n"
     ]
    },
    {
     "name": "stderr",
     "output_type": "stream",
     "text": [
      "Header section Parameter regexp=~P was not found.\n"
     ]
    },
    {
     "name": "stdout",
     "output_type": "stream",
     "text": [
      "Scanning file ./2017_kansas_log_data\\1046409997.las\n",
      "Scanning file ./2017_kansas_log_data\\1046410000.las\n",
      "Scanning file ./2017_kansas_log_data\\1046410013.las\n",
      "Scanning file ./2017_kansas_log_data\\1046410014.las\n",
      "Scanning file ./2017_kansas_log_data\\1046410036.las\n",
      "Scanning file ./2017_kansas_log_data\\1046410037.las\n",
      "Scanning file ./2017_kansas_log_data\\1046410050.las\n",
      "Scanning file ./2017_kansas_log_data\\1046410051.las\n",
      "Scanning file ./2017_kansas_log_data\\1046410056.las\n",
      "Scanning file ./2017_kansas_log_data\\1046410057.las\n",
      "Scanning file ./2017_kansas_log_data\\1046410070.las\n",
      "Scanning file ./2017_kansas_log_data\\1046410076.las\n",
      "Scanning file ./2017_kansas_log_data\\1046410094.las\n",
      "Scanning file ./2017_kansas_log_data\\1046410104.las\n",
      "Scanning file ./2017_kansas_log_data\\1046410105.las\n",
      "Scanning file ./2017_kansas_log_data\\1046410111.las\n",
      "Scanning file ./2017_kansas_log_data\\1046410117.las\n",
      "Scanning file ./2017_kansas_log_data\\1046410150.las\n",
      "Scanning file ./2017_kansas_log_data\\1046410172.las\n",
      "Scanning file ./2017_kansas_log_data\\1046410182.las\n",
      "Scanning file ./2017_kansas_log_data\\1046410190.las\n",
      "Scanning file ./2017_kansas_log_data\\1046410195.las\n",
      "Scanning file ./2017_kansas_log_data\\1046410199.las\n",
      "Scanning file ./2017_kansas_log_data\\1046410201.las\n",
      "Scanning file ./2017_kansas_log_data\\1046410206.las\n",
      "Scanning file ./2017_kansas_log_data\\1046410219.las\n",
      "Scanning file ./2017_kansas_log_data\\1046410220.las\n",
      "Scanning file ./2017_kansas_log_data\\1046410232.las\n",
      "Scanning file ./2017_kansas_log_data\\1046410242.las\n",
      "Scanning file ./2017_kansas_log_data\\1046410251.las\n",
      "Scanning file ./2017_kansas_log_data\\1046410254.las\n",
      "Scanning file ./2017_kansas_log_data\\1046410268.las\n",
      "Scanning file ./2017_kansas_log_data\\1046410289.las\n",
      "Scanning file ./2017_kansas_log_data\\1046410293.las\n",
      "Scanning file ./2017_kansas_log_data\\1046410294.las\n",
      "Scanning file ./2017_kansas_log_data\\1046410299.las\n",
      "Scanning file ./2017_kansas_log_data\\1046410309.las\n",
      "Scanning file ./2017_kansas_log_data\\1046410312.las\n",
      "Scanning file ./2017_kansas_log_data\\1046410315.las\n",
      "Scanning file ./2017_kansas_log_data\\1046410322.las\n",
      "Scanning file ./2017_kansas_log_data\\1046410328.las\n",
      "Scanning file ./2017_kansas_log_data\\1046410332.las\n",
      "Scanning file ./2017_kansas_log_data\\1046410347.las\n",
      "Scanning file ./2017_kansas_log_data\\1046410357.las\n"
     ]
    },
    {
     "name": "stderr",
     "output_type": "stream",
     "text": [
      "Unable to parse line as LAS header: TCS .                   22 00:  Time Ciculation Ended\n",
      "line 90 (section ~Parameter Information Block): \"TCS .                   22 00:  Time Ciculation Ended\"\n",
      "Unable to parse line as LAS header: TLAB.                   20 00:  LogStartTimeT\n",
      "line 94 (section ~Parameter Information Block): \"TLAB.                   20 00:  LogStartTimeT\"\n",
      "Unable to parse line as LAS header: TSC .                   22 00:  Time Sin Circ\n",
      "line 96 (section ~Parameter Information Block): \"TSC .                   22 00:  Time Sin Circ\"\n"
     ]
    },
    {
     "name": "stdout",
     "output_type": "stream",
     "text": [
      "Scanning file ./2017_kansas_log_data\\1046410361.las\n",
      "Scanning file ./2017_kansas_log_data\\1046410366.las\n",
      "Scanning file ./2017_kansas_log_data\\1046410375.las\n",
      "Scanning file ./2017_kansas_log_data\\1046410387.las\n",
      "Scanning file ./2017_kansas_log_data\\1046410389.las\n",
      "Scanning file ./2017_kansas_log_data\\1046410391.las\n",
      "Scanning file ./2017_kansas_log_data\\1046410409.las\n",
      "Scanning file ./2017_kansas_log_data\\1046410411.las\n",
      "Scanning file ./2017_kansas_log_data\\1046410414.las\n",
      "Scanning file ./2017_kansas_log_data\\1046410415.las\n",
      "Scanning file ./2017_kansas_log_data\\1046410424.las\n",
      "Scanning file ./2017_kansas_log_data\\1046410426.las\n",
      "Scanning file ./2017_kansas_log_data\\1046410439.las\n",
      "Scanning file ./2017_kansas_log_data\\1046410447.las\n",
      "Scanning file ./2017_kansas_log_data\\1046410453.las\n",
      "Scanning file ./2017_kansas_log_data\\1046410454.las\n"
     ]
    },
    {
     "name": "stderr",
     "output_type": "stream",
     "text": [
      "Header section Parameter regexp=~P was not found.\n"
     ]
    },
    {
     "name": "stdout",
     "output_type": "stream",
     "text": [
      "Scanning file ./2017_kansas_log_data\\1046410455.las\n",
      "Scanning file ./2017_kansas_log_data\\1046410478.las\n",
      "Scanning file ./2017_kansas_log_data\\1046410480.las\n",
      "Scanning file ./2017_kansas_log_data\\1046410514.las\n"
     ]
    },
    {
     "name": "stderr",
     "output_type": "stream",
     "text": [
      "Unable to parse line as LAS header: TCS .                   15 00:  Time Ciculation Ended\n",
      "line 99 (section ~Parameter Information Block): \"TCS .                   15 00:  Time Ciculation Ended\"\n"
     ]
    },
    {
     "name": "stdout",
     "output_type": "stream",
     "text": [
      "Scanning file ./2017_kansas_log_data\\1046410521.las\n",
      "Scanning file ./2017_kansas_log_data\\1046410531.las\n",
      "Scanning file ./2017_kansas_log_data\\1046410538.las\n",
      "Scanning file ./2017_kansas_log_data\\1046410549.las\n",
      "Scanning file ./2017_kansas_log_data\\1046410553.las\n"
     ]
    },
    {
     "name": "stderr",
     "output_type": "stream",
     "text": [
      "Header section Parameter regexp=~P was not found.\n"
     ]
    },
    {
     "name": "stdout",
     "output_type": "stream",
     "text": [
      "Scanning file ./2017_kansas_log_data\\1046410557.las\n",
      "Scanning file ./2017_kansas_log_data\\1046410562.las\n"
     ]
    },
    {
     "name": "stderr",
     "output_type": "stream",
     "text": [
      "Header section Parameter regexp=~P was not found.\n"
     ]
    },
    {
     "name": "stdout",
     "output_type": "stream",
     "text": [
      "Scanning file ./2017_kansas_log_data\\1046410567.las\n",
      "Scanning file ./2017_kansas_log_data\\1046410569.las\n",
      "Scanning file ./2017_kansas_log_data\\1046410578.las\n",
      "Scanning file ./2017_kansas_log_data\\1046410580.las\n",
      "Scanning file ./2017_kansas_log_data\\1046410595.las\n",
      "Scanning file ./2017_kansas_log_data\\1046410605.las\n",
      "Scanning file ./2017_kansas_log_data\\1046410615.las\n",
      "Scanning file ./2017_kansas_log_data\\1046410620.las\n",
      "Scanning file ./2017_kansas_log_data\\1046410621.las\n",
      "Scanning file ./2017_kansas_log_data\\1046410630.las\n",
      "Scanning file ./2017_kansas_log_data\\1046410632.las\n",
      "Scanning file ./2017_kansas_log_data\\1046410638.las\n",
      "Scanning file ./2017_kansas_log_data\\1046410657.las\n",
      "Scanning file ./2017_kansas_log_data\\1046410668.las\n"
     ]
    },
    {
     "name": "stderr",
     "output_type": "stream",
     "text": [
      "Unable to parse line as LAS header: SCHLUMBERGER OF ELK CITY  OK! 580-\n",
      "line 105 (section ~PARAMETER INFORMATION): \"SCHLUMBERGER OF ELK CITY  OK! 580-\"\n",
      "Unable to parse line as LAS header: 225-4300 :Remarks Line 8\n",
      "line 107 (section ~PARAMETER INFORMATION): \"225-4300 :Remarks Line 8\"\n"
     ]
    },
    {
     "name": "stdout",
     "output_type": "stream",
     "text": [
      "Scanning file ./2017_kansas_log_data\\1046410674.las\n"
     ]
    },
    {
     "name": "stderr",
     "output_type": "stream",
     "text": [
      "Unable to parse line as LAS header: SCHLUMBERGER OF ELK CITY  OK! 580-\n",
      "line 105 (section ~PARAMETER INFORMATION): \"SCHLUMBERGER OF ELK CITY  OK! 580-\"\n",
      "Unable to parse line as LAS header: 225-4300 :Remarks Line 8\n",
      "line 107 (section ~PARAMETER INFORMATION): \"225-4300 :Remarks Line 8\"\n"
     ]
    },
    {
     "name": "stdout",
     "output_type": "stream",
     "text": [
      "Scanning file ./2017_kansas_log_data\\1046410675.las\n",
      "Scanning file ./2017_kansas_log_data\\1046410679.las\n",
      "Scanning file ./2017_kansas_log_data\\1046410680.las\n",
      "Scanning file ./2017_kansas_log_data\\1046410682.las\n",
      "Scanning file ./2017_kansas_log_data\\1046410688.las\n",
      "Scanning file ./2017_kansas_log_data\\1046410702.las\n",
      "Scanning file ./2017_kansas_log_data\\1046410706.las\n",
      "Scanning file ./2017_kansas_log_data\\1046410707.las\n",
      "Scanning file ./2017_kansas_log_data\\1046410708.las\n",
      "Scanning file ./2017_kansas_log_data\\1046410709.las\n",
      "Scanning file ./2017_kansas_log_data\\1046410710.las\n",
      "Scanning file ./2017_kansas_log_data\\1046410711.las\n",
      "Scanning file ./2017_kansas_log_data\\1046410744.las\n",
      "Scanning file ./2017_kansas_log_data\\1046410746.las\n",
      "Scanning file ./2017_kansas_log_data\\1046410750.las\n",
      "Scanning file ./2017_kansas_log_data\\1046410755.las\n",
      "Scanning file ./2017_kansas_log_data\\1046410758.las\n",
      "Scanning file ./2017_kansas_log_data\\1046410763.las\n",
      "Scanning file ./2017_kansas_log_data\\1046410769.las\n",
      "Scanning file ./2017_kansas_log_data\\1046410773.las\n",
      "Scanning file ./2017_kansas_log_data\\1046410777.las\n",
      "Scanning file ./2017_kansas_log_data\\1046410790.las\n",
      "Scanning file ./2017_kansas_log_data\\1046410795.las\n",
      "Scanning file ./2017_kansas_log_data\\1046410800.las\n",
      "Scanning file ./2017_kansas_log_data\\1046410823.las\n"
     ]
    },
    {
     "name": "stderr",
     "output_type": "stream",
     "text": [
      "Header section Parameter regexp=~P was not found.\n"
     ]
    },
    {
     "name": "stdout",
     "output_type": "stream",
     "text": [
      "Scanning file ./2017_kansas_log_data\\1046410828.las\n",
      "Scanning file ./2017_kansas_log_data\\1046410834.las\n",
      "Scanning file ./2017_kansas_log_data\\1046410836.las\n",
      "Scanning file ./2017_kansas_log_data\\1046410843.las\n",
      "Scanning file ./2017_kansas_log_data\\1046410847.las\n",
      "Scanning file ./2017_kansas_log_data\\1046410848.las\n",
      "Scanning file ./2017_kansas_log_data\\1046410851.las\n",
      "Scanning file ./2017_kansas_log_data\\1046410865.las\n",
      "Scanning file ./2017_kansas_log_data\\1046410883.las\n",
      "Scanning file ./2017_kansas_log_data\\1046410908.las\n",
      "Scanning file ./2017_kansas_log_data\\1046410911.las\n",
      "Scanning file ./2017_kansas_log_data\\1046410914.las\n",
      "Scanning file ./2017_kansas_log_data\\1046410917.las\n",
      "Scanning file ./2017_kansas_log_data\\1046410920.las\n",
      "Scanning file ./2017_kansas_log_data\\1046410923.las\n",
      "Scanning file ./2017_kansas_log_data\\1046410926.las\n",
      "Scanning file ./2017_kansas_log_data\\1046410931.las\n",
      "Scanning file ./2017_kansas_log_data\\1046410934.las\n",
      "Scanning file ./2017_kansas_log_data\\1046410935.las\n",
      "Scanning file ./2017_kansas_log_data\\1046410944.las\n",
      "Scanning file ./2017_kansas_log_data\\1046410961.las\n",
      "Scanning file ./2017_kansas_log_data\\1046410995.las\n",
      "Scanning file ./2017_kansas_log_data\\1046411001.las\n",
      "Scanning file ./2017_kansas_log_data\\1046411006.las\n",
      "Scanning file ./2017_kansas_log_data\\1046411015.las\n",
      "Scanning file ./2017_kansas_log_data\\1046411018.las\n",
      "Scanning file ./2017_kansas_log_data\\1046411038.las\n",
      "Scanning file ./2017_kansas_log_data\\1046411046.las\n",
      "Scanning file ./2017_kansas_log_data\\1046411048.las\n",
      "Scanning file ./2017_kansas_log_data\\1046411067.las\n",
      "Scanning file ./2017_kansas_log_data\\1046411072.las\n",
      "Scanning file ./2017_kansas_log_data\\1046411073.las\n",
      "Scanning file ./2017_kansas_log_data\\1046411086.las\n",
      "Scanning file ./2017_kansas_log_data\\1046411110.las\n",
      "Scanning file ./2017_kansas_log_data\\1046411118.las\n",
      "Scanning file ./2017_kansas_log_data\\1046411121.las\n",
      "Scanning file ./2017_kansas_log_data\\1046411127.las\n",
      "Scanning file ./2017_kansas_log_data\\1046411145.las\n",
      "Scanning file ./2017_kansas_log_data\\1046411148.las\n",
      "Scanning file ./2017_kansas_log_data\\1046411161.las\n",
      "Scanning file ./2017_kansas_log_data\\1046411189.las\n",
      "Scanning file ./2017_kansas_log_data\\1046411216.las\n",
      "Scanning file ./2017_kansas_log_data\\1046411226.las\n",
      "Scanning file ./2017_kansas_log_data\\1046411234.las\n",
      "Scanning file ./2017_kansas_log_data\\1046411242.las\n",
      "Scanning file ./2017_kansas_log_data\\1046411252.las\n",
      "Scanning file ./2017_kansas_log_data\\1046411270.las\n",
      "Scanning file ./2017_kansas_log_data\\1046411271.las\n",
      "Scanning file ./2017_kansas_log_data\\1046411277.las\n",
      "Scanning file ./2017_kansas_log_data\\1046411278.las\n",
      "Scanning file ./2017_kansas_log_data\\1046411286.las\n",
      "Scanning file ./2017_kansas_log_data\\1046411299.las\n",
      "Scanning file ./2017_kansas_log_data\\1046411302.las\n",
      "Scanning file ./2017_kansas_log_data\\1046411318.las\n"
     ]
    },
    {
     "name": "stderr",
     "output_type": "stream",
     "text": [
      "Header section Parameter regexp=~P was not found.\n"
     ]
    },
    {
     "name": "stdout",
     "output_type": "stream",
     "text": [
      "Scanning file ./2017_kansas_log_data\\1046411334.las\n"
     ]
    },
    {
     "name": "stderr",
     "output_type": "stream",
     "text": [
      "Header section Parameter regexp=~P was not found.\n"
     ]
    },
    {
     "name": "stdout",
     "output_type": "stream",
     "text": [
      "Scanning file ./2017_kansas_log_data\\1046411335.las\n",
      "Scanning file ./2017_kansas_log_data\\1046411339.las\n",
      "Scanning file ./2017_kansas_log_data\\1046411353.las\n",
      "Scanning file ./2017_kansas_log_data\\1046411360.las\n",
      "Scanning file ./2017_kansas_log_data\\1046411365.las\n",
      "Scanning file ./2017_kansas_log_data\\1046411367.las\n",
      "Scanning file ./2017_kansas_log_data\\1046411373.las\n",
      "Scanning file ./2017_kansas_log_data\\1046411378.las\n",
      "Scanning file ./2017_kansas_log_data\\1046411382.las\n",
      "Scanning file ./2017_kansas_log_data\\1046411392.las\n"
     ]
    },
    {
     "name": "stderr",
     "output_type": "stream",
     "text": [
      "Header section Parameter regexp=~P was not found.\n"
     ]
    },
    {
     "name": "stdout",
     "output_type": "stream",
     "text": [
      "Scanning file ./2017_kansas_log_data\\1046411397.las\n",
      "Scanning file ./2017_kansas_log_data\\1046411398.las\n"
     ]
    },
    {
     "name": "stderr",
     "output_type": "stream",
     "text": [
      "Header section Parameter regexp=~P was not found.\n"
     ]
    },
    {
     "name": "stdout",
     "output_type": "stream",
     "text": [
      "Scanning file ./2017_kansas_log_data\\1046411405.las\n"
     ]
    },
    {
     "name": "stderr",
     "output_type": "stream",
     "text": [
      "Header section Parameter regexp=~P was not found.\n"
     ]
    },
    {
     "name": "stdout",
     "output_type": "stream",
     "text": [
      "Scanning file ./2017_kansas_log_data\\1046411411.las\n",
      "Scanning file ./2017_kansas_log_data\\1046411419.las\n",
      "Scanning file ./2017_kansas_log_data\\1046411423.las\n",
      "Scanning file ./2017_kansas_log_data\\1046411434.las\n",
      "Scanning file ./2017_kansas_log_data\\1046411439.las\n"
     ]
    },
    {
     "name": "stderr",
     "output_type": "stream",
     "text": [
      "Header section Parameter regexp=~P was not found.\n"
     ]
    },
    {
     "name": "stdout",
     "output_type": "stream",
     "text": [
      "Scanning file ./2017_kansas_log_data\\1046411445.las\n",
      "Scanning file ./2017_kansas_log_data\\1046411448.las\n",
      "Scanning file ./2017_kansas_log_data\\1046411461.las\n",
      "Scanning file ./2017_kansas_log_data\\1046411469.las\n",
      "Scanning file ./2017_kansas_log_data\\1046411470.las\n",
      "Scanning file ./2017_kansas_log_data\\1046411481.las\n",
      "Scanning file ./2017_kansas_log_data\\1046411486.las\n",
      "Scanning file ./2017_kansas_log_data\\1046411497.las\n",
      "Scanning file ./2017_kansas_log_data\\1046411509.las\n",
      "Scanning file ./2017_kansas_log_data\\1046411512.las\n",
      "Scanning file ./2017_kansas_log_data\\1046411514.las\n",
      "Scanning file ./2017_kansas_log_data\\1046411522.las\n",
      "Scanning file ./2017_kansas_log_data\\1046411525.las\n",
      "Scanning file ./2017_kansas_log_data\\1046411542.las\n",
      "Scanning file ./2017_kansas_log_data\\1046411543.las\n",
      "Scanning file ./2017_kansas_log_data\\1046411551.las\n",
      "Scanning file ./2017_kansas_log_data\\1046411555.las\n",
      "Scanning file ./2017_kansas_log_data\\1046411559.las\n",
      "Scanning file ./2017_kansas_log_data\\1046411565.las\n",
      "Scanning file ./2017_kansas_log_data\\1046411568.las\n",
      "Scanning file ./2017_kansas_log_data\\1046411574.las\n",
      "Scanning file ./2017_kansas_log_data\\1046411586.las\n",
      "Scanning file ./2017_kansas_log_data\\1046411600.las\n",
      "Scanning file ./2017_kansas_log_data\\1046411628.las\n"
     ]
    },
    {
     "name": "stderr",
     "output_type": "stream",
     "text": [
      "Header section Parameter regexp=~P was not found.\n"
     ]
    },
    {
     "name": "stdout",
     "output_type": "stream",
     "text": [
      "Scanning file ./2017_kansas_log_data\\1046411635.las\n",
      "Scanning file ./2017_kansas_log_data\\1046411636.las\n"
     ]
    },
    {
     "name": "stderr",
     "output_type": "stream",
     "text": [
      "Header section Parameter regexp=~P was not found.\n"
     ]
    },
    {
     "name": "stdout",
     "output_type": "stream",
     "text": [
      "Scanning file ./2017_kansas_log_data\\1046411641.las\n",
      "Scanning file ./2017_kansas_log_data\\1046411645.las\n",
      "Scanning file ./2017_kansas_log_data\\1046411652.las\n",
      "Scanning file ./2017_kansas_log_data\\1046411653.las\n",
      "Scanning file ./2017_kansas_log_data\\1046411656.las\n",
      "Scanning file ./2017_kansas_log_data\\1046411663.las\n",
      "Scanning file ./2017_kansas_log_data\\1046411672.las\n",
      "Scanning file ./2017_kansas_log_data\\1046411676.las\n",
      "Scanning file ./2017_kansas_log_data\\1046411682.las\n",
      "Scanning file ./2017_kansas_log_data\\1046411684.las\n",
      "Scanning file ./2017_kansas_log_data\\1046411691.las\n",
      "Scanning file ./2017_kansas_log_data\\1046411695.las\n",
      "Scanning file ./2017_kansas_log_data\\1046411699.las\n",
      "Scanning file ./2017_kansas_log_data\\1046411709.las\n",
      "Scanning file ./2017_kansas_log_data\\1046411712.las\n",
      "Scanning file ./2017_kansas_log_data\\1046411718.las\n",
      "Scanning file ./2017_kansas_log_data\\1046411729.las\n"
     ]
    },
    {
     "name": "stderr",
     "output_type": "stream",
     "text": [
      "Header section Parameter regexp=~P was not found.\n"
     ]
    },
    {
     "name": "stdout",
     "output_type": "stream",
     "text": [
      "Scanning file ./2017_kansas_log_data\\1046411734.las\n"
     ]
    },
    {
     "name": "stderr",
     "output_type": "stream",
     "text": [
      "Header section Parameter regexp=~P was not found.\n"
     ]
    },
    {
     "name": "stdout",
     "output_type": "stream",
     "text": [
      "Scanning file ./2017_kansas_log_data\\1046411739.las\n",
      "Scanning file ./2017_kansas_log_data\\1046411742.las\n",
      "Scanning file ./2017_kansas_log_data\\1046411747.las\n",
      "Scanning file ./2017_kansas_log_data\\1046411768.las\n",
      "Scanning file ./2017_kansas_log_data\\1046411770.las\n",
      "Scanning file ./2017_kansas_log_data\\1046411778.las\n",
      "Scanning file ./2017_kansas_log_data\\1046411785.las\n",
      "Scanning file ./2017_kansas_log_data\\1046411812.las\n",
      "Scanning file ./2017_kansas_log_data\\1046411820.las\n",
      "Scanning file ./2017_kansas_log_data\\1046411833.las\n"
     ]
    },
    {
     "name": "stderr",
     "output_type": "stream",
     "text": [
      "Header section Parameter regexp=~P was not found.\n"
     ]
    },
    {
     "name": "stdout",
     "output_type": "stream",
     "text": [
      "Scanning file ./2017_kansas_log_data\\1046411835.las\n"
     ]
    },
    {
     "name": "stderr",
     "output_type": "stream",
     "text": [
      "Header section Parameter regexp=~P was not found.\n"
     ]
    },
    {
     "name": "stdout",
     "output_type": "stream",
     "text": [
      "Scanning file ./2017_kansas_log_data\\1046411846.las\n",
      "Scanning file ./2017_kansas_log_data\\1046411847.las\n",
      "Scanning file ./2017_kansas_log_data\\1046411858.las\n",
      "Scanning file ./2017_kansas_log_data\\1046411868.las\n",
      "Scanning file ./2017_kansas_log_data\\1046411873.las\n",
      "Scanning file ./2017_kansas_log_data\\1046411883.las\n"
     ]
    },
    {
     "name": "stderr",
     "output_type": "stream",
     "text": [
      "Header section Parameter regexp=~P was not found.\n"
     ]
    },
    {
     "name": "stdout",
     "output_type": "stream",
     "text": [
      "Scanning file ./2017_kansas_log_data\\1046411888.las\n",
      "Scanning file ./2017_kansas_log_data\\1046411896.las\n",
      "Scanning file ./2017_kansas_log_data\\1046411909.las\n",
      "Scanning file ./2017_kansas_log_data\\1046411914.las\n",
      "Scanning file ./2017_kansas_log_data\\1046411915.las\n",
      "Scanning file ./2017_kansas_log_data\\1046411916.las\n",
      "Scanning file ./2017_kansas_log_data\\1046411920.las\n",
      "Scanning file ./2017_kansas_log_data\\1046411925.las\n",
      "Scanning file ./2017_kansas_log_data\\1046417638.las\n",
      "Scanning file ./2017_kansas_log_data\\1046417639.las\n",
      "Scanning file ./2017_kansas_log_data\\1046417640.las\n",
      "Scanning file ./2017_kansas_log_data\\1046417641.las\n",
      "Scanning file ./2017_kansas_log_data\\1046417652.las\n",
      "Scanning file ./2017_kansas_log_data\\1046417659.las\n"
     ]
    },
    {
     "name": "stderr",
     "output_type": "stream",
     "text": [
      "Unable to parse line as LAS header: TCS .                   07 00:  Time Ciculation Ended\n",
      "line 94 (section ~Parameter Information Block): \"TCS .                   07 00:  Time Ciculation Ended\"\n"
     ]
    },
    {
     "name": "stdout",
     "output_type": "stream",
     "text": [
      "Scanning file ./2017_kansas_log_data\\1046417669.las\n",
      "Scanning file ./2017_kansas_log_data\\1046417682.las\n",
      "Scanning file ./2017_kansas_log_data\\1046417686.las\n",
      "Scanning file ./2017_kansas_log_data\\1046417687.las\n",
      "Scanning file ./2017_kansas_log_data\\1046417703.las\n",
      "Scanning file ./2017_kansas_log_data\\1046417709.las\n",
      "Scanning file ./2017_kansas_log_data\\1046417716.las\n",
      "Scanning file ./2017_kansas_log_data\\1046417718.las\n",
      "Scanning file ./2017_kansas_log_data\\1046417723.las\n",
      "Scanning file ./2017_kansas_log_data\\1046417728.las\n",
      "Scanning file ./2017_kansas_log_data\\1046417736.las\n",
      "Scanning file ./2017_kansas_log_data\\1046417739.las\n",
      "Scanning file ./2017_kansas_log_data\\1046417746.las\n"
     ]
    },
    {
     "name": "stderr",
     "output_type": "stream",
     "text": [
      "Header section Parameter regexp=~P was not found.\n"
     ]
    },
    {
     "name": "stdout",
     "output_type": "stream",
     "text": [
      "Scanning file ./2017_kansas_log_data\\1046417755.las\n",
      "Scanning file ./2017_kansas_log_data\\1046417759.las\n",
      "Scanning file ./2017_kansas_log_data\\1046417767.las\n",
      "Scanning file ./2017_kansas_log_data\\1046417770.las\n",
      "Scanning file ./2017_kansas_log_data\\1046417780.las\n",
      "Scanning file ./2017_kansas_log_data\\1046417788.las\n",
      "Scanning file ./2017_kansas_log_data\\1046417790.las\n"
     ]
    },
    {
     "name": "stderr",
     "output_type": "stream",
     "text": [
      "Header section Parameter regexp=~P was not found.\n"
     ]
    },
    {
     "name": "stdout",
     "output_type": "stream",
     "text": [
      "Scanning file ./2017_kansas_log_data\\1046417795.las\n",
      "Scanning file ./2017_kansas_log_data\\1046417805.las\n",
      "Scanning file ./2017_kansas_log_data\\1046417808.las\n"
     ]
    },
    {
     "name": "stderr",
     "output_type": "stream",
     "text": [
      "Header section Parameter regexp=~P was not found.\n"
     ]
    },
    {
     "name": "stdout",
     "output_type": "stream",
     "text": [
      "Scanning file ./2017_kansas_log_data\\1046417821.las\n"
     ]
    },
    {
     "name": "stderr",
     "output_type": "stream",
     "text": [
      "Header section Parameter regexp=~P was not found.\n"
     ]
    },
    {
     "name": "stdout",
     "output_type": "stream",
     "text": [
      "Scanning file ./2017_kansas_log_data\\1046417824.las\n",
      "Scanning file ./2017_kansas_log_data\\1046417829.las\n",
      "Scanning file ./2017_kansas_log_data\\1046417836.las\n",
      "Scanning file ./2017_kansas_log_data\\1046422493.las\n",
      "Scanning file ./2017_kansas_log_data\\1046422506.las\n",
      "Scanning file ./2017_kansas_log_data\\1046422509.las\n",
      "Scanning file ./2017_kansas_log_data\\1046422512.las\n",
      "Scanning file ./2017_kansas_log_data\\1046422524.las\n",
      "Scanning file ./2017_kansas_log_data\\1046422529.las\n",
      "Scanning file ./2017_kansas_log_data\\1046427078.las\n",
      "Scanning file ./2017_kansas_log_data\\1046427082.las\n",
      "Scanning file ./2017_kansas_log_data\\1046427101.las\n",
      "Scanning file ./2017_kansas_log_data\\1046427102.las\n",
      "Scanning file ./2017_kansas_log_data\\1046427108.las\n",
      "Scanning file ./2017_kansas_log_data\\1046428749.las\n",
      "Scanning file ./2017_kansas_log_data\\1046428755.las\n",
      "Scanning file ./2017_kansas_log_data\\1046428758.las\n",
      "Scanning file ./2017_kansas_log_data\\1046437657.las\n",
      "Scanning file ./2017_kansas_log_data\\1046437669.las\n",
      "Scanning file ./2017_kansas_log_data\\1046437673.las\n",
      "Scanning file ./2017_kansas_log_data\\1046437674.las\n",
      "Scanning file ./2017_kansas_log_data\\1046437675.las\n",
      "Scanning file ./2017_kansas_log_data\\1046437682.las\n",
      "Scanning file ./2017_kansas_log_data\\1046437687.las\n",
      "Scanning file ./2017_kansas_log_data\\1046437697.las\n",
      "Scanning file ./2017_kansas_log_data\\1046437709.las\n",
      "Scanning file ./2017_kansas_log_data\\1046437714.las\n",
      "Scanning file ./2017_kansas_log_data\\1046437717.las\n",
      "Scanning file ./2017_kansas_log_data\\1046437725.las\n",
      "Scanning file ./2017_kansas_log_data\\1046437729.las\n"
     ]
    },
    {
     "name": "stderr",
     "output_type": "stream",
     "text": [
      "Header section Parameter regexp=~P was not found.\n"
     ]
    },
    {
     "name": "stdout",
     "output_type": "stream",
     "text": [
      "Scanning file ./2017_kansas_log_data\\1046437733.las\n",
      "Scanning file ./2017_kansas_log_data\\1046437735.las\n"
     ]
    },
    {
     "name": "stderr",
     "output_type": "stream",
     "text": [
      "Header section Parameter regexp=~P was not found.\n"
     ]
    },
    {
     "name": "stdout",
     "output_type": "stream",
     "text": [
      "Scanning file ./2017_kansas_log_data\\1046437739.las\n",
      "Scanning file ./2017_kansas_log_data\\1046437740.las\n",
      "Scanning file ./2017_kansas_log_data\\1046437747.las\n",
      "Scanning file ./2017_kansas_log_data\\1046437750.las\n",
      "Scanning file ./2017_kansas_log_data\\1046437752.las\n",
      "Scanning file ./2017_kansas_log_data\\1046437758.las\n",
      "Scanning file ./2017_kansas_log_data\\1046437763.las\n"
     ]
    },
    {
     "name": "stderr",
     "output_type": "stream",
     "text": [
      "Header section Parameter regexp=~P was not found.\n"
     ]
    },
    {
     "name": "stdout",
     "output_type": "stream",
     "text": [
      "Scanning file ./2017_kansas_log_data\\1046437770.las\n"
     ]
    },
    {
     "name": "stderr",
     "output_type": "stream",
     "text": [
      "Header section Parameter regexp=~P was not found.\n"
     ]
    },
    {
     "name": "stdout",
     "output_type": "stream",
     "text": [
      "Scanning file ./2017_kansas_log_data\\1046437772.las\n"
     ]
    },
    {
     "name": "stderr",
     "output_type": "stream",
     "text": [
      "Header section Parameter regexp=~P was not found.\n"
     ]
    },
    {
     "name": "stdout",
     "output_type": "stream",
     "text": [
      "Scanning file ./2017_kansas_log_data\\1046437775.las\n"
     ]
    },
    {
     "name": "stderr",
     "output_type": "stream",
     "text": [
      "Header section Parameter regexp=~P was not found.\n"
     ]
    },
    {
     "name": "stdout",
     "output_type": "stream",
     "text": [
      "Scanning file ./2017_kansas_log_data\\1046437780.las\n"
     ]
    },
    {
     "name": "stderr",
     "output_type": "stream",
     "text": [
      "Header section Parameter regexp=~P was not found.\n"
     ]
    },
    {
     "name": "stdout",
     "output_type": "stream",
     "text": [
      "Scanning file ./2017_kansas_log_data\\1046437782.las\n",
      "Scanning file ./2017_kansas_log_data\\1046437788.las\n"
     ]
    },
    {
     "name": "stderr",
     "output_type": "stream",
     "text": [
      "Header section Parameter regexp=~P was not found.\n"
     ]
    },
    {
     "name": "stdout",
     "output_type": "stream",
     "text": [
      "Scanning file ./2017_kansas_log_data\\1046437792.las\n",
      "Scanning file ./2017_kansas_log_data\\1046437810.las\n",
      "Scanning file ./2017_kansas_log_data\\1046437815.las\n"
     ]
    },
    {
     "name": "stderr",
     "output_type": "stream",
     "text": [
      "Header section Parameter regexp=~P was not found.\n"
     ]
    },
    {
     "name": "stdout",
     "output_type": "stream",
     "text": [
      "Scanning file ./2017_kansas_log_data\\1046437820.las\n"
     ]
    },
    {
     "name": "stderr",
     "output_type": "stream",
     "text": [
      "Header section Parameter regexp=~P was not found.\n"
     ]
    },
    {
     "name": "stdout",
     "output_type": "stream",
     "text": [
      "Scanning file ./2017_kansas_log_data\\1046437825.las\n",
      "Scanning file ./2017_kansas_log_data\\1046437827.las\n",
      "Scanning file ./2017_kansas_log_data\\1046437832.las\n",
      "Scanning file ./2017_kansas_log_data\\1046437837.las\n",
      "Scanning file ./2017_kansas_log_data\\1046440071.las\n",
      "Scanning file ./2017_kansas_log_data\\1046440074.las\n",
      "Scanning file ./2017_kansas_log_data\\1046440075.las\n",
      "Scanning file ./2017_kansas_log_data\\1046440091.las\n",
      "Scanning file ./2017_kansas_log_data\\1046440093.las\n",
      "Scanning file ./2017_kansas_log_data\\1046440120.las\n",
      "Scanning file ./2017_kansas_log_data\\1046452081.las\n",
      "Scanning file ./2017_kansas_log_data\\1046452096.las\n",
      "Scanning file ./2017_kansas_log_data\\1046452100.las\n",
      "Scanning file ./2017_kansas_log_data\\1046452104.las\n",
      "Scanning file ./2017_kansas_log_data\\1046452111.las\n",
      "Scanning file ./2017_kansas_log_data\\1046452113.las\n",
      "Scanning file ./2017_kansas_log_data\\1046452118.las\n",
      "Scanning file ./2017_kansas_log_data\\1046452119.las\n",
      "Scanning file ./2017_kansas_log_data\\1046452120.las\n",
      "Scanning file ./2017_kansas_log_data\\1046452141.las\n",
      "Scanning file ./2017_kansas_log_data\\1046452156.las\n",
      "Scanning file ./2017_kansas_log_data\\1046452175.las\n",
      "Scanning file ./2017_kansas_log_data\\1046452176.las\n",
      "Scanning file ./2017_kansas_log_data\\1046452194.las\n",
      "Scanning file ./2017_kansas_log_data\\1046452213.las\n",
      "Scanning file ./2017_kansas_log_data\\1046452214.las\n",
      "Scanning file ./2017_kansas_log_data\\1046452215.las\n",
      "Scanning file ./2017_kansas_log_data\\1046452229.las\n",
      "Scanning file ./2017_kansas_log_data\\1046452233.las\n"
     ]
    },
    {
     "name": "stderr",
     "output_type": "stream",
     "text": [
      "Header section Parameter regexp=~P was not found.\n"
     ]
    },
    {
     "name": "stdout",
     "output_type": "stream",
     "text": [
      "Scanning file ./2017_kansas_log_data\\1046452234.las\n"
     ]
    },
    {
     "name": "stderr",
     "output_type": "stream",
     "text": [
      "Header section Parameter regexp=~P was not found.\n"
     ]
    },
    {
     "name": "stdout",
     "output_type": "stream",
     "text": [
      "Scanning file ./2017_kansas_log_data\\1046452240.las\n",
      "Scanning file ./2017_kansas_log_data\\1046452248.las\n",
      "Scanning file ./2017_kansas_log_data\\1046452252.las\n"
     ]
    },
    {
     "name": "stderr",
     "output_type": "stream",
     "text": [
      "Header section Parameter regexp=~P was not found.\n"
     ]
    },
    {
     "name": "stdout",
     "output_type": "stream",
     "text": [
      "Scanning file ./2017_kansas_log_data\\1046452257.las\n",
      "Scanning file ./2017_kansas_log_data\\1046452259.las\n",
      "Scanning file ./2017_kansas_log_data\\1046452268.las\n"
     ]
    },
    {
     "name": "stderr",
     "output_type": "stream",
     "text": [
      "Header section Parameter regexp=~P was not found.\n"
     ]
    },
    {
     "name": "stdout",
     "output_type": "stream",
     "text": [
      "Scanning file ./2017_kansas_log_data\\1046452270.las\n",
      "Scanning file ./2017_kansas_log_data\\1046452279.las\n",
      "Scanning file ./2017_kansas_log_data\\1046452285.las\n",
      "Scanning file ./2017_kansas_log_data\\1046452290.las\n",
      "Scanning file ./2017_kansas_log_data\\1046452292.las\n",
      "Scanning file ./2017_kansas_log_data\\1046452297.las\n",
      "Scanning file ./2017_kansas_log_data\\1046452299.las\n"
     ]
    },
    {
     "name": "stderr",
     "output_type": "stream",
     "text": [
      "Header section Parameter regexp=~P was not found.\n"
     ]
    },
    {
     "name": "stdout",
     "output_type": "stream",
     "text": [
      "Scanning file ./2017_kansas_log_data\\1046452301.las\n"
     ]
    },
    {
     "name": "stderr",
     "output_type": "stream",
     "text": [
      "Header section Parameter regexp=~P was not found.\n"
     ]
    },
    {
     "name": "stdout",
     "output_type": "stream",
     "text": [
      "Scanning file ./2017_kansas_log_data\\1046452310.las\n",
      "Scanning file ./2017_kansas_log_data\\1046452320.las\n",
      "Scanning file ./2017_kansas_log_data\\1046452322.las\n",
      "Scanning file ./2017_kansas_log_data\\1046452326.las\n",
      "Scanning file ./2017_kansas_log_data\\1046452330.las\n",
      "Scanning file ./2017_kansas_log_data\\1046452334.las\n",
      "Scanning file ./2017_kansas_log_data\\1046452343.las\n",
      "Scanning file ./2017_kansas_log_data\\1046452350.las\n",
      "Scanning file ./2017_kansas_log_data\\1046452359.las\n",
      "Scanning file ./2017_kansas_log_data\\1046452361.las\n",
      "Scanning file ./2017_kansas_log_data\\1046452370.las\n",
      "Scanning file ./2017_kansas_log_data\\1046461930.las\n",
      "Scanning file ./2017_kansas_log_data\\1046461946.las\n",
      "Scanning file ./2017_kansas_log_data\\1046461951.las\n",
      "Scanning file ./2017_kansas_log_data\\1046461963.las\n",
      "Scanning file ./2017_kansas_log_data\\1046461969.las\n",
      "Scanning file ./2017_kansas_log_data\\1046461974.las\n",
      "Scanning file ./2017_kansas_log_data\\1046461977.las\n",
      "Scanning file ./2017_kansas_log_data\\1046461981.las\n",
      "Scanning file ./2017_kansas_log_data\\1046461984.las\n",
      "Scanning file ./2017_kansas_log_data\\1046461988.las\n",
      "Scanning file ./2017_kansas_log_data\\1046461994.las\n",
      "Scanning file ./2017_kansas_log_data\\1046461998.las\n",
      "Scanning file ./2017_kansas_log_data\\1046462002.las\n",
      "Scanning file ./2017_kansas_log_data\\1046462010.las\n",
      "Scanning file ./2017_kansas_log_data\\1046462023.las\n",
      "Scanning file ./2017_kansas_log_data\\1046462031.las\n",
      "Scanning file ./2017_kansas_log_data\\1046462032.las\n",
      "Scanning file ./2017_kansas_log_data\\1046462034.las\n"
     ]
    },
    {
     "name": "stderr",
     "output_type": "stream",
     "text": [
      "Header section Parameter regexp=~P was not found.\n"
     ]
    },
    {
     "name": "stdout",
     "output_type": "stream",
     "text": [
      "Scanning file ./2017_kansas_log_data\\1046462045.las\n",
      "Scanning file ./2017_kansas_log_data\\1046462053.las\n",
      "Scanning file ./2017_kansas_log_data\\1046462066.las\n",
      "Scanning file ./2017_kansas_log_data\\1046462068.las\n",
      "Scanning file ./2017_kansas_log_data\\1046462072.las\n",
      "Scanning file ./2017_kansas_log_data\\1046462086.las\n",
      "Scanning file ./2017_kansas_log_data\\1046462100.las\n",
      "Scanning file ./2017_kansas_log_data\\1046462115.las\n",
      "Scanning file ./2017_kansas_log_data\\1046462130.las\n",
      "Scanning file ./2017_kansas_log_data\\1046462144.las\n",
      "Scanning file ./2017_kansas_log_data\\1046462145.las\n",
      "Scanning file ./2017_kansas_log_data\\1046462150.las\n",
      "Scanning file ./2017_kansas_log_data\\1046462198.las\n",
      "Scanning file ./2017_kansas_log_data\\1046462213.las\n",
      "Scanning file ./2017_kansas_log_data\\1046462235.las\n",
      "Scanning file ./2017_kansas_log_data\\1046462251.las\n"
     ]
    },
    {
     "name": "stderr",
     "output_type": "stream",
     "text": [
      "Header section Parameter regexp=~P was not found.\n"
     ]
    },
    {
     "name": "stdout",
     "output_type": "stream",
     "text": [
      "Scanning file ./2017_kansas_log_data\\1046462259.las\n",
      "Scanning file ./2017_kansas_log_data\\1046462267.las\n"
     ]
    },
    {
     "name": "stderr",
     "output_type": "stream",
     "text": [
      "Header section Parameter regexp=~P was not found.\n"
     ]
    },
    {
     "name": "stdout",
     "output_type": "stream",
     "text": [
      "Scanning file ./2017_kansas_log_data\\1046462275.las\n",
      "Scanning file ./2017_kansas_log_data\\1046462278.las\n",
      "Scanning file ./2017_kansas_log_data\\1046462282.las\n",
      "Scanning file ./2017_kansas_log_data\\1046462288.las\n",
      "Scanning file ./2017_kansas_log_data\\1046462289.las\n",
      "Scanning file ./2017_kansas_log_data\\1046462298.las\n",
      "Scanning file ./2017_kansas_log_data\\1046462302.las\n",
      "Scanning file ./2017_kansas_log_data\\1046462306.las\n",
      "Scanning file ./2017_kansas_log_data\\1046462316.las\n",
      "Scanning file ./2017_kansas_log_data\\1046462324.las\n"
     ]
    },
    {
     "name": "stderr",
     "output_type": "stream",
     "text": [
      "Header section Parameter regexp=~P was not found.\n"
     ]
    },
    {
     "name": "stdout",
     "output_type": "stream",
     "text": [
      "Scanning file ./2017_kansas_log_data\\1046462329.las\n",
      "Scanning file ./2017_kansas_log_data\\1046462333.las\n",
      "Scanning file ./2017_kansas_log_data\\1046462344.las\n",
      "Scanning file ./2017_kansas_log_data\\1046462350.las\n",
      "Scanning file ./2017_kansas_log_data\\1046462366.las\n",
      "Scanning file ./2017_kansas_log_data\\1046462375.las\n",
      "Scanning file ./2017_kansas_log_data\\1046462378.las\n",
      "Scanning file ./2017_kansas_log_data\\1046462383.las\n",
      "Scanning file ./2017_kansas_log_data\\1046462385.las\n",
      "Scanning file ./2017_kansas_log_data\\1046462391.las\n",
      "Scanning file ./2017_kansas_log_data\\1046462396.las\n",
      "Scanning file ./2017_kansas_log_data\\1046462403.las\n",
      "Scanning file ./2017_kansas_log_data\\1046462414.las\n",
      "Scanning file ./2017_kansas_log_data\\1046462417.las\n",
      "Scanning file ./2017_kansas_log_data\\1046462426.las\n",
      "Scanning file ./2017_kansas_log_data\\1046462433.las\n",
      "Scanning file ./2017_kansas_log_data\\1046462436.las\n",
      "Scanning file ./2017_kansas_log_data\\1046462445.las\n",
      "Scanning file ./2017_kansas_log_data\\1046462448.las\n",
      "Scanning file ./2017_kansas_log_data\\1046462461.las\n",
      "Scanning file ./2017_kansas_log_data\\1046462464.las\n",
      "Scanning file ./2017_kansas_log_data\\1046462469.las\n",
      "Scanning file ./2017_kansas_log_data\\1046462472.las\n",
      "Scanning file ./2017_kansas_log_data\\1046462479.las\n"
     ]
    },
    {
     "name": "stderr",
     "output_type": "stream",
     "text": [
      "Unable to parse line as LAS header: Las Header (Gas)\n",
      "line 30 (section ~Well Information): \"Las Header (Gas)\"\n",
      "Header section Parameter regexp=~P was not found.\n"
     ]
    },
    {
     "name": "stdout",
     "output_type": "stream",
     "text": [
      "Scanning file ./2017_kansas_log_data\\1046467288.las\n"
     ]
    },
    {
     "name": "stderr",
     "output_type": "stream",
     "text": [
      "Header section Parameter regexp=~P was not found.\n"
     ]
    },
    {
     "name": "stdout",
     "output_type": "stream",
     "text": [
      "Scanning file ./2017_kansas_log_data\\1046467293.las\n",
      "Scanning file ./2017_kansas_log_data\\1046467298.las\n",
      "Scanning file ./2017_kansas_log_data\\1046467306.las\n",
      "Scanning file ./2017_kansas_log_data\\1046467307.las\n",
      "Scanning file ./2017_kansas_log_data\\1046467315.las\n",
      "Scanning file ./2017_kansas_log_data\\1046467316.las\n",
      "Scanning file ./2017_kansas_log_data\\1046467324.las\n",
      "Scanning file ./2017_kansas_log_data\\1046467329.las\n"
     ]
    },
    {
     "name": "stderr",
     "output_type": "stream",
     "text": [
      "Unable to parse line as LAS header: TCS .                   21 00:  Time Ciculation Ended\n",
      "line 94 (section ~Parameter Information Block): \"TCS .                   21 00:  Time Ciculation Ended\"\n"
     ]
    },
    {
     "name": "stdout",
     "output_type": "stream",
     "text": [
      "Scanning file ./2017_kansas_log_data\\1046467336.las\n",
      "Scanning file ./2017_kansas_log_data\\1046467345.las\n"
     ]
    },
    {
     "name": "stderr",
     "output_type": "stream",
     "text": [
      "Header section Parameter regexp=~P was not found.\n"
     ]
    },
    {
     "name": "stdout",
     "output_type": "stream",
     "text": [
      "Scanning file ./2017_kansas_log_data\\1046467351.las\n",
      "Scanning file ./2017_kansas_log_data\\1046467353.las\n",
      "Scanning file ./2017_kansas_log_data\\1046467359.las\n",
      "Scanning file ./2017_kansas_log_data\\1046467365.las\n",
      "Scanning file ./2017_kansas_log_data\\1046467374.las\n",
      "Scanning file ./2017_kansas_log_data\\1046467378.las\n",
      "Scanning file ./2017_kansas_log_data\\1046467389.las\n",
      "Scanning file ./2017_kansas_log_data\\1046467396.las\n",
      "Scanning file ./2017_kansas_log_data\\1046467398.las\n",
      "Scanning file ./2017_kansas_log_data\\1046467402.las\n",
      "Scanning file ./2017_kansas_log_data\\1046472922.las\n",
      "Scanning file ./2017_kansas_log_data\\1046472927.las\n",
      "Scanning file ./2017_kansas_log_data\\1046472932.las\n",
      "Scanning file ./2017_kansas_log_data\\1046472936.las\n",
      "Scanning file ./2017_kansas_log_data\\1046472943.las\n",
      "Scanning file ./2017_kansas_log_data\\1046472956.las\n",
      "Scanning file ./2017_kansas_log_data\\1046472961.las\n",
      "Scanning file ./2017_kansas_log_data\\1046472965.las\n",
      "Scanning file ./2017_kansas_log_data\\1046472978.las\n",
      "Scanning file ./2017_kansas_log_data\\1046472984.las\n"
     ]
    },
    {
     "name": "stderr",
     "output_type": "stream",
     "text": [
      "Unable to parse line as LAS header: TLAB.                   04 00:  LogStartTimeT\n",
      "line 99 (section ~Parameter Information Block): \"TLAB.                   04 00:  LogStartTimeT\"\n"
     ]
    },
    {
     "name": "stdout",
     "output_type": "stream",
     "text": [
      "Scanning file ./2017_kansas_log_data\\1046473006.las\n",
      "Scanning file ./2017_kansas_log_data\\1046473010.las\n",
      "Scanning file ./2017_kansas_log_data\\1046473019.las\n",
      "Scanning file ./2017_kansas_log_data\\1046473021.las\n",
      "Scanning file ./2017_kansas_log_data\\1046473030.las\n",
      "Scanning file ./2017_kansas_log_data\\1046473031.las\n",
      "Scanning file ./2017_kansas_log_data\\1046473033.las\n"
     ]
    },
    {
     "name": "stderr",
     "output_type": "stream",
     "text": [
      "Header section Parameter regexp=~P was not found.\n"
     ]
    },
    {
     "name": "stdout",
     "output_type": "stream",
     "text": [
      "Scanning file ./2017_kansas_log_data\\1046473040.las\n",
      "Scanning file ./2017_kansas_log_data\\1046473046.las\n",
      "Scanning file ./2017_kansas_log_data\\1046473050.las\n"
     ]
    },
    {
     "name": "stderr",
     "output_type": "stream",
     "text": [
      "Header section Parameter regexp=~P was not found.\n"
     ]
    },
    {
     "name": "stdout",
     "output_type": "stream",
     "text": [
      "Scanning file ./2017_kansas_log_data\\1046473057.las\n",
      "Scanning file ./2017_kansas_log_data\\1046473059.las\n",
      "Scanning file ./2017_kansas_log_data\\1046473072.las\n",
      "Scanning file ./2017_kansas_log_data\\1046473079.las\n"
     ]
    },
    {
     "name": "stderr",
     "output_type": "stream",
     "text": [
      "Header section Parameter regexp=~P was not found.\n"
     ]
    },
    {
     "name": "stdout",
     "output_type": "stream",
     "text": [
      "Scanning file ./2017_kansas_log_data\\1046473085.las\n",
      "Scanning file ./2017_kansas_log_data\\1046473091.las\n",
      "Scanning file ./2017_kansas_log_data\\1046473096.las\n",
      "Scanning file ./2017_kansas_log_data\\1046473097.las\n",
      "Scanning file ./2017_kansas_log_data\\1046473104.las\n"
     ]
    },
    {
     "name": "stderr",
     "output_type": "stream",
     "text": [
      "Header section Parameter regexp=~P was not found.\n"
     ]
    },
    {
     "name": "stdout",
     "output_type": "stream",
     "text": [
      "Scanning file ./2017_kansas_log_data\\1046473106.las\n",
      "Scanning file ./2017_kansas_log_data\\1046473115.las\n"
     ]
    },
    {
     "name": "stderr",
     "output_type": "stream",
     "text": [
      "Header section Parameter regexp=~P was not found.\n"
     ]
    },
    {
     "name": "stdout",
     "output_type": "stream",
     "text": [
      "Scanning file ./2017_kansas_log_data\\1046473119.las\n"
     ]
    },
    {
     "name": "stderr",
     "output_type": "stream",
     "text": [
      "Header section Parameter regexp=~P was not found.\n"
     ]
    },
    {
     "name": "stdout",
     "output_type": "stream",
     "text": [
      "Scanning file ./2017_kansas_log_data\\1046473125.las\n",
      "Scanning file ./2017_kansas_log_data\\1046473132.las\n",
      "Scanning file ./2017_kansas_log_data\\1046473135.las\n",
      "Scanning file ./2017_kansas_log_data\\1046473142.las\n"
     ]
    },
    {
     "name": "stderr",
     "output_type": "stream",
     "text": [
      "Header section Parameter regexp=~P was not found.\n"
     ]
    },
    {
     "name": "stdout",
     "output_type": "stream",
     "text": [
      "Scanning file ./2017_kansas_log_data\\1046473149.las\n",
      "Scanning file ./2017_kansas_log_data\\1046473153.las\n",
      "Scanning file ./2017_kansas_log_data\\1046473158.las\n",
      "Scanning file ./2017_kansas_log_data\\1046480043.las\n",
      "Scanning file ./2017_kansas_log_data\\1046480048.las\n",
      "Scanning file ./2017_kansas_log_data\\1046480051.las\n",
      "Scanning file ./2017_kansas_log_data\\1046480055.las\n",
      "Scanning file ./2017_kansas_log_data\\1046480068.las\n",
      "Scanning file ./2017_kansas_log_data\\1046480100.las\n",
      "Scanning file ./2017_kansas_log_data\\1046480110.las\n",
      "Scanning file ./2017_kansas_log_data\\1046480136.las\n",
      "Scanning file ./2017_kansas_log_data\\1046480146.las\n"
     ]
    },
    {
     "name": "stderr",
     "output_type": "stream",
     "text": [
      "Header section Parameter regexp=~P was not found.\n"
     ]
    },
    {
     "name": "stdout",
     "output_type": "stream",
     "text": [
      "Scanning file ./2017_kansas_log_data\\1046480166.las\n",
      "Scanning file ./2017_kansas_log_data\\1046480171.las\n",
      "Scanning file ./2017_kansas_log_data\\1046480178.las\n",
      "Scanning file ./2017_kansas_log_data\\1046480183.las\n",
      "Scanning file ./2017_kansas_log_data\\1046480194.las\n",
      "Scanning file ./2017_kansas_log_data\\1046480198.las\n",
      "Scanning file ./2017_kansas_log_data\\1046480200.las\n",
      "Scanning file ./2017_kansas_log_data\\1046480201.las\n",
      "Scanning file ./2017_kansas_log_data\\1046480217.las\n",
      "Scanning file ./2017_kansas_log_data\\1046480222.las\n",
      "Scanning file ./2017_kansas_log_data\\1046480240.las\n",
      "Scanning file ./2017_kansas_log_data\\1046480257.las\n",
      "Scanning file ./2017_kansas_log_data\\1046480258.las\n"
     ]
    },
    {
     "name": "stderr",
     "output_type": "stream",
     "text": [
      "Unable to parse line as LAS header: TLAB.                   21 00:  LogStartTimeT\n",
      "line 109 (section ~Parameter Information Block): \"TLAB.                   21 00:  LogStartTimeT\"\n"
     ]
    },
    {
     "name": "stdout",
     "output_type": "stream",
     "text": [
      "Scanning file ./2017_kansas_log_data\\1046480325.las\n"
     ]
    },
    {
     "name": "stderr",
     "output_type": "stream",
     "text": [
      "Unable to parse line as LAS header: TLAB.                   21 00:  LogStartTimeT\n",
      "line 109 (section ~Parameter Information Block): \"TLAB.                   21 00:  LogStartTimeT\"\n"
     ]
    },
    {
     "name": "stdout",
     "output_type": "stream",
     "text": [
      "Scanning file ./2017_kansas_log_data\\1046480326.las\n",
      "Scanning file ./2017_kansas_log_data\\1046480337.las\n",
      "Scanning file ./2017_kansas_log_data\\1046480338.las\n"
     ]
    },
    {
     "name": "stderr",
     "output_type": "stream",
     "text": [
      "Header section Parameter regexp=~P was not found.\n"
     ]
    },
    {
     "name": "stdout",
     "output_type": "stream",
     "text": [
      "Scanning file ./2017_kansas_log_data\\1046480368.las\n",
      "Scanning file ./2017_kansas_log_data\\1046480385.las\n",
      "Scanning file ./2017_kansas_log_data\\1046480394.las\n",
      "Scanning file ./2017_kansas_log_data\\1046480395.las\n",
      "Scanning file ./2017_kansas_log_data\\1046480423.las\n",
      "Scanning file ./2017_kansas_log_data\\1046480424.las\n",
      "Scanning file ./2017_kansas_log_data\\1046480432.las\n",
      "Scanning file ./2017_kansas_log_data\\1046480458.las\n",
      "Scanning file ./2017_kansas_log_data\\1046480492.las\n",
      "Scanning file ./2017_kansas_log_data\\1046480531.las\n",
      "Scanning file ./2017_kansas_log_data\\1046480603.las\n"
     ]
    },
    {
     "name": "stderr",
     "output_type": "stream",
     "text": [
      "Unable to parse line as LAS header: TCS .                   22 00:  Time Ciculation Ended\n",
      "line 84 (section ~Parameter Information Block): \"TCS .                   22 00:  Time Ciculation Ended\"\n",
      "Unable to parse line as LAS header: TLAB.                   08 00:  LogStartTimeT\n",
      "line 86 (section ~Parameter Information Block): \"TLAB.                   08 00:  LogStartTimeT\"\n"
     ]
    },
    {
     "name": "stdout",
     "output_type": "stream",
     "text": [
      "Scanning file ./2017_kansas_log_data\\1046480619.las\n",
      "Scanning file ./2017_kansas_log_data\\1046486797.las\n",
      "Scanning file ./2017_kansas_log_data\\1046486802.las\n",
      "Scanning file ./2017_kansas_log_data\\1046486813.las\n",
      "Scanning file ./2017_kansas_log_data\\1046486817.las\n",
      "Scanning file ./2017_kansas_log_data\\1046486823.las\n",
      "Scanning file ./2017_kansas_log_data\\1046486836.las\n",
      "Scanning file ./2017_kansas_log_data\\1046486859.las\n",
      "Scanning file ./2017_kansas_log_data\\1046486866.las\n",
      "Scanning file ./2017_kansas_log_data\\1046486873.las\n",
      "Scanning file ./2017_kansas_log_data\\1046486874.las\n",
      "Scanning file ./2017_kansas_log_data\\1046486878.las\n",
      "Scanning file ./2017_kansas_log_data\\1046486886.las\n",
      "Scanning file ./2017_kansas_log_data\\1046486893.las\n",
      "Scanning file ./2017_kansas_log_data\\1046487020.las\n",
      "Scanning file ./2017_kansas_log_data\\1046488932.las\n"
     ]
    },
    {
     "name": "stderr",
     "output_type": "stream",
     "text": [
      "Header section Parameter regexp=~P was not found.\n"
     ]
    },
    {
     "name": "stdout",
     "output_type": "stream",
     "text": [
      "Scanning file ./2017_kansas_log_data\\1046488941.las\n",
      "Scanning file ./2017_kansas_log_data\\1046501653.las\n",
      "Scanning file ./2017_kansas_log_data\\1046501670.las\n",
      "Scanning file ./2017_kansas_log_data\\1046501673.las\n",
      "Scanning file ./2017_kansas_log_data\\1046501688.las\n",
      "Scanning file ./2017_kansas_log_data\\1046501696.las\n",
      "Scanning file ./2017_kansas_log_data\\1046501701.las\n",
      "Scanning file ./2017_kansas_log_data\\1046501704.las\n",
      "Scanning file ./2017_kansas_log_data\\1046501708.las\n",
      "Scanning file ./2017_kansas_log_data\\1046501714.las\n",
      "Scanning file ./2017_kansas_log_data\\1046501718.las\n",
      "Scanning file ./2017_kansas_log_data\\1046501724.las\n",
      "Scanning file ./2017_kansas_log_data\\1046501735.las\n",
      "Scanning file ./2017_kansas_log_data\\1046501744.las\n",
      "Scanning file ./2017_kansas_log_data\\1046501746.las\n",
      "Scanning file ./2017_kansas_log_data\\1046501765.las\n",
      "Scanning file ./2017_kansas_log_data\\1046501766.las\n",
      "Scanning file ./2017_kansas_log_data\\1046501771.las\n"
     ]
    },
    {
     "name": "stderr",
     "output_type": "stream",
     "text": [
      "Unable to parse line as LAS header: TCS .                   15 21:  Time Ciculation Ended\n",
      "line 95 (section ~Parameter Information Block): \"TCS .                   15 21:  Time Ciculation Ended\"\n"
     ]
    },
    {
     "name": "stdout",
     "output_type": "stream",
     "text": [
      "Scanning file ./2017_kansas_log_data\\1046501781.las\n"
     ]
    },
    {
     "name": "stderr",
     "output_type": "stream",
     "text": [
      "Header section Parameter regexp=~P was not found.\n"
     ]
    },
    {
     "name": "stdout",
     "output_type": "stream",
     "text": [
      "Scanning file ./2017_kansas_log_data\\1046501811.las\n",
      "Scanning file ./2017_kansas_log_data\\1046501822.las\n",
      "Scanning file ./2017_kansas_log_data\\1046501827.las\n",
      "Scanning file ./2017_kansas_log_data\\1046501834.las\n",
      "Scanning file ./2017_kansas_log_data\\1046501841.las\n"
     ]
    },
    {
     "name": "stderr",
     "output_type": "stream",
     "text": [
      "Header section Parameter regexp=~P was not found.\n"
     ]
    },
    {
     "name": "stdout",
     "output_type": "stream",
     "text": [
      "Scanning file ./2017_kansas_log_data\\1046501856.las\n",
      "Scanning file ./2017_kansas_log_data\\1046501883.las\n"
     ]
    },
    {
     "name": "stderr",
     "output_type": "stream",
     "text": [
      "Header section Parameter regexp=~P was not found.\n"
     ]
    },
    {
     "name": "stdout",
     "output_type": "stream",
     "text": [
      "Scanning file ./2017_kansas_log_data\\1046501885.las\n",
      "Scanning file ./2017_kansas_log_data\\1046501898.las\n",
      "Scanning file ./2017_kansas_log_data\\1046501904.las\n",
      "Scanning file ./2017_kansas_log_data\\1046501910.las\n",
      "Scanning file ./2017_kansas_log_data\\1046501911.las\n",
      "Scanning file ./2017_kansas_log_data\\1046501929.las\n",
      "Scanning file ./2017_kansas_log_data\\1046501945.las\n",
      "Scanning file ./2017_kansas_log_data\\1046501951.las\n",
      "Scanning file ./2017_kansas_log_data\\1046501952.las\n",
      "Scanning file ./2017_kansas_log_data\\1046501968.las\n"
     ]
    },
    {
     "name": "stderr",
     "output_type": "stream",
     "text": [
      "Header section Parameter regexp=~P was not found.\n"
     ]
    },
    {
     "name": "stdout",
     "output_type": "stream",
     "text": [
      "Scanning file ./2017_kansas_log_data\\1046501986.las\n",
      "Scanning file ./2017_kansas_log_data\\1046502009.las\n",
      "Scanning file ./2017_kansas_log_data\\1046502016.las\n",
      "Scanning file ./2017_kansas_log_data\\1046502019.las\n",
      "Scanning file ./2017_kansas_log_data\\1046502025.las\n",
      "Scanning file ./2017_kansas_log_data\\1046502032.las\n",
      "Scanning file ./2017_kansas_log_data\\1046502037.las\n"
     ]
    },
    {
     "name": "stderr",
     "output_type": "stream",
     "text": [
      "Header section Parameter regexp=~P was not found.\n"
     ]
    },
    {
     "name": "stdout",
     "output_type": "stream",
     "text": [
      "Scanning file ./2017_kansas_log_data\\1046502042.las\n",
      "Scanning file ./2017_kansas_log_data\\1046502045.las\n",
      "Scanning file ./2017_kansas_log_data\\1046502054.las\n",
      "Scanning file ./2017_kansas_log_data\\1046502057.las\n",
      "Scanning file ./2017_kansas_log_data\\1046502067.las\n",
      "Scanning file ./2017_kansas_log_data\\1046502069.las\n",
      "Scanning file ./2017_kansas_log_data\\1046502076.las\n",
      "Scanning file ./2017_kansas_log_data\\1046502079.las\n",
      "Scanning file ./2017_kansas_log_data\\1046502086.las\n",
      "Scanning file ./2017_kansas_log_data\\1046502087.las\n",
      "Scanning file ./2017_kansas_log_data\\1046502098.las\n",
      "Scanning file ./2017_kansas_log_data\\1046502101.las\n",
      "Scanning file ./2017_kansas_log_data\\1046502109.las\n",
      "Scanning file ./2017_kansas_log_data\\1046506088.las\n",
      "Scanning file ./2017_kansas_log_data\\1046506109.las\n",
      "Scanning file ./2017_kansas_log_data\\1046506112.las\n",
      "Scanning file ./2017_kansas_log_data\\1046506121.las\n",
      "Scanning file ./2017_kansas_log_data\\1046506123.las\n",
      "Scanning file ./2017_kansas_log_data\\1046506132.las\n",
      "Scanning file ./2017_kansas_log_data\\1046506141.las\n",
      "Scanning file ./2017_kansas_log_data\\1046506146.las\n",
      "Scanning file ./2017_kansas_log_data\\1046506152.las\n",
      "Scanning file ./2017_kansas_log_data\\1046506155.las\n",
      "Scanning file ./2017_kansas_log_data\\1046511209.las\n",
      "Scanning file ./2017_kansas_log_data\\1046511215.las\n",
      "Scanning file ./2017_kansas_log_data\\1046511248.las\n",
      "Scanning file ./2017_kansas_log_data\\1046511264.las\n",
      "Scanning file ./2017_kansas_log_data\\1046511268.las\n",
      "Scanning file ./2017_kansas_log_data\\1046511270.las\n",
      "Scanning file ./2017_kansas_log_data\\1046511279.las\n",
      "Scanning file ./2017_kansas_log_data\\1046511283.las\n",
      "Scanning file ./2017_kansas_log_data\\1046511287.las\n",
      "Scanning file ./2017_kansas_log_data\\1046511288.las\n",
      "Scanning file ./2017_kansas_log_data\\1046511300.las\n"
     ]
    },
    {
     "name": "stderr",
     "output_type": "stream",
     "text": [
      "Header section Parameter regexp=~P was not found.\n"
     ]
    },
    {
     "name": "stdout",
     "output_type": "stream",
     "text": [
      "Scanning file ./2017_kansas_log_data\\1046511313.las\n",
      "Scanning file ./2017_kansas_log_data\\1046511319.las\n",
      "Scanning file ./2017_kansas_log_data\\1046511331.las\n",
      "Scanning file ./2017_kansas_log_data\\1046511332.las\n",
      "Scanning file ./2017_kansas_log_data\\1046511338.las\n"
     ]
    },
    {
     "name": "stderr",
     "output_type": "stream",
     "text": [
      "Header section Parameter regexp=~P was not found.\n"
     ]
    },
    {
     "name": "stdout",
     "output_type": "stream",
     "text": [
      "Scanning file ./2017_kansas_log_data\\1046511345.las\n",
      "Scanning file ./2017_kansas_log_data\\1046517237.las\n",
      "Scanning file ./2017_kansas_log_data\\1046517251.las\n",
      "Scanning file ./2017_kansas_log_data\\1046517263.las\n",
      "Scanning file ./2017_kansas_log_data\\1046517294.las\n",
      "Scanning file ./2017_kansas_log_data\\1046517303.las\n",
      "Scanning file ./2017_kansas_log_data\\1046517308.las\n",
      "Scanning file ./2017_kansas_log_data\\1046517312.las\n",
      "Scanning file ./2017_kansas_log_data\\1046517335.las\n",
      "Scanning file ./2017_kansas_log_data\\1046517344.las\n",
      "Scanning file ./2017_kansas_log_data\\1046517362.las\n",
      "Scanning file ./2017_kansas_log_data\\1046517372.las\n",
      "Scanning file ./2017_kansas_log_data\\1046517393.las\n",
      "Scanning file ./2017_kansas_log_data\\1046517399.las\n",
      "Scanning file ./2017_kansas_log_data\\1046517408.las\n",
      "Scanning file ./2017_kansas_log_data\\1046517425.las\n",
      "Scanning file ./2017_kansas_log_data\\1046517432.las\n",
      "Scanning file ./2017_kansas_log_data\\1046517447.las\n",
      "Scanning file ./2017_kansas_log_data\\1046517448.las\n",
      "Scanning file ./2017_kansas_log_data\\1046517478.las\n"
     ]
    },
    {
     "name": "stderr",
     "output_type": "stream",
     "text": [
      "Header section Parameter regexp=~P was not found.\n"
     ]
    },
    {
     "name": "stdout",
     "output_type": "stream",
     "text": [
      "Scanning file ./2017_kansas_log_data\\1046517489.las\n",
      "Scanning file ./2017_kansas_log_data\\1046517491.las\n",
      "Scanning file ./2017_kansas_log_data\\1046517496.las\n",
      "Scanning file ./2017_kansas_log_data\\1046517512.las\n",
      "Scanning file ./2017_kansas_log_data\\1046517517.las\n",
      "Scanning file ./2017_kansas_log_data\\1046517519.las\n",
      "Scanning file ./2017_kansas_log_data\\1046517527.las\n",
      "Scanning file ./2017_kansas_log_data\\1046517530.las\n",
      "Scanning file ./2017_kansas_log_data\\1046517535.las\n",
      "Scanning file ./2017_kansas_log_data\\1046517537.las\n",
      "Scanning file ./2017_kansas_log_data\\1046517544.las\n",
      "Scanning file ./2017_kansas_log_data\\1046517547.las\n",
      "Scanning file ./2017_kansas_log_data\\1046517549.las\n",
      "Scanning file ./2017_kansas_log_data\\1046517558.las\n",
      "Scanning file ./2017_kansas_log_data\\1046517563.las\n",
      "Scanning file ./2017_kansas_log_data\\1046517567.las\n",
      "Scanning file ./2017_kansas_log_data\\1046517572.las\n",
      "Scanning file ./2017_kansas_log_data\\1046523517.las\n",
      "Scanning file ./2017_kansas_log_data\\1046523532.las\n",
      "Scanning file ./2017_kansas_log_data\\1046523540.las\n",
      "Scanning file ./2017_kansas_log_data\\1046523545.las\n",
      "Scanning file ./2017_kansas_log_data\\1046523552.las\n",
      "Scanning file ./2017_kansas_log_data\\1046523553.las\n",
      "Scanning file ./2017_kansas_log_data\\1046523569.las\n",
      "Scanning file ./2017_kansas_log_data\\1046523573.las\n",
      "Scanning file ./2017_kansas_log_data\\1046523577.las\n",
      "Scanning file ./2017_kansas_log_data\\1046523581.las\n",
      "Scanning file ./2017_kansas_log_data\\1046523584.las\n",
      "Scanning file ./2017_kansas_log_data\\1046523594.las\n",
      "Scanning file ./2017_kansas_log_data\\1046523605.las\n",
      "Scanning file ./2017_kansas_log_data\\1046523606.las\n",
      "Scanning file ./2017_kansas_log_data\\1046523613.las\n",
      "Scanning file ./2017_kansas_log_data\\1046523639.las\n",
      "Scanning file ./2017_kansas_log_data\\1046523697.las\n"
     ]
    },
    {
     "name": "stderr",
     "output_type": "stream",
     "text": [
      "Header section Parameter regexp=~P was not found.\n"
     ]
    },
    {
     "name": "stdout",
     "output_type": "stream",
     "text": [
      "Scanning file ./2017_kansas_log_data\\1046523707.las\n"
     ]
    },
    {
     "name": "stderr",
     "output_type": "stream",
     "text": [
      "Header section Parameter regexp=~P was not found.\n"
     ]
    },
    {
     "name": "stdout",
     "output_type": "stream",
     "text": [
      "Scanning file ./2017_kansas_log_data\\1046523710.las\n",
      "Scanning file ./2017_kansas_log_data\\1046523712.las\n",
      "Scanning file ./2017_kansas_log_data\\1046523737.las\n",
      "Scanning file ./2017_kansas_log_data\\1046523783.las\n",
      "Scanning file ./2017_kansas_log_data\\1046523793.las\n",
      "Scanning file ./2017_kansas_log_data\\1046523795.las\n",
      "Scanning file ./2017_kansas_log_data\\1046523811.las\n",
      "Scanning file ./2017_kansas_log_data\\1046523812.las\n",
      "Scanning file ./2017_kansas_log_data\\1046523823.las\n",
      "Scanning file ./2017_kansas_log_data\\1046523828.las\n",
      "Scanning file ./2017_kansas_log_data\\1046523829.las\n",
      "Scanning file ./2017_kansas_log_data\\1046523832.las\n",
      "Scanning file ./2017_kansas_log_data\\1046523837.las\n",
      "Scanning file ./2017_kansas_log_data\\1046523840.las\n",
      "Scanning file ./2017_kansas_log_data\\1046523844.las\n",
      "Scanning file ./2017_kansas_log_data\\1046523846.las\n",
      "Scanning file ./2017_kansas_log_data\\1046523848.las\n",
      "Scanning file ./2017_kansas_log_data\\1046523852.las\n",
      "Scanning file ./2017_kansas_log_data\\1046523853.las\n",
      "Scanning file ./2017_kansas_log_data\\1046523863.las\n",
      "Scanning file ./2017_kansas_log_data\\1046523866.las\n",
      "Scanning file ./2017_kansas_log_data\\1046523869.las\n",
      "Scanning file ./2017_kansas_log_data\\1046523872.las\n",
      "Scanning file ./2017_kansas_log_data\\1046523882.las\n",
      "Scanning file ./2017_kansas_log_data\\1046523901.las\n",
      "Scanning file ./2017_kansas_log_data\\1046523917.las\n",
      "Scanning file ./2017_kansas_log_data\\1046523928.las\n",
      "Scanning file ./2017_kansas_log_data\\1046523933.las\n",
      "Scanning file ./2017_kansas_log_data\\1046523937.las\n",
      "Scanning file ./2017_kansas_log_data\\1046523940.las\n",
      "Scanning file ./2017_kansas_log_data\\1046523948.las\n",
      "Scanning file ./2017_kansas_log_data\\1046523952.las\n",
      "Scanning file ./2017_kansas_log_data\\1046523958.las\n",
      "Scanning file ./2017_kansas_log_data\\1046523975.las\n",
      "Scanning file ./2017_kansas_log_data\\1046523983.las\n",
      "Scanning file ./2017_kansas_log_data\\1046530852.las\n",
      "Scanning file ./2017_kansas_log_data\\1046530861.las\n",
      "Scanning file ./2017_kansas_log_data\\1046530877.las\n",
      "Scanning file ./2017_kansas_log_data\\1046530883.las\n"
     ]
    },
    {
     "name": "stderr",
     "output_type": "stream",
     "text": [
      "Unable to parse line as LAS header: TSC .                   02 13:  Time Sin Circ\n",
      "line 105 (section ~Parameter Information Block): \"TSC .                   02 13:  Time Sin Circ\"\n"
     ]
    },
    {
     "name": "stdout",
     "output_type": "stream",
     "text": [
      "Scanning file ./2017_kansas_log_data\\1046530889.las\n"
     ]
    },
    {
     "name": "stderr",
     "output_type": "stream",
     "text": [
      "Unable to parse line as LAS header: TSC .                   02 13:  Time Sin Circ\n",
      "line 105 (section ~Parameter Information Block): \"TSC .                   02 13:  Time Sin Circ\"\n"
     ]
    },
    {
     "name": "stdout",
     "output_type": "stream",
     "text": [
      "Scanning file ./2017_kansas_log_data\\1046530890.las\n",
      "Scanning file ./2017_kansas_log_data\\1046530907.las\n",
      "Scanning file ./2017_kansas_log_data\\1046530916.las\n"
     ]
    },
    {
     "name": "stderr",
     "output_type": "stream",
     "text": [
      "Header section Parameter regexp=~P was not found.\n"
     ]
    },
    {
     "name": "stdout",
     "output_type": "stream",
     "text": [
      "Scanning file ./2017_kansas_log_data\\1046530935.las\n",
      "Scanning file ./2017_kansas_log_data\\1046530938.las\n",
      "Scanning file ./2017_kansas_log_data\\1046530946.las\n",
      "Scanning file ./2017_kansas_log_data\\1046530951.las\n",
      "Scanning file ./2017_kansas_log_data\\1046530952.las\n",
      "Scanning file ./2017_kansas_log_data\\1046530986.las\n",
      "Scanning file ./2017_kansas_log_data\\1046531020.las\n",
      "Scanning file ./2017_kansas_log_data\\1046531028.las\n",
      "Scanning file ./2017_kansas_log_data\\1046531033.las\n"
     ]
    },
    {
     "name": "stderr",
     "output_type": "stream",
     "text": [
      "Header section Parameter regexp=~P was not found.\n"
     ]
    },
    {
     "name": "stdout",
     "output_type": "stream",
     "text": [
      "Scanning file ./2017_kansas_log_data\\1046531045.las\n",
      "Scanning file ./2017_kansas_log_data\\1046531054.las\n",
      "Scanning file ./2017_kansas_log_data\\1046531059.las\n",
      "Scanning file ./2017_kansas_log_data\\1046531065.las\n",
      "Scanning file ./2017_kansas_log_data\\1046531066.las\n",
      "Scanning file ./2017_kansas_log_data\\1046531074.las\n",
      "Scanning file ./2017_kansas_log_data\\1046531088.las\n",
      "Scanning file ./2017_kansas_log_data\\1046531094.las\n",
      "Scanning file ./2017_kansas_log_data\\1046531098.las\n",
      "Scanning file ./2017_kansas_log_data\\1046531105.las\n",
      "Scanning file ./2017_kansas_log_data\\1046531106.las\n",
      "Scanning file ./2017_kansas_log_data\\1046531113.las\n",
      "Scanning file ./2017_kansas_log_data\\1046531116.las\n",
      "Scanning file ./2017_kansas_log_data\\1046531120.las\n",
      "Scanning file ./2017_kansas_log_data\\1046531121.las\n",
      "Number of files scanned = 886\n"
     ]
    }
   ],
   "source": [
    "dataframe = deeplogs.read_files_in(f_names, data_dir)"
   ]
  },
  {
   "cell_type": "code",
   "execution_count": 5,
   "metadata": {},
   "outputs": [
    {
     "data": {
      "text/html": [
       "<div>\n",
       "<style scoped>\n",
       "    .dataframe tbody tr th:only-of-type {\n",
       "        vertical-align: middle;\n",
       "    }\n",
       "\n",
       "    .dataframe tbody tr th {\n",
       "        vertical-align: top;\n",
       "    }\n",
       "\n",
       "    .dataframe thead th {\n",
       "        text-align: right;\n",
       "    }\n",
       "</style>\n",
       "<table border=\"1\" class=\"dataframe\">\n",
       "  <thead>\n",
       "    <tr style=\"text-align: right;\">\n",
       "      <th></th>\n",
       "      <th>ABHV</th>\n",
       "      <th>CNPOR</th>\n",
       "      <th>DCAL</th>\n",
       "      <th>DPOR</th>\n",
       "      <th>GR</th>\n",
       "      <th>RHOB</th>\n",
       "      <th>RHOC</th>\n",
       "      <th>RILD</th>\n",
       "      <th>RILM</th>\n",
       "      <th>RLL3</th>\n",
       "      <th>...</th>\n",
       "      <th>GRX</th>\n",
       "      <th>PHXN</th>\n",
       "      <th>LDENNX</th>\n",
       "      <th>LCORNX</th>\n",
       "      <th>PXRLLS</th>\n",
       "      <th>PECLNX</th>\n",
       "      <th>CASEOD</th>\n",
       "      <th>MATRXDEN</th>\n",
       "      <th>BTLT</th>\n",
       "      <th>BAZI</th>\n",
       "    </tr>\n",
       "  </thead>\n",
       "  <tbody>\n",
       "    <tr>\n",
       "      <th>0.00</th>\n",
       "      <td>NaN</td>\n",
       "      <td>NaN</td>\n",
       "      <td>NaN</td>\n",
       "      <td>NaN</td>\n",
       "      <td>1186.9237</td>\n",
       "      <td>NaN</td>\n",
       "      <td>NaN</td>\n",
       "      <td>4.2898</td>\n",
       "      <td>NaN</td>\n",
       "      <td>1992.6497</td>\n",
       "      <td>...</td>\n",
       "      <td>NaN</td>\n",
       "      <td>NaN</td>\n",
       "      <td>NaN</td>\n",
       "      <td>NaN</td>\n",
       "      <td>NaN</td>\n",
       "      <td>NaN</td>\n",
       "      <td>NaN</td>\n",
       "      <td>NaN</td>\n",
       "      <td>NaN</td>\n",
       "      <td>NaN</td>\n",
       "    </tr>\n",
       "    <tr>\n",
       "      <th>0.25</th>\n",
       "      <td>NaN</td>\n",
       "      <td>NaN</td>\n",
       "      <td>NaN</td>\n",
       "      <td>NaN</td>\n",
       "      <td>850.4949</td>\n",
       "      <td>NaN</td>\n",
       "      <td>NaN</td>\n",
       "      <td>100000.0000</td>\n",
       "      <td>NaN</td>\n",
       "      <td>1992.6497</td>\n",
       "      <td>...</td>\n",
       "      <td>NaN</td>\n",
       "      <td>NaN</td>\n",
       "      <td>NaN</td>\n",
       "      <td>NaN</td>\n",
       "      <td>NaN</td>\n",
       "      <td>NaN</td>\n",
       "      <td>NaN</td>\n",
       "      <td>NaN</td>\n",
       "      <td>NaN</td>\n",
       "      <td>NaN</td>\n",
       "    </tr>\n",
       "    <tr>\n",
       "      <th>0.50</th>\n",
       "      <td>NaN</td>\n",
       "      <td>NaN</td>\n",
       "      <td>NaN</td>\n",
       "      <td>NaN</td>\n",
       "      <td>633.5333</td>\n",
       "      <td>NaN</td>\n",
       "      <td>NaN</td>\n",
       "      <td>100000.0000</td>\n",
       "      <td>NaN</td>\n",
       "      <td>1992.6497</td>\n",
       "      <td>...</td>\n",
       "      <td>NaN</td>\n",
       "      <td>NaN</td>\n",
       "      <td>NaN</td>\n",
       "      <td>NaN</td>\n",
       "      <td>NaN</td>\n",
       "      <td>NaN</td>\n",
       "      <td>NaN</td>\n",
       "      <td>NaN</td>\n",
       "      <td>NaN</td>\n",
       "      <td>NaN</td>\n",
       "    </tr>\n",
       "    <tr>\n",
       "      <th>0.75</th>\n",
       "      <td>NaN</td>\n",
       "      <td>NaN</td>\n",
       "      <td>NaN</td>\n",
       "      <td>NaN</td>\n",
       "      <td>448.8241</td>\n",
       "      <td>NaN</td>\n",
       "      <td>NaN</td>\n",
       "      <td>100000.0000</td>\n",
       "      <td>NaN</td>\n",
       "      <td>1992.6497</td>\n",
       "      <td>...</td>\n",
       "      <td>NaN</td>\n",
       "      <td>NaN</td>\n",
       "      <td>NaN</td>\n",
       "      <td>NaN</td>\n",
       "      <td>NaN</td>\n",
       "      <td>NaN</td>\n",
       "      <td>NaN</td>\n",
       "      <td>NaN</td>\n",
       "      <td>NaN</td>\n",
       "      <td>NaN</td>\n",
       "    </tr>\n",
       "    <tr>\n",
       "      <th>1.00</th>\n",
       "      <td>NaN</td>\n",
       "      <td>NaN</td>\n",
       "      <td>NaN</td>\n",
       "      <td>NaN</td>\n",
       "      <td>311.7280</td>\n",
       "      <td>NaN</td>\n",
       "      <td>NaN</td>\n",
       "      <td>100000.0000</td>\n",
       "      <td>100000.0</td>\n",
       "      <td>1992.6497</td>\n",
       "      <td>...</td>\n",
       "      <td>NaN</td>\n",
       "      <td>NaN</td>\n",
       "      <td>NaN</td>\n",
       "      <td>NaN</td>\n",
       "      <td>NaN</td>\n",
       "      <td>NaN</td>\n",
       "      <td>NaN</td>\n",
       "      <td>NaN</td>\n",
       "      <td>NaN</td>\n",
       "      <td>NaN</td>\n",
       "    </tr>\n",
       "  </tbody>\n",
       "</table>\n",
       "<p>5 rows × 309 columns</p>\n",
       "</div>"
      ],
      "text/plain": [
       "      ABHV  CNPOR  DCAL  DPOR         GR  RHOB  RHOC         RILD      RILM  \\\n",
       "0.00   NaN    NaN   NaN   NaN  1186.9237   NaN   NaN       4.2898       NaN   \n",
       "0.25   NaN    NaN   NaN   NaN   850.4949   NaN   NaN  100000.0000       NaN   \n",
       "0.50   NaN    NaN   NaN   NaN   633.5333   NaN   NaN  100000.0000       NaN   \n",
       "0.75   NaN    NaN   NaN   NaN   448.8241   NaN   NaN  100000.0000       NaN   \n",
       "1.00   NaN    NaN   NaN   NaN   311.7280   NaN   NaN  100000.0000  100000.0   \n",
       "\n",
       "           RLL3  ...  GRX  PHXN  LDENNX  LCORNX  PXRLLS  PECLNX  CASEOD  \\\n",
       "0.00  1992.6497  ...  NaN   NaN     NaN     NaN     NaN     NaN     NaN   \n",
       "0.25  1992.6497  ...  NaN   NaN     NaN     NaN     NaN     NaN     NaN   \n",
       "0.50  1992.6497  ...  NaN   NaN     NaN     NaN     NaN     NaN     NaN   \n",
       "0.75  1992.6497  ...  NaN   NaN     NaN     NaN     NaN     NaN     NaN   \n",
       "1.00  1992.6497  ...  NaN   NaN     NaN     NaN     NaN     NaN     NaN   \n",
       "\n",
       "      MATRXDEN  BTLT  BAZI  \n",
       "0.00       NaN   NaN   NaN  \n",
       "0.25       NaN   NaN   NaN  \n",
       "0.50       NaN   NaN   NaN  \n",
       "0.75       NaN   NaN   NaN  \n",
       "1.00       NaN   NaN   NaN  \n",
       "\n",
       "[5 rows x 309 columns]"
      ]
     },
     "execution_count": 5,
     "metadata": {},
     "output_type": "execute_result"
    }
   ],
   "source": [
    "dataframe.head()"
   ]
  },
  {
   "cell_type": "code",
   "execution_count": 7,
   "metadata": {},
   "outputs": [
    {
     "name": "stdout",
     "output_type": "stream",
     "text": [
      "index             0\n",
      "ABHV        6998849\n",
      "CNPOR       5924528\n",
      "DCAL        3672237\n",
      "DPOR        3141102\n",
      "             ...   \n",
      "PECLNX      7371214\n",
      "CASEOD      7357590\n",
      "MATRXDEN    7357590\n",
      "BTLT        7364810\n",
      "BAZI        7364810\n",
      "Length: 310, dtype: int64\n"
     ]
    }
   ],
   "source": [
    "num_na = dataframe.isna().sum()\n",
    "print(num_na)"
   ]
  },
  {
   "cell_type": "code",
   "execution_count": 8,
   "metadata": {},
   "outputs": [
    {
     "name": "stdout",
     "output_type": "stream",
     "text": [
      "Index(['index', 'ABHV', 'CNPOR', 'DCAL', 'DPOR', 'GR', 'RHOB', 'RHOC', 'RILD',\n",
      "       'RILM',\n",
      "       ...\n",
      "       'GRX', 'PHXN', 'LDENNX', 'LCORNX', 'PXRLLS', 'PECLNX', 'CASEOD',\n",
      "       'MATRXDEN', 'BTLT', 'BAZI'],\n",
      "      dtype='object', length=310)\n",
      "[      0 6998849 5924528 3672237 3141102 1506686 3602640 3658467 2532999\n",
      " 2531476 2502910 3373339 1880873 7012194 7029665 7029642 4803902 5011813\n",
      " 6801551 4987433 6757538 3883658 3883098 4454457 4592452 6987804 5853579\n",
      " 5999064 5999059 7010731 6816753 7018330 7015512 7015512 7010745 7010808\n",
      " 7010741 7010745 7010731 7010716 7010731 7010731 7010811 7010811 7010811\n",
      " 7010811 7010811 7010811 7010811 7307202 7010811 7010811 7010811 7313305\n",
      " 7171018 7126627 7192752 7192752 7192752 7192752 7192752 7192752 7192752\n",
      " 7192752 7267915 7267915 7268415 7268415 7248970 7268415 7059348 7267915\n",
      " 7267915 7267915 7267915 7192752 7200988 6493761 7091192 7351397 7246704\n",
      " 7163408 6606606 6446572 6487959 6478051 6767696 6496549 6811302 6765716\n",
      " 6765717 6765718 6776323 6489902 6489902 6474900 7255112 6631229 6763429\n",
      " 7232343 7232343 6647460 6647460 6913987 6914005 6913870 6913890 6914150\n",
      " 6914150 7244227 7244227 7244227 6587941 6859875 6872595 6859590 6872364\n",
      " 6783631 7281206 7278617 7137862 7137796 7278708 7185595 7139566 7165183\n",
      " 7341834 7281264 7341839 7341828 7341836 7341830 7318044 7318044 6919833\n",
      " 7198886 7198886 7344465 7367923 7344218 7344465 7344214 7304901 7139706\n",
      " 7131824 7145164 7153785 7153785 7153785 7134924 7352280 7220971 7221009\n",
      " 7346401 7346401 6614474 6614474 6474875 6474897 7277427 7368399 7368407\n",
      " 7368407 7368407 7368407 7368407 7368407 7368407 7368407 7368407 7368407\n",
      " 7368407 7368407 7368407 7368407 7368407 7368407 7318776 7318776 7318776\n",
      " 7332986 7332986 7332986 7312803 7369871 7363326 7359047 7351826 7352062\n",
      " 7366491 7351864 7359194 7366591 7366623 7366625 7366623 7366590 7366578\n",
      " 7354356 7354356 7354356 7354356 7354356 7354356 7354356 7354356 7354356\n",
      " 7354356 7354356 7354356 7354356 7354356 7343614 7363978 7354356 7354356\n",
      " 7354305 7354305 7354305 7354665 7354305 7354305 7354305 7354620 7354621\n",
      " 7354621 7354305 7354305 7354305 7354305 7343546 7354620 7354620 7354305\n",
      " 7354305 7354305 7354668 7354620 7354668 7354305 7354620 7354620 7354666\n",
      " 7354621 7354620 7354305 7354305 7354305 7354355 7354305 7354666 7257796\n",
      " 7258382 7229914 7364755 7350310 7371775 7366534 7366536 7366530 7366368\n",
      " 7366368 7366368 7338514 7338514 7338514 7330289 7330289 7363437 7365108\n",
      " 7365108 7364115 7373750 7364111 7373750 7364261 7364250 7364234 7364758\n",
      " 7336935 7336935 7336935 7336935 7363249 7363249 7364711 7368071 7366374\n",
      " 7372246 7372246 7372225 7366002 7362322 7355456 7355438 7369029 7369031\n",
      " 7369031 7369031 7371269 7371304 7371269 7371214 7371214 7371214 7371214\n",
      " 7357590 7357590 7364810 7364810]\n"
     ]
    }
   ],
   "source": [
    "print(num_na.index)\n",
    "print(num_na.values)"
   ]
  },
  {
   "cell_type": "code",
   "execution_count": 9,
   "metadata": {},
   "outputs": [
    {
     "name": "stdout",
     "output_type": "stream",
     "text": [
      "index          0\n",
      "DCAL     3672237\n",
      "DPOR     3141102\n",
      "GR       1506686\n",
      "RHOB     3602640\n",
      "RHOC     3658467\n",
      "RILD     2532999\n",
      "RILM     2531476\n",
      "RLL3     2502910\n",
      "RXORT    3373339\n",
      "SP       1880873\n",
      "DT       4803902\n",
      "AVTX     3883658\n",
      "BVTX     3883098\n",
      "CILD     4454457\n",
      "CNLS     4592452\n",
      "dtype: int64\n"
     ]
    }
   ],
   "source": [
    "num_na_selected = num_na[num_na<len(dataframe)//1.5]\n",
    "print(num_na_selected)"
   ]
  },
  {
   "cell_type": "code",
   "execution_count": 10,
   "metadata": {},
   "outputs": [
    {
     "data": {
      "text/plain": [
       "['index',\n",
       " 'DCAL',\n",
       " 'DPOR',\n",
       " 'GR',\n",
       " 'RHOB',\n",
       " 'RHOC',\n",
       " 'RILD',\n",
       " 'RILM',\n",
       " 'RLL3',\n",
       " 'RXORT',\n",
       " 'SP',\n",
       " 'DT',\n",
       " 'AVTX',\n",
       " 'BVTX',\n",
       " 'CILD',\n",
       " 'CNLS']"
      ]
     },
     "execution_count": 10,
     "metadata": {},
     "output_type": "execute_result"
    }
   ],
   "source": [
    "list(num_na_selected.keys())"
   ]
  },
  {
   "cell_type": "code",
   "execution_count": 15,
   "metadata": {},
   "outputs": [
    {
     "name": "stdout",
     "output_type": "stream",
     "text": [
      "index             0\n",
      "ABHV        6998849\n",
      "CNPOR       5924528\n",
      "DCAL        3672237\n",
      "DPOR        3141102\n",
      "             ...   \n",
      "PECLNX      7371214\n",
      "CASEOD      7357590\n",
      "MATRXDEN    7357590\n",
      "BTLT        7364810\n",
      "BAZI        7364810\n",
      "Length: 310, dtype: int64\n"
     ]
    }
   ],
   "source": [
    "# now check na one more time\n",
    "num_na = dataframe.isna().sum()\n",
    "print(num_na)"
   ]
  },
  {
   "cell_type": "code",
   "execution_count": 17,
   "metadata": {},
   "outputs": [
    {
     "name": "stdout",
     "output_type": "stream",
     "text": [
      "index          0\n",
      "DCAL     3672237\n",
      "DPOR     3141102\n",
      "GR       1506686\n",
      "RHOB     3602640\n",
      "RHOC     3658467\n",
      "RILD     2532999\n",
      "RILM     2531476\n",
      "RLL3     2502910\n",
      "RXORT    3373339\n",
      "SP       1880873\n",
      "dtype: int64\n"
     ]
    }
   ],
   "source": [
    "num_na_selected = num_na[num_na<(len(dataframe)//2)]\n",
    "print(num_na_selected)"
   ]
  },
  {
   "cell_type": "code",
   "execution_count": 20,
   "metadata": {},
   "outputs": [
    {
     "ename": "MemoryError",
     "evalue": "Unable to allocate 56.3 MiB for an array with shape (1, 7373750) and data type float64",
     "output_type": "error",
     "traceback": [
      "\u001b[1;31m---------------------------------------------------------------------------\u001b[0m",
      "\u001b[1;31mMemoryError\u001b[0m                               Traceback (most recent call last)",
      "\u001b[1;32m<ipython-input-20-bb9025b8bbb0>\u001b[0m in \u001b[0;36m<module>\u001b[1;34m\u001b[0m\n\u001b[1;32m----> 1\u001b[1;33m \u001b[0mdataframe\u001b[0m \u001b[1;33m=\u001b[0m \u001b[0mdataframe\u001b[0m\u001b[1;33m.\u001b[0m\u001b[0mreset_index\u001b[0m\u001b[1;33m(\u001b[0m\u001b[1;33m)\u001b[0m\u001b[1;33m\u001b[0m\u001b[1;33m\u001b[0m\u001b[0m\n\u001b[0m\u001b[0;32m      2\u001b[0m \u001b[0mdf_droped\u001b[0m\u001b[1;33m.\u001b[0m\u001b[0mto_csv\u001b[0m\u001b[1;33m(\u001b[0m\u001b[1;34m'well_log_data_prepared.csv'\u001b[0m\u001b[1;33m,\u001b[0m\u001b[0mindex\u001b[0m\u001b[1;33m=\u001b[0m\u001b[1;32mTrue\u001b[0m\u001b[1;33m)\u001b[0m\u001b[1;33m\u001b[0m\u001b[1;33m\u001b[0m\u001b[0m\n",
      "\u001b[1;32mc:\\programdata\\anaconda3\\envs\\deeplearning\\lib\\site-packages\\pandas\\core\\frame.py\u001b[0m in \u001b[0;36mreset_index\u001b[1;34m(self, level, drop, inplace, col_level, col_fill)\u001b[0m\n\u001b[0;32m   4762\u001b[0m             \u001b[0mnew_obj\u001b[0m \u001b[1;33m=\u001b[0m \u001b[0mself\u001b[0m\u001b[1;33m\u001b[0m\u001b[1;33m\u001b[0m\u001b[0m\n\u001b[0;32m   4763\u001b[0m         \u001b[1;32melse\u001b[0m\u001b[1;33m:\u001b[0m\u001b[1;33m\u001b[0m\u001b[1;33m\u001b[0m\u001b[0m\n\u001b[1;32m-> 4764\u001b[1;33m             \u001b[0mnew_obj\u001b[0m \u001b[1;33m=\u001b[0m \u001b[0mself\u001b[0m\u001b[1;33m.\u001b[0m\u001b[0mcopy\u001b[0m\u001b[1;33m(\u001b[0m\u001b[1;33m)\u001b[0m\u001b[1;33m\u001b[0m\u001b[1;33m\u001b[0m\u001b[0m\n\u001b[0m\u001b[0;32m   4765\u001b[0m \u001b[1;33m\u001b[0m\u001b[0m\n\u001b[0;32m   4766\u001b[0m         \u001b[1;32mdef\u001b[0m \u001b[0m_maybe_casted_values\u001b[0m\u001b[1;33m(\u001b[0m\u001b[0mindex\u001b[0m\u001b[1;33m,\u001b[0m \u001b[0mlabels\u001b[0m\u001b[1;33m=\u001b[0m\u001b[1;32mNone\u001b[0m\u001b[1;33m)\u001b[0m\u001b[1;33m:\u001b[0m\u001b[1;33m\u001b[0m\u001b[1;33m\u001b[0m\u001b[0m\n",
      "\u001b[1;32mc:\\programdata\\anaconda3\\envs\\deeplearning\\lib\\site-packages\\pandas\\core\\generic.py\u001b[0m in \u001b[0;36mcopy\u001b[1;34m(self, deep)\u001b[0m\n\u001b[0;32m   5652\u001b[0m         \u001b[0mdtype\u001b[0m\u001b[1;33m:\u001b[0m \u001b[0mobject\u001b[0m\u001b[1;33m\u001b[0m\u001b[1;33m\u001b[0m\u001b[0m\n\u001b[0;32m   5653\u001b[0m         \"\"\"\n\u001b[1;32m-> 5654\u001b[1;33m         \u001b[0mdata\u001b[0m \u001b[1;33m=\u001b[0m \u001b[0mself\u001b[0m\u001b[1;33m.\u001b[0m\u001b[0m_mgr\u001b[0m\u001b[1;33m.\u001b[0m\u001b[0mcopy\u001b[0m\u001b[1;33m(\u001b[0m\u001b[0mdeep\u001b[0m\u001b[1;33m=\u001b[0m\u001b[0mdeep\u001b[0m\u001b[1;33m)\u001b[0m\u001b[1;33m\u001b[0m\u001b[1;33m\u001b[0m\u001b[0m\n\u001b[0m\u001b[0;32m   5655\u001b[0m         \u001b[0mself\u001b[0m\u001b[1;33m.\u001b[0m\u001b[0m_clear_item_cache\u001b[0m\u001b[1;33m(\u001b[0m\u001b[1;33m)\u001b[0m\u001b[1;33m\u001b[0m\u001b[1;33m\u001b[0m\u001b[0m\n\u001b[0;32m   5656\u001b[0m         \u001b[1;32mreturn\u001b[0m \u001b[0mself\u001b[0m\u001b[1;33m.\u001b[0m\u001b[0m_constructor\u001b[0m\u001b[1;33m(\u001b[0m\u001b[0mdata\u001b[0m\u001b[1;33m)\u001b[0m\u001b[1;33m.\u001b[0m\u001b[0m__finalize__\u001b[0m\u001b[1;33m(\u001b[0m\u001b[0mself\u001b[0m\u001b[1;33m,\u001b[0m \u001b[0mmethod\u001b[0m\u001b[1;33m=\u001b[0m\u001b[1;34m\"copy\"\u001b[0m\u001b[1;33m)\u001b[0m\u001b[1;33m\u001b[0m\u001b[1;33m\u001b[0m\u001b[0m\n",
      "\u001b[1;32mc:\\programdata\\anaconda3\\envs\\deeplearning\\lib\\site-packages\\pandas\\core\\internals\\managers.py\u001b[0m in \u001b[0;36mcopy\u001b[1;34m(self, deep)\u001b[0m\n\u001b[0;32m    773\u001b[0m             \u001b[0mnew_axes\u001b[0m \u001b[1;33m=\u001b[0m \u001b[0mlist\u001b[0m\u001b[1;33m(\u001b[0m\u001b[0mself\u001b[0m\u001b[1;33m.\u001b[0m\u001b[0maxes\u001b[0m\u001b[1;33m)\u001b[0m\u001b[1;33m\u001b[0m\u001b[1;33m\u001b[0m\u001b[0m\n\u001b[0;32m    774\u001b[0m \u001b[1;33m\u001b[0m\u001b[0m\n\u001b[1;32m--> 775\u001b[1;33m         \u001b[0mres\u001b[0m \u001b[1;33m=\u001b[0m \u001b[0mself\u001b[0m\u001b[1;33m.\u001b[0m\u001b[0mapply\u001b[0m\u001b[1;33m(\u001b[0m\u001b[1;34m\"copy\"\u001b[0m\u001b[1;33m,\u001b[0m \u001b[0mdeep\u001b[0m\u001b[1;33m=\u001b[0m\u001b[0mdeep\u001b[0m\u001b[1;33m)\u001b[0m\u001b[1;33m\u001b[0m\u001b[1;33m\u001b[0m\u001b[0m\n\u001b[0m\u001b[0;32m    776\u001b[0m         \u001b[0mres\u001b[0m\u001b[1;33m.\u001b[0m\u001b[0maxes\u001b[0m \u001b[1;33m=\u001b[0m \u001b[0mnew_axes\u001b[0m\u001b[1;33m\u001b[0m\u001b[1;33m\u001b[0m\u001b[0m\n\u001b[0;32m    777\u001b[0m         \u001b[1;32mreturn\u001b[0m \u001b[0mres\u001b[0m\u001b[1;33m\u001b[0m\u001b[1;33m\u001b[0m\u001b[0m\n",
      "\u001b[1;32mc:\\programdata\\anaconda3\\envs\\deeplearning\\lib\\site-packages\\pandas\\core\\internals\\managers.py\u001b[0m in \u001b[0;36mapply\u001b[1;34m(self, f, align_keys, **kwargs)\u001b[0m\n\u001b[0;32m    394\u001b[0m                 \u001b[0mapplied\u001b[0m \u001b[1;33m=\u001b[0m \u001b[0mb\u001b[0m\u001b[1;33m.\u001b[0m\u001b[0mapply\u001b[0m\u001b[1;33m(\u001b[0m\u001b[0mf\u001b[0m\u001b[1;33m,\u001b[0m \u001b[1;33m**\u001b[0m\u001b[0mkwargs\u001b[0m\u001b[1;33m)\u001b[0m\u001b[1;33m\u001b[0m\u001b[1;33m\u001b[0m\u001b[0m\n\u001b[0;32m    395\u001b[0m             \u001b[1;32melse\u001b[0m\u001b[1;33m:\u001b[0m\u001b[1;33m\u001b[0m\u001b[1;33m\u001b[0m\u001b[0m\n\u001b[1;32m--> 396\u001b[1;33m                 \u001b[0mapplied\u001b[0m \u001b[1;33m=\u001b[0m \u001b[0mgetattr\u001b[0m\u001b[1;33m(\u001b[0m\u001b[0mb\u001b[0m\u001b[1;33m,\u001b[0m \u001b[0mf\u001b[0m\u001b[1;33m)\u001b[0m\u001b[1;33m(\u001b[0m\u001b[1;33m**\u001b[0m\u001b[0mkwargs\u001b[0m\u001b[1;33m)\u001b[0m\u001b[1;33m\u001b[0m\u001b[1;33m\u001b[0m\u001b[0m\n\u001b[0m\u001b[0;32m    397\u001b[0m             \u001b[0mresult_blocks\u001b[0m \u001b[1;33m=\u001b[0m \u001b[0m_extend_blocks\u001b[0m\u001b[1;33m(\u001b[0m\u001b[0mapplied\u001b[0m\u001b[1;33m,\u001b[0m \u001b[0mresult_blocks\u001b[0m\u001b[1;33m)\u001b[0m\u001b[1;33m\u001b[0m\u001b[1;33m\u001b[0m\u001b[0m\n\u001b[0;32m    398\u001b[0m \u001b[1;33m\u001b[0m\u001b[0m\n",
      "\u001b[1;32mc:\\programdata\\anaconda3\\envs\\deeplearning\\lib\\site-packages\\pandas\\core\\internals\\blocks.py\u001b[0m in \u001b[0;36mcopy\u001b[1;34m(self, deep)\u001b[0m\n\u001b[0;32m    672\u001b[0m         \u001b[0mvalues\u001b[0m \u001b[1;33m=\u001b[0m \u001b[0mself\u001b[0m\u001b[1;33m.\u001b[0m\u001b[0mvalues\u001b[0m\u001b[1;33m\u001b[0m\u001b[1;33m\u001b[0m\u001b[0m\n\u001b[0;32m    673\u001b[0m         \u001b[1;32mif\u001b[0m \u001b[0mdeep\u001b[0m\u001b[1;33m:\u001b[0m\u001b[1;33m\u001b[0m\u001b[1;33m\u001b[0m\u001b[0m\n\u001b[1;32m--> 674\u001b[1;33m             \u001b[0mvalues\u001b[0m \u001b[1;33m=\u001b[0m \u001b[0mvalues\u001b[0m\u001b[1;33m.\u001b[0m\u001b[0mcopy\u001b[0m\u001b[1;33m(\u001b[0m\u001b[1;33m)\u001b[0m\u001b[1;33m\u001b[0m\u001b[1;33m\u001b[0m\u001b[0m\n\u001b[0m\u001b[0;32m    675\u001b[0m         \u001b[1;32mreturn\u001b[0m \u001b[0mself\u001b[0m\u001b[1;33m.\u001b[0m\u001b[0mmake_block_same_class\u001b[0m\u001b[1;33m(\u001b[0m\u001b[0mvalues\u001b[0m\u001b[1;33m,\u001b[0m \u001b[0mndim\u001b[0m\u001b[1;33m=\u001b[0m\u001b[0mself\u001b[0m\u001b[1;33m.\u001b[0m\u001b[0mndim\u001b[0m\u001b[1;33m)\u001b[0m\u001b[1;33m\u001b[0m\u001b[1;33m\u001b[0m\u001b[0m\n\u001b[0;32m    676\u001b[0m \u001b[1;33m\u001b[0m\u001b[0m\n",
      "\u001b[1;31mMemoryError\u001b[0m: Unable to allocate 56.3 MiB for an array with shape (1, 7373750) and data type float64"
     ]
    }
   ],
   "source": [
    "dataframe = dataframe.reset_index()\n",
    "df_droped.to_csv('well_log_data_prepared.csv',index=True)"
   ]
  },
  {
   "cell_type": "code",
   "execution_count": 66,
   "metadata": {},
   "outputs": [
    {
     "data": {
      "text/html": [
       "<div>\n",
       "<style scoped>\n",
       "    .dataframe tbody tr th:only-of-type {\n",
       "        vertical-align: middle;\n",
       "    }\n",
       "\n",
       "    .dataframe tbody tr th {\n",
       "        vertical-align: top;\n",
       "    }\n",
       "\n",
       "    .dataframe thead th {\n",
       "        text-align: right;\n",
       "    }\n",
       "</style>\n",
       "<table border=\"1\" class=\"dataframe\">\n",
       "  <thead>\n",
       "    <tr style=\"text-align: right;\">\n",
       "      <th></th>\n",
       "      <th>index</th>\n",
       "      <th>DCAL</th>\n",
       "      <th>DPOR</th>\n",
       "      <th>GR</th>\n",
       "      <th>RHOB</th>\n",
       "      <th>RHOC</th>\n",
       "      <th>RILD</th>\n",
       "      <th>RILM</th>\n",
       "      <th>RLL3</th>\n",
       "      <th>RXORT</th>\n",
       "      <th>SP</th>\n",
       "      <th>AVTX</th>\n",
       "      <th>BVTX</th>\n",
       "    </tr>\n",
       "  </thead>\n",
       "  <tbody>\n",
       "    <tr>\n",
       "      <th>0</th>\n",
       "      <td>2100.0</td>\n",
       "      <td>10.7312</td>\n",
       "      <td>12.1726</td>\n",
       "      <td>98.9759</td>\n",
       "      <td>2.5018</td>\n",
       "      <td>-0.0456</td>\n",
       "      <td>3.0742</td>\n",
       "      <td>3.0693</td>\n",
       "      <td>4.0018</td>\n",
       "      <td>-10.3073</td>\n",
       "      <td>46.4134</td>\n",
       "      <td>0.0</td>\n",
       "      <td>0.0</td>\n",
       "    </tr>\n",
       "    <tr>\n",
       "      <th>1</th>\n",
       "      <td>2100.5</td>\n",
       "      <td>10.7148</td>\n",
       "      <td>12.6696</td>\n",
       "      <td>95.1823</td>\n",
       "      <td>2.4934</td>\n",
       "      <td>-0.0501</td>\n",
       "      <td>3.0771</td>\n",
       "      <td>3.0716</td>\n",
       "      <td>3.9313</td>\n",
       "      <td>-9.5754</td>\n",
       "      <td>46.4476</td>\n",
       "      <td>0.0</td>\n",
       "      <td>0.0</td>\n",
       "    </tr>\n",
       "    <tr>\n",
       "      <th>2</th>\n",
       "      <td>2101.0</td>\n",
       "      <td>10.7219</td>\n",
       "      <td>13.1748</td>\n",
       "      <td>93.7481</td>\n",
       "      <td>2.4847</td>\n",
       "      <td>-0.0564</td>\n",
       "      <td>3.0770</td>\n",
       "      <td>3.0827</td>\n",
       "      <td>3.9743</td>\n",
       "      <td>-10.0016</td>\n",
       "      <td>46.1740</td>\n",
       "      <td>0.0</td>\n",
       "      <td>0.0</td>\n",
       "    </tr>\n",
       "    <tr>\n",
       "      <th>3</th>\n",
       "      <td>2101.5</td>\n",
       "      <td>10.7586</td>\n",
       "      <td>13.5641</td>\n",
       "      <td>95.7464</td>\n",
       "      <td>2.4781</td>\n",
       "      <td>-0.0624</td>\n",
       "      <td>3.0796</td>\n",
       "      <td>3.0846</td>\n",
       "      <td>3.9712</td>\n",
       "      <td>-9.9387</td>\n",
       "      <td>45.4530</td>\n",
       "      <td>0.0</td>\n",
       "      <td>0.0</td>\n",
       "    </tr>\n",
       "    <tr>\n",
       "      <th>4</th>\n",
       "      <td>2102.0</td>\n",
       "      <td>10.7664</td>\n",
       "      <td>13.7536</td>\n",
       "      <td>101.3028</td>\n",
       "      <td>2.4748</td>\n",
       "      <td>-0.0665</td>\n",
       "      <td>3.0884</td>\n",
       "      <td>3.0917</td>\n",
       "      <td>3.8802</td>\n",
       "      <td>-8.9208</td>\n",
       "      <td>44.5401</td>\n",
       "      <td>0.0</td>\n",
       "      <td>0.0</td>\n",
       "    </tr>\n",
       "  </tbody>\n",
       "</table>\n",
       "</div>"
      ],
      "text/plain": [
       "    index     DCAL     DPOR        GR    RHOB    RHOC    RILD    RILM    RLL3  \\\n",
       "0  2100.0  10.7312  12.1726   98.9759  2.5018 -0.0456  3.0742  3.0693  4.0018   \n",
       "1  2100.5  10.7148  12.6696   95.1823  2.4934 -0.0501  3.0771  3.0716  3.9313   \n",
       "2  2101.0  10.7219  13.1748   93.7481  2.4847 -0.0564  3.0770  3.0827  3.9743   \n",
       "3  2101.5  10.7586  13.5641   95.7464  2.4781 -0.0624  3.0796  3.0846  3.9712   \n",
       "4  2102.0  10.7664  13.7536  101.3028  2.4748 -0.0665  3.0884  3.0917  3.8802   \n",
       "\n",
       "     RXORT       SP  AVTX  BVTX  \n",
       "0 -10.3073  46.4134   0.0   0.0  \n",
       "1  -9.5754  46.4476   0.0   0.0  \n",
       "2 -10.0016  46.1740   0.0   0.0  \n",
       "3  -9.9387  45.4530   0.0   0.0  \n",
       "4  -8.9208  44.5401   0.0   0.0  "
      ]
     },
     "execution_count": 66,
     "metadata": {},
     "output_type": "execute_result"
    }
   ],
   "source": [
    "df_droped.head()"
   ]
  },
  {
   "cell_type": "code",
   "execution_count": null,
   "metadata": {},
   "outputs": [],
   "source": []
  }
 ],
 "metadata": {
  "kernelspec": {
   "display_name": "Python 3",
   "language": "python",
   "name": "python3"
  },
  "language_info": {
   "codemirror_mode": {
    "name": "ipython",
    "version": 3
   },
   "file_extension": ".py",
   "mimetype": "text/x-python",
   "name": "python",
   "nbconvert_exporter": "python",
   "pygments_lexer": "ipython3",
   "version": "3.6.10"
  }
 },
 "nbformat": 4,
 "nbformat_minor": 4
}
